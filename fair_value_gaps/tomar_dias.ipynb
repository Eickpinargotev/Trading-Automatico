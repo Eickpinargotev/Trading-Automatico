{
 "cells": [
  {
   "cell_type": "code",
   "execution_count": 2,
   "metadata": {},
   "outputs": [],
   "source": [
    "import pandas as pd\n",
    "import numpy as np\n",
    "\n",
    "from Utils.DataLoader import DataProcessor\n",
    "from Utils.StrategyManager import ApplyStrategy, StrategyMetrics\n",
    "\n",
    "from plotly.subplots import make_subplots\n",
    "import plotly.graph_objects as go\n",
    "\n"
   ]
  },
  {
   "cell_type": "code",
   "execution_count": 3,
   "metadata": {},
   "outputs": [
    {
     "name": "stdout",
     "output_type": "stream",
     "text": [
      "Duplicated index found. Removing duplicates...\n"
     ]
    }
   ],
   "source": [
    "Timezone='Europe/Helsinki'#('Europe/Helsinki')('America/Guayaquil') ORIGEN DE LOS DATOS\n",
    "timezone_destino='America/New_York'#Destino de los datos\n",
    "\n",
    "data=DataProcessor('backtest_data/US30.cash_data_m5.csv',timezone=Timezone,timezone_destino=timezone_destino)\n",
    "data.data_processing(hours=list(range(8, 16)),body=True)\n",
    "df=data.data#.loc['2024-8-1':'2024-11-1']"
   ]
  },
  {
   "cell_type": "code",
   "execution_count": 4,
   "metadata": {},
   "outputs": [],
   "source": [
    "def fvg_seeker(df):\n",
    "    df_test = df.copy()\n",
    "    # mechas de vela adelante\n",
    "    df_test['low_1'] = df_test['low'].shift(1)\n",
    "    df_test['high_1'] = df_test['high'].shift(1)\n",
    "    df_test['body_1'] = df_test['body'].shift(1)\n",
    "    # mechas de vela y cuerpo atrás\n",
    "    df_test['low_-1'] = df_test['low'].shift(-1)\n",
    "    df_test['high_-1'] = df_test['high'].shift(-1)\n",
    "    df_test['body_-1'] = df_test['body'].shift(-1)\n",
    "    # Calculos\n",
    "    def body(row):\n",
    "        body=np.nan\n",
    "        price=np.nan\n",
    "        if (row['body_-1'] > 4) and (row['body'] > 5) and (row['body_1']> 4):# row['body'] > 6 indica que la vela del centro tenga al menos 6 pips de cuerpo\n",
    "            resta_arriba=0\n",
    "            resta_abajo=0\n",
    "            if row['low_-1']<row['close']:\n",
    "                resta_arriba+=row['close']-row['low_-1']\n",
    "            if row['high_1']>row['open']:\n",
    "                resta_abajo+=row['high_1']-row['open']\n",
    "            body=abs(row['body'])-(resta_arriba+resta_abajo)\n",
    "            price=row['close']-resta_arriba-(body/2)\n",
    "        elif (row['body_-1'] < -4) and (row['body'] < -5) and (row['body_1']<-4):\n",
    "            resta_arriba=0\n",
    "            resta_abajo=0\n",
    "            if row['high_-1']>row['close']:\n",
    "                resta_abajo+=row['high_-1']-row['close']\n",
    "            if row['low_1']<row['open']:\n",
    "                resta_arriba+=row['open']-row['low_1']\n",
    "            body=abs(row['body'])-(resta_arriba+resta_abajo)\n",
    "            price=row['close']+resta_abajo+(body/2)\n",
    "        return body,price\n",
    "    df_test[['fvg_body','fvg_price']]=df_test.apply(lambda row: pd.Series(body(row)),axis=1)\n",
    "    # creamos columnas caracteristicas\n",
    "    df_test['porcentaje_fvg']=np.nan\n",
    "    mask_bullish_fvg=(df_test['body_1']>4) & (df_test['body']>5) & (df_test['body_-1']>4) & (df_test['fvg_body']>=4)\n",
    "    mask_bearish_fvg=(df_test['body_1']<-4) & (df_test['body']<-5) & (df_test['body_-1']<-4) & (df_test['fvg_body']>=4)\n",
    "    df_test.loc[mask_bullish_fvg|mask_bearish_fvg,'porcentaje_fvg']=df_test['fvg_body']/abs(df_test['body'])\n",
    "    # Conticiones para fvg\n",
    "    df_test.loc[mask_bullish_fvg & (df_test['porcentaje_fvg']>0.3),'fvg']=1\n",
    "    df_test.loc[mask_bearish_fvg & (df_test['porcentaje_fvg']>0.3),'fvg']=-1\n",
    "    # Eliminamos las columnas auxiliares\n",
    "    #df_test.drop(['low_1','high_1','low_-1','high_-1','body_1','body_-1'],axis=1,inplace=True)\n",
    "    return df_test\n",
    "df2 = fvg_seeker(df)"
   ]
  },
  {
   "cell_type": "code",
   "execution_count": 5,
   "metadata": {},
   "outputs": [
    {
     "data": {
      "text/html": [
       "<div>\n",
       "<style scoped>\n",
       "    .dataframe tbody tr th:only-of-type {\n",
       "        vertical-align: middle;\n",
       "    }\n",
       "\n",
       "    .dataframe tbody tr th {\n",
       "        vertical-align: top;\n",
       "    }\n",
       "\n",
       "    .dataframe thead th {\n",
       "        text-align: right;\n",
       "    }\n",
       "</style>\n",
       "<table border=\"1\" class=\"dataframe\">\n",
       "  <thead>\n",
       "    <tr style=\"text-align: right;\">\n",
       "      <th></th>\n",
       "      <th>open</th>\n",
       "      <th>high</th>\n",
       "      <th>low</th>\n",
       "      <th>close</th>\n",
       "      <th>body</th>\n",
       "      <th>low_1</th>\n",
       "      <th>high_1</th>\n",
       "      <th>body_1</th>\n",
       "      <th>low_-1</th>\n",
       "      <th>high_-1</th>\n",
       "      <th>body_-1</th>\n",
       "      <th>fvg_body</th>\n",
       "      <th>fvg_price</th>\n",
       "      <th>porcentaje_fvg</th>\n",
       "      <th>fvg</th>\n",
       "    </tr>\n",
       "    <tr>\n",
       "      <th>time</th>\n",
       "      <th></th>\n",
       "      <th></th>\n",
       "      <th></th>\n",
       "      <th></th>\n",
       "      <th></th>\n",
       "      <th></th>\n",
       "      <th></th>\n",
       "      <th></th>\n",
       "      <th></th>\n",
       "      <th></th>\n",
       "      <th></th>\n",
       "      <th></th>\n",
       "      <th></th>\n",
       "      <th></th>\n",
       "      <th></th>\n",
       "    </tr>\n",
       "  </thead>\n",
       "  <tbody>\n",
       "    <tr>\n",
       "      <th>2023-09-01 08:00:00</th>\n",
       "      <td>34861.7</td>\n",
       "      <td>34870.7</td>\n",
       "      <td>34856.8</td>\n",
       "      <td>34868.2</td>\n",
       "      <td>6.5</td>\n",
       "      <td>NaN</td>\n",
       "      <td>NaN</td>\n",
       "      <td>NaN</td>\n",
       "      <td>34866.2</td>\n",
       "      <td>34884.3</td>\n",
       "      <td>12.1</td>\n",
       "      <td>NaN</td>\n",
       "      <td>NaN</td>\n",
       "      <td>NaN</td>\n",
       "      <td>NaN</td>\n",
       "    </tr>\n",
       "    <tr>\n",
       "      <th>2023-09-01 08:05:00</th>\n",
       "      <td>34868.2</td>\n",
       "      <td>34884.3</td>\n",
       "      <td>34866.2</td>\n",
       "      <td>34880.3</td>\n",
       "      <td>12.1</td>\n",
       "      <td>34856.8</td>\n",
       "      <td>34870.7</td>\n",
       "      <td>6.5</td>\n",
       "      <td>34860.2</td>\n",
       "      <td>34881.3</td>\n",
       "      <td>-19.1</td>\n",
       "      <td>NaN</td>\n",
       "      <td>NaN</td>\n",
       "      <td>NaN</td>\n",
       "      <td>NaN</td>\n",
       "    </tr>\n",
       "    <tr>\n",
       "      <th>2023-09-01 08:10:00</th>\n",
       "      <td>34879.3</td>\n",
       "      <td>34881.3</td>\n",
       "      <td>34860.2</td>\n",
       "      <td>34860.2</td>\n",
       "      <td>-19.1</td>\n",
       "      <td>34866.2</td>\n",
       "      <td>34884.3</td>\n",
       "      <td>12.1</td>\n",
       "      <td>34848.2</td>\n",
       "      <td>34864.2</td>\n",
       "      <td>-10.0</td>\n",
       "      <td>NaN</td>\n",
       "      <td>NaN</td>\n",
       "      <td>NaN</td>\n",
       "      <td>NaN</td>\n",
       "    </tr>\n",
       "    <tr>\n",
       "      <th>2023-09-01 08:15:00</th>\n",
       "      <td>34861.2</td>\n",
       "      <td>34864.2</td>\n",
       "      <td>34848.2</td>\n",
       "      <td>34851.2</td>\n",
       "      <td>-10.0</td>\n",
       "      <td>34860.2</td>\n",
       "      <td>34881.3</td>\n",
       "      <td>-19.1</td>\n",
       "      <td>34846.1</td>\n",
       "      <td>34863.2</td>\n",
       "      <td>11.5</td>\n",
       "      <td>NaN</td>\n",
       "      <td>NaN</td>\n",
       "      <td>NaN</td>\n",
       "      <td>NaN</td>\n",
       "    </tr>\n",
       "    <tr>\n",
       "      <th>2023-09-01 08:20:00</th>\n",
       "      <td>34849.7</td>\n",
       "      <td>34863.2</td>\n",
       "      <td>34846.1</td>\n",
       "      <td>34861.2</td>\n",
       "      <td>11.5</td>\n",
       "      <td>34848.2</td>\n",
       "      <td>34864.2</td>\n",
       "      <td>-10.0</td>\n",
       "      <td>34848.2</td>\n",
       "      <td>34860.7</td>\n",
       "      <td>-5.0</td>\n",
       "      <td>NaN</td>\n",
       "      <td>NaN</td>\n",
       "      <td>NaN</td>\n",
       "      <td>NaN</td>\n",
       "    </tr>\n",
       "  </tbody>\n",
       "</table>\n",
       "</div>"
      ],
      "text/plain": [
       "                        open     high      low    close  body    low_1  \\\n",
       "time                                                                     \n",
       "2023-09-01 08:00:00  34861.7  34870.7  34856.8  34868.2   6.5      NaN   \n",
       "2023-09-01 08:05:00  34868.2  34884.3  34866.2  34880.3  12.1  34856.8   \n",
       "2023-09-01 08:10:00  34879.3  34881.3  34860.2  34860.2 -19.1  34866.2   \n",
       "2023-09-01 08:15:00  34861.2  34864.2  34848.2  34851.2 -10.0  34860.2   \n",
       "2023-09-01 08:20:00  34849.7  34863.2  34846.1  34861.2  11.5  34848.2   \n",
       "\n",
       "                      high_1  body_1   low_-1  high_-1  body_-1  fvg_body  \\\n",
       "time                                                                        \n",
       "2023-09-01 08:00:00      NaN     NaN  34866.2  34884.3     12.1       NaN   \n",
       "2023-09-01 08:05:00  34870.7     6.5  34860.2  34881.3    -19.1       NaN   \n",
       "2023-09-01 08:10:00  34884.3    12.1  34848.2  34864.2    -10.0       NaN   \n",
       "2023-09-01 08:15:00  34881.3   -19.1  34846.1  34863.2     11.5       NaN   \n",
       "2023-09-01 08:20:00  34864.2   -10.0  34848.2  34860.7     -5.0       NaN   \n",
       "\n",
       "                     fvg_price  porcentaje_fvg  fvg  \n",
       "time                                                 \n",
       "2023-09-01 08:00:00        NaN             NaN  NaN  \n",
       "2023-09-01 08:05:00        NaN             NaN  NaN  \n",
       "2023-09-01 08:10:00        NaN             NaN  NaN  \n",
       "2023-09-01 08:15:00        NaN             NaN  NaN  \n",
       "2023-09-01 08:20:00        NaN             NaN  NaN  "
      ]
     },
     "execution_count": 5,
     "metadata": {},
     "output_type": "execute_result"
    }
   ],
   "source": [
    "df2.head(5)"
   ]
  },
  {
   "cell_type": "code",
   "execution_count": 5,
   "metadata": {},
   "outputs": [
    {
     "name": "stdout",
     "output_type": "stream",
     "text": [
      "\n",
      "==================================================\n",
      "             Resumen de la Estrategia             \n",
      "==================================================\n",
      "Capital Inicial          :           $10,000.00\n",
      "Capital Final            :            $9,750.48\n",
      "Drawdown Máximo          :              -38.14%\n",
      "Drawdown Técnico Máximo  :   20.399999999999977\n",
      "Drawdown Recovery Time   :             362 días\n",
      "Operaciones Ganadas      :                   95\n",
      "Operaciones Perdidas     :                  269\n",
      "Operaciones Timelimit    : 7:  $1,000.48 / $0.00\n",
      "Operaciones BE           :             0: $0.00\n",
      "Total de Operaciones     :                  371\n",
      "Win Rate                 :               26.10%\n",
      "VaR al 95% (ME)          :           $-1,097.50\n",
      "Ratio de Sortino         :              -0.0756\n",
      "Ratio de Sharpe          :              -0.0438\n",
      "Expectativa Matemática   : $-3.43 por operación\n",
      "==================================================\n",
      "\n"
     ]
    },
    {
     "data": {
      "image/png": "[encoded data removed]",
      "text/plain": [
       "<Figure size 1800x3600 with 4 Axes>"
      ]
     },
     "metadata": {},
     "output_type": "display_data"
    }
   ],
   "source": [
    "strategy=ApplyStrategy(df2) \n",
    "strategy.set_operations(SL=31, TP_multiplier=2.7, start_timeH=8, delta_hour=4,reverse=False)\n",
    "strategy.get_results(BE = {'enable': False, 'set': 1.5, 'BE_tp': 0.4})\n",
    "Metris=StrategyMetrics(df_filt=strategy.OnlyOPs, risk_per_trade=1, inicial_balance=10000)\n",
    "Metris.get_resume()"
   ]
  },
  {
   "cell_type": "code",
   "execution_count": 6,
   "metadata": {},
   "outputs": [
    {
     "data": {
      "text/html": [
       "<div>\n",
       "<style scoped>\n",
       "    .dataframe tbody tr th:only-of-type {\n",
       "        vertical-align: middle;\n",
       "    }\n",
       "\n",
       "    .dataframe tbody tr th {\n",
       "        vertical-align: top;\n",
       "    }\n",
       "\n",
       "    .dataframe thead th {\n",
       "        text-align: right;\n",
       "    }\n",
       "</style>\n",
       "<table border=\"1\" class=\"dataframe\">\n",
       "  <thead>\n",
       "    <tr style=\"text-align: right;\">\n",
       "      <th></th>\n",
       "      <th>open</th>\n",
       "      <th>high</th>\n",
       "      <th>low</th>\n",
       "      <th>close</th>\n",
       "      <th>body</th>\n",
       "      <th>fvg_body</th>\n",
       "      <th>fvg_price</th>\n",
       "      <th>porcentaje_fvg</th>\n",
       "      <th>fvg</th>\n",
       "      <th>OP</th>\n",
       "      <th>SL</th>\n",
       "      <th>TP</th>\n",
       "      <th>TP_Multiplier</th>\n",
       "      <th>open_price</th>\n",
       "      <th>Result</th>\n",
       "      <th>time_result</th>\n",
       "      <th>pips_driven</th>\n",
       "    </tr>\n",
       "    <tr>\n",
       "      <th>time</th>\n",
       "      <th></th>\n",
       "      <th></th>\n",
       "      <th></th>\n",
       "      <th></th>\n",
       "      <th></th>\n",
       "      <th></th>\n",
       "      <th></th>\n",
       "      <th></th>\n",
       "      <th></th>\n",
       "      <th></th>\n",
       "      <th></th>\n",
       "      <th></th>\n",
       "      <th></th>\n",
       "      <th></th>\n",
       "      <th></th>\n",
       "      <th></th>\n",
       "      <th></th>\n",
       "    </tr>\n",
       "  </thead>\n",
       "  <tbody>\n",
       "    <tr>\n",
       "      <th>2023-09-01 11:00:00</th>\n",
       "      <td>34832.7</td>\n",
       "      <td>34847.7</td>\n",
       "      <td>34821.2</td>\n",
       "      <td>34828.2</td>\n",
       "      <td>-4.5</td>\n",
       "      <td>NaN</td>\n",
       "      <td>NaN</td>\n",
       "      <td>NaN</td>\n",
       "      <td>NaN</td>\n",
       "      <td>-1</td>\n",
       "      <td>31.0</td>\n",
       "      <td>34764.00</td>\n",
       "      <td>2.7</td>\n",
       "      <td>34847.70</td>\n",
       "      <td>1</td>\n",
       "      <td>2023-09-01 11:25:00</td>\n",
       "      <td>83.7</td>\n",
       "    </tr>\n",
       "    <tr>\n",
       "      <th>2023-09-05 10:30:00</th>\n",
       "      <td>34788.2</td>\n",
       "      <td>34788.7</td>\n",
       "      <td>34741.7</td>\n",
       "      <td>34742.2</td>\n",
       "      <td>-46.0</td>\n",
       "      <td>NaN</td>\n",
       "      <td>NaN</td>\n",
       "      <td>NaN</td>\n",
       "      <td>NaN</td>\n",
       "      <td>1</td>\n",
       "      <td>31.0</td>\n",
       "      <td>34853.95</td>\n",
       "      <td>2.7</td>\n",
       "      <td>34770.25</td>\n",
       "      <td>-1</td>\n",
       "      <td>2023-09-05 10:35:00</td>\n",
       "      <td>-31.0</td>\n",
       "    </tr>\n",
       "  </tbody>\n",
       "</table>\n",
       "</div>"
      ],
      "text/plain": [
       "                        open     high      low    close  body  fvg_body  \\\n",
       "time                                                                      \n",
       "2023-09-01 11:00:00  34832.7  34847.7  34821.2  34828.2  -4.5       NaN   \n",
       "2023-09-05 10:30:00  34788.2  34788.7  34741.7  34742.2 -46.0       NaN   \n",
       "\n",
       "                     fvg_price  porcentaje_fvg  fvg  OP    SL        TP  \\\n",
       "time                                                                      \n",
       "2023-09-01 11:00:00        NaN             NaN  NaN  -1  31.0  34764.00   \n",
       "2023-09-05 10:30:00        NaN             NaN  NaN   1  31.0  34853.95   \n",
       "\n",
       "                     TP_Multiplier  open_price  Result         time_result  \\\n",
       "time                                                                         \n",
       "2023-09-01 11:00:00            2.7    34847.70       1 2023-09-01 11:25:00   \n",
       "2023-09-05 10:30:00            2.7    34770.25      -1 2023-09-05 10:35:00   \n",
       "\n",
       "                     pips_driven  \n",
       "time                              \n",
       "2023-09-01 11:00:00         83.7  \n",
       "2023-09-05 10:30:00        -31.0  "
      ]
     },
     "metadata": {},
     "output_type": "display_data"
    },
    {
     "name": "stdout",
     "output_type": "stream",
     "text": [
      "La cantidad de operaciones cerradas en la misma vela donde se abrio es: 42\n"
     ]
    }
   ],
   "source": [
    "df_ops=strategy.OPs\n",
    "df_ops[~df_ops['OP'].isna()].loc['2024-09-02 8:02:00':][['fvg_price','OP','SL','TP_Multiplier','open_price','Result','time_result','pips_driven']].head()\n",
    "display(df_ops[df_ops['OP']!=0].head(2))\n",
    "\n",
    "df_time=df_ops[df_ops['OP']!=0][['time_result']]\n",
    "df_time['time_difference_minutes'] = (df_time['time_result'] - df_time.index).dt.total_seconds() / 60\n",
    "print('La cantidad de operaciones cerradas en la misma vela donde se abrio es:',df_time[df_time['time_difference_minutes']<1]['time_difference_minutes'].count())"
   ]
  },
  {
   "cell_type": "code",
   "execution_count": 36,
   "metadata": {},
   "outputs": [
    {
     "data": {
      "application/vnd.plotly.v1+json": {
       "config": {
        "plotlyServerURL": "https://plot.ly"
       },
       "data": [
        {
         "close": [
          44346.36,
          44341.56,
          44310.36,
          44295.46,
          44293.36,
          44294.46,
          44302.46,
          44298.46,
          44298.46,
          44324.86,
          44302.36,
          44312.36,
          44318.46,
          44313.66,
          44308.06,
          44301.96,
          44328.36,
          44334.36,
          44214.66,
          44219.66,
          44230.66,
          44246.76,
          44247.76,
          44317.76,
          44315.76,
          44259.76,
          44276.76,
          44311.76,
          44328.26,
          44336.86,
          44387.26,
          44370.76,
          44399.76,
          44431.86,
          44398.86,
          44417.86,
          44462.76,
          44434.76,
          44418.86,
          44402.86,
          44403.86,
          44447.86,
          44469.36,
          44435.76,
          44455.86,
          44445.86,
          44428.86,
          44420.86,
          44396.86,
          44418.86,
          44407.86,
          44392.86,
          44366.86,
          44370.86,
          44411.36,
          44432.76,
          44411.86,
          44418.86,
          44376.86,
          44363.56,
          44359.56,
          44368.56,
          44365.56,
          44374.56,
          44379.56,
          44396.56,
          44385.56,
          44419.56,
          44386.56,
          44394.56,
          44390.56,
          44379.56,
          44371.56,
          44360.56,
          44353.56,
          44357.56,
          44367.86,
          44384.86,
          44380.86,
          44401.86,
          44408.86,
          44421.86,
          44413.36,
          44410.86,
          44405.86,
          44381.86,
          44347.86,
          44339.86,
          44332.86,
          44312.86,
          44284.76,
          44276.86,
          44263.86,
          44239.86,
          44211.76,
          44259.26
         ],
         "decreasing": {
          "line": {
           "color": "red"
          }
         },
         "high": [
          44351.26,
          44345.96,
          44344.56,
          44312.36,
          44301.46,
          44307.36,
          44308.96,
          44312.46,
          44305.46,
          44324.86,
          44349.86,
          44313.36,
          44321.56,
          44320.46,
          44315.66,
          44311.46,
          44329.36,
          44348.36,
          44347.36,
          44253.66,
          44237.66,
          44271.76,
          44260.76,
          44319.76,
          44324.26,
          44332.26,
          44285.76,
          44315.76,
          44338.26,
          44356.36,
          44397.76,
          44395.76,
          44400.76,
          44437.86,
          44434.36,
          44426.36,
          44464.76,
          44462.76,
          44446.86,
          44422.86,
          44409.86,
          44452.86,
          44471.36,
          44469.86,
          44459.86,
          44458.86,
          44461.36,
          44441.86,
          44424.86,
          44421.86,
          44438.36,
          44420.36,
          44396.86,
          44382.36,
          44413.86,
          44446.26,
          44435.76,
          44420.36,
          44419.86,
          44382.86,
          44367.06,
          44375.56,
          44386.56,
          44389.56,
          44387.06,
          44404.56,
          44395.56,
          44419.56,
          44421.56,
          44400.06,
          44403.56,
          44399.56,
          44381.56,
          44378.56,
          44360.56,
          44359.56,
          44371.36,
          44387.86,
          44393.36,
          44407.36,
          44420.86,
          44427.86,
          44427.86,
          44415.86,
          44415.36,
          44413.86,
          44381.36,
          44355.36,
          44346.86,
          44335.86,
          44312.86,
          44292.76,
          44284.86,
          44271.86,
          44258.86,
          44261.76
         ],
         "increasing": {
          "line": {
           "color": "green"
          }
         },
         "low": [
          44334.46,
          44338.86,
          44308.46,
          44293.96,
          44276.36,
          44293.36,
          44288.56,
          44297.46,
          44291.56,
          44291.46,
          44299.76,
          44299.86,
          44308.46,
          44310.96,
          44302.56,
          44294.06,
          44297.46,
          44331.36,
          44203.66,
          44209.16,
          44180.66,
          44227.66,
          44217.76,
          44244.76,
          44289.76,
          44254.26,
          44254.76,
          44278.76,
          44309.76,
          44311.76,
          44333.86,
          44363.76,
          44364.76,
          44398.76,
          44397.36,
          44390.36,
          44405.36,
          44416.76,
          44409.36,
          44398.86,
          44392.86,
          44403.86,
          44434.86,
          44432.76,
          44418.36,
          44437.36,
          44423.86,
          44413.86,
          44390.86,
          44377.86,
          44404.36,
          44389.86,
          44359.86,
          44360.36,
          44365.36,
          44401.86,
          44408.76,
          44405.36,
          44370.86,
          44362.06,
          44347.56,
          44351.56,
          44365.56,
          44365.56,
          44366.06,
          44375.06,
          44371.56,
          44383.56,
          44381.56,
          44383.56,
          44380.56,
          44377.56,
          44357.56,
          44356.06,
          44337.56,
          44338.56,
          44349.86,
          44358.86,
          44374.86,
          44379.86,
          44392.86,
          44406.86,
          44404.86,
          44390.36,
          44394.86,
          44381.86,
          44343.36,
          44330.86,
          44314.86,
          44304.36,
          44257.76,
          44265.86,
          44254.86,
          44235.86,
          44211.76,
          44208.76
         ],
         "name": "Candlestick",
         "open": [
          44350.76,
          44345.36,
          44341.06,
          44311.36,
          44293.46,
          44294.86,
          44294.46,
          44303.46,
          44297.46,
          44298.46,
          44325.86,
          44301.86,
          44311.86,
          44315.96,
          44313.16,
          44308.56,
          44300.96,
          44331.36,
          44334.86,
          44216.16,
          44221.66,
          44231.66,
          44246.26,
          44248.76,
          44317.76,
          44315.76,
          44259.76,
          44278.76,
          44310.76,
          44328.76,
          44335.86,
          44386.76,
          44369.76,
          44398.76,
          44432.86,
          44397.86,
          44417.86,
          44461.76,
          44435.76,
          44419.86,
          44402.86,
          44403.86,
          44447.86,
          44469.36,
          44435.76,
          44455.86,
          44447.36,
          44426.86,
          44420.36,
          44396.86,
          44419.86,
          44406.86,
          44393.86,
          44367.36,
          44370.86,
          44411.86,
          44433.26,
          44412.86,
          44419.86,
          44378.86,
          44364.06,
          44360.06,
          44369.06,
          44366.06,
          44374.56,
          44379.56,
          44395.56,
          44386.06,
          44419.06,
          44386.56,
          44394.56,
          44390.06,
          44380.06,
          44371.56,
          44360.06,
          44353.56,
          44357.06,
          44366.86,
          44385.86,
          44379.86,
          44400.86,
          44407.86,
          44421.86,
          44412.86,
          44410.86,
          44405.86,
          44381.36,
          44348.36,
          44340.36,
          44333.36,
          44312.86,
          44284.76,
          44276.86,
          44265.36,
          44239.86,
          44212.26
         ],
         "type": "candlestick",
         "x": [
          "2024-12-10T08:00:00",
          "2024-12-10T08:05:00",
          "2024-12-10T08:10:00",
          "2024-12-10T08:15:00",
          "2024-12-10T08:20:00",
          "2024-12-10T08:25:00",
          "2024-12-10T08:30:00",
          "2024-12-10T08:35:00",
          "2024-12-10T08:40:00",
          "2024-12-10T08:45:00",
          "2024-12-10T08:50:00",
          "2024-12-10T08:55:00",
          "2024-12-10T09:00:00",
          "2024-12-10T09:05:00",
          "2024-12-10T09:10:00",
          "2024-12-10T09:15:00",
          "2024-12-10T09:20:00",
          "2024-12-10T09:25:00",
          "2024-12-10T09:30:00",
          "2024-12-10T09:35:00",
          "2024-12-10T09:40:00",
          "2024-12-10T09:45:00",
          "2024-12-10T09:50:00",
          "2024-12-10T09:55:00",
          "2024-12-10T10:00:00",
          "2024-12-10T10:05:00",
          "2024-12-10T10:10:00",
          "2024-12-10T10:15:00",
          "2024-12-10T10:20:00",
          "2024-12-10T10:25:00",
          "2024-12-10T10:30:00",
          "2024-12-10T10:35:00",
          "2024-12-10T10:40:00",
          "2024-12-10T10:45:00",
          "2024-12-10T10:50:00",
          "2024-12-10T10:55:00",
          "2024-12-10T11:00:00",
          "2024-12-10T11:05:00",
          "2024-12-10T11:10:00",
          "2024-12-10T11:15:00",
          "2024-12-10T11:20:00",
          "2024-12-10T11:25:00",
          "2024-12-10T11:30:00",
          "2024-12-10T11:35:00",
          "2024-12-10T11:40:00",
          "2024-12-10T11:45:00",
          "2024-12-10T11:50:00",
          "2024-12-10T11:55:00",
          "2024-12-10T12:00:00",
          "2024-12-10T12:05:00",
          "2024-12-10T12:10:00",
          "2024-12-10T12:15:00",
          "2024-12-10T12:20:00",
          "2024-12-10T12:25:00",
          "2024-12-10T12:30:00",
          "2024-12-10T12:35:00",
          "2024-12-10T12:40:00",
          "2024-12-10T12:45:00",
          "2024-12-10T12:50:00",
          "2024-12-10T12:55:00",
          "2024-12-10T13:00:00",
          "2024-12-10T13:05:00",
          "2024-12-10T13:10:00",
          "2024-12-10T13:15:00",
          "2024-12-10T13:20:00",
          "2024-12-10T13:25:00",
          "2024-12-10T13:30:00",
          "2024-12-10T13:35:00",
          "2024-12-10T13:40:00",
          "2024-12-10T13:45:00",
          "2024-12-10T13:50:00",
          "2024-12-10T13:55:00",
          "2024-12-10T14:00:00",
          "2024-12-10T14:05:00",
          "2024-12-10T14:10:00",
          "2024-12-10T14:15:00",
          "2024-12-10T14:20:00",
          "2024-12-10T14:25:00",
          "2024-12-10T14:30:00",
          "2024-12-10T14:35:00",
          "2024-12-10T14:40:00",
          "2024-12-10T14:45:00",
          "2024-12-10T14:50:00",
          "2024-12-10T14:55:00",
          "2024-12-10T15:00:00",
          "2024-12-10T15:05:00",
          "2024-12-10T15:10:00",
          "2024-12-10T15:15:00",
          "2024-12-10T15:20:00",
          "2024-12-10T15:25:00",
          "2024-12-10T15:30:00",
          "2024-12-10T15:35:00",
          "2024-12-10T15:40:00",
          "2024-12-10T15:45:00",
          "2024-12-10T15:50:00",
          "2024-12-10T15:55:00"
         ]
        }
       ],
       "layout": {
        "height": 900,
        "legend": {
         "orientation": "h",
         "x": 1,
         "xanchor": "right",
         "y": 1.02,
         "yanchor": "bottom"
        },
        "shapes": [
         {
          "line": {
           "color": "green",
           "width": 2
          },
          "type": "line",
          "x0": "2024-12-10T10:15:00",
          "x1": "2024-12-10T10:30:00",
          "xref": "x",
          "y0": 44297.76,
          "y1": 44297.76,
          "yref": "y"
         },
         {
          "line": {
           "color": "red",
           "width": 2
          },
          "type": "line",
          "x0": "2024-12-10T12:15:00",
          "x1": "2024-12-10T12:30:00",
          "xref": "x",
          "y0": 44400.61,
          "y1": 44400.61,
          "yref": "y"
         },
         {
          "line": {
           "color": "red",
           "width": 2
          },
          "type": "line",
          "x0": "2024-12-10T15:05:00",
          "x1": "2024-12-10T15:20:00",
          "xref": "x",
          "y0": 44388.36,
          "y1": 44388.36,
          "yref": "y"
         },
         {
          "line": {
           "color": "red",
           "width": 2
          },
          "type": "line",
          "x0": "2024-12-10T15:10:00",
          "x1": "2024-12-10T15:25:00",
          "xref": "x",
          "y0": 44368.36,
          "y1": 44368.36,
          "yref": "y"
         },
         {
          "line": {
           "color": "red",
           "width": 2
          },
          "type": "line",
          "x0": "2024-12-10T15:30:00",
          "x1": "2024-12-10T15:45:00",
          "xref": "x",
          "y0": 44298.56,
          "y1": 44298.56,
          "yref": "y"
         }
        ],
        "template": {
         "data": {
          "bar": [
           {
            "error_x": {
             "color": "#f2f5fa"
            },
            "error_y": {
             "color": "#f2f5fa"
            },
            "marker": {
             "line": {
              "color": "rgb(17,17,17)",
              "width": 0.5
             },
             "pattern": {
              "fillmode": "overlay",
              "size": 10,
              "solidity": 0.2
             }
            },
            "type": "bar"
           }
          ],
          "barpolar": [
           {
            "marker": {
             "line": {
              "color": "rgb(17,17,17)",
              "width": 0.5
             },
             "pattern": {
              "fillmode": "overlay",
              "size": 10,
              "solidity": 0.2
             }
            },
            "type": "barpolar"
           }
          ],
          "carpet": [
           {
            "aaxis": {
             "endlinecolor": "#A2B1C6",
             "gridcolor": "#506784",
             "linecolor": "#506784",
             "minorgridcolor": "#506784",
             "startlinecolor": "#A2B1C6"
            },
            "baxis": {
             "endlinecolor": "#A2B1C6",
             "gridcolor": "#506784",
             "linecolor": "#506784",
             "minorgridcolor": "#506784",
             "startlinecolor": "#A2B1C6"
            },
            "type": "carpet"
           }
          ],
          "choropleth": [
           {
            "colorbar": {
             "outlinewidth": 0,
             "ticks": ""
            },
            "type": "choropleth"
           }
          ],
          "contour": [
           {
            "colorbar": {
             "outlinewidth": 0,
             "ticks": ""
            },
            "colorscale": [
             [
              0,
              "#0d0887"
             ],
             [
              0.1111111111111111,
              "#46039f"
             ],
             [
              0.2222222222222222,
              "#7201a8"
             ],
             [
              0.3333333333333333,
              "#9c179e"
             ],
             [
              0.4444444444444444,
              "#bd3786"
             ],
             [
              0.5555555555555556,
              "#d8576b"
             ],
             [
              0.6666666666666666,
              "#ed7953"
             ],
             [
              0.7777777777777778,
              "#fb9f3a"
             ],
             [
              0.8888888888888888,
              "#fdca26"
             ],
             [
              1,
              "#f0f921"
             ]
            ],
            "type": "contour"
           }
          ],
          "contourcarpet": [
           {
            "colorbar": {
             "outlinewidth": 0,
             "ticks": ""
            },
            "type": "contourcarpet"
           }
          ],
          "heatmap": [
           {
            "colorbar": {
             "outlinewidth": 0,
             "ticks": ""
            },
            "colorscale": [
             [
              0,
              "#0d0887"
             ],
             [
              0.1111111111111111,
              "#46039f"
             ],
             [
              0.2222222222222222,
              "#7201a8"
             ],
             [
              0.3333333333333333,
              "#9c179e"
             ],
             [
              0.4444444444444444,
              "#bd3786"
             ],
             [
              0.5555555555555556,
              "#d8576b"
             ],
             [
              0.6666666666666666,
              "#ed7953"
             ],
             [
              0.7777777777777778,
              "#fb9f3a"
             ],
             [
              0.8888888888888888,
              "#fdca26"
             ],
             [
              1,
              "#f0f921"
             ]
            ],
            "type": "heatmap"
           }
          ],
          "heatmapgl": [
           {
            "colorbar": {
             "outlinewidth": 0,
             "ticks": ""
            },
            "colorscale": [
             [
              0,
              "#0d0887"
             ],
             [
              0.1111111111111111,
              "#46039f"
             ],
             [
              0.2222222222222222,
              "#7201a8"
             ],
             [
              0.3333333333333333,
              "#9c179e"
             ],
             [
              0.4444444444444444,
              "#bd3786"
             ],
             [
              0.5555555555555556,
              "#d8576b"
             ],
             [
              0.6666666666666666,
              "#ed7953"
             ],
             [
              0.7777777777777778,
              "#fb9f3a"
             ],
             [
              0.8888888888888888,
              "#fdca26"
             ],
             [
              1,
              "#f0f921"
             ]
            ],
            "type": "heatmapgl"
           }
          ],
          "histogram": [
           {
            "marker": {
             "pattern": {
              "fillmode": "overlay",
              "size": 10,
              "solidity": 0.2
             }
            },
            "type": "histogram"
           }
          ],
          "histogram2d": [
           {
            "colorbar": {
             "outlinewidth": 0,
             "ticks": ""
            },
            "colorscale": [
             [
              0,
              "#0d0887"
             ],
             [
              0.1111111111111111,
              "#46039f"
             ],
             [
              0.2222222222222222,
              "#7201a8"
             ],
             [
              0.3333333333333333,
              "#9c179e"
             ],
             [
              0.4444444444444444,
              "#bd3786"
             ],
             [
              0.5555555555555556,
              "#d8576b"
             ],
             [
              0.6666666666666666,
              "#ed7953"
             ],
             [
              0.7777777777777778,
              "#fb9f3a"
             ],
             [
              0.8888888888888888,
              "#fdca26"
             ],
             [
              1,
              "#f0f921"
             ]
            ],
            "type": "histogram2d"
           }
          ],
          "histogram2dcontour": [
           {
            "colorbar": {
             "outlinewidth": 0,
             "ticks": ""
            },
            "colorscale": [
             [
              0,
              "#0d0887"
             ],
             [
              0.1111111111111111,
              "#46039f"
             ],
             [
              0.2222222222222222,
              "#7201a8"
             ],
             [
              0.3333333333333333,
              "#9c179e"
             ],
             [
              0.4444444444444444,
              "#bd3786"
             ],
             [
              0.5555555555555556,
              "#d8576b"
             ],
             [
              0.6666666666666666,
              "#ed7953"
             ],
             [
              0.7777777777777778,
              "#fb9f3a"
             ],
             [
              0.8888888888888888,
              "#fdca26"
             ],
             [
              1,
              "#f0f921"
             ]
            ],
            "type": "histogram2dcontour"
           }
          ],
          "mesh3d": [
           {
            "colorbar": {
             "outlinewidth": 0,
             "ticks": ""
            },
            "type": "mesh3d"
           }
          ],
          "parcoords": [
           {
            "line": {
             "colorbar": {
              "outlinewidth": 0,
              "ticks": ""
             }
            },
            "type": "parcoords"
           }
          ],
          "pie": [
           {
            "automargin": true,
            "type": "pie"
           }
          ],
          "scatter": [
           {
            "marker": {
             "line": {
              "color": "#283442"
             }
            },
            "type": "scatter"
           }
          ],
          "scatter3d": [
           {
            "line": {
             "colorbar": {
              "outlinewidth": 0,
              "ticks": ""
             }
            },
            "marker": {
             "colorbar": {
              "outlinewidth": 0,
              "ticks": ""
             }
            },
            "type": "scatter3d"
           }
          ],
          "scattercarpet": [
           {
            "marker": {
             "colorbar": {
              "outlinewidth": 0,
              "ticks": ""
             }
            },
            "type": "scattercarpet"
           }
          ],
          "scattergeo": [
           {
            "marker": {
             "colorbar": {
              "outlinewidth": 0,
              "ticks": ""
             }
            },
            "type": "scattergeo"
           }
          ],
          "scattergl": [
           {
            "marker": {
             "line": {
              "color": "#283442"
             }
            },
            "type": "scattergl"
           }
          ],
          "scattermapbox": [
           {
            "marker": {
             "colorbar": {
              "outlinewidth": 0,
              "ticks": ""
             }
            },
            "type": "scattermapbox"
           }
          ],
          "scatterpolar": [
           {
            "marker": {
             "colorbar": {
              "outlinewidth": 0,
              "ticks": ""
             }
            },
            "type": "scatterpolar"
           }
          ],
          "scatterpolargl": [
           {
            "marker": {
             "colorbar": {
              "outlinewidth": 0,
              "ticks": ""
             }
            },
            "type": "scatterpolargl"
           }
          ],
          "scatterternary": [
           {
            "marker": {
             "colorbar": {
              "outlinewidth": 0,
              "ticks": ""
             }
            },
            "type": "scatterternary"
           }
          ],
          "surface": [
           {
            "colorbar": {
             "outlinewidth": 0,
             "ticks": ""
            },
            "colorscale": [
             [
              0,
              "#0d0887"
             ],
             [
              0.1111111111111111,
              "#46039f"
             ],
             [
              0.2222222222222222,
              "#7201a8"
             ],
             [
              0.3333333333333333,
              "#9c179e"
             ],
             [
              0.4444444444444444,
              "#bd3786"
             ],
             [
              0.5555555555555556,
              "#d8576b"
             ],
             [
              0.6666666666666666,
              "#ed7953"
             ],
             [
              0.7777777777777778,
              "#fb9f3a"
             ],
             [
              0.8888888888888888,
              "#fdca26"
             ],
             [
              1,
              "#f0f921"
             ]
            ],
            "type": "surface"
           }
          ],
          "table": [
           {
            "cells": {
             "fill": {
              "color": "#506784"
             },
             "line": {
              "color": "rgb(17,17,17)"
             }
            },
            "header": {
             "fill": {
              "color": "#2a3f5f"
             },
             "line": {
              "color": "rgb(17,17,17)"
             }
            },
            "type": "table"
           }
          ]
         },
         "layout": {
          "annotationdefaults": {
           "arrowcolor": "#f2f5fa",
           "arrowhead": 0,
           "arrowwidth": 1
          },
          "autotypenumbers": "strict",
          "coloraxis": {
           "colorbar": {
            "outlinewidth": 0,
            "ticks": ""
           }
          },
          "colorscale": {
           "diverging": [
            [
             0,
             "#8e0152"
            ],
            [
             0.1,
             "#c51b7d"
            ],
            [
             0.2,
             "#de77ae"
            ],
            [
             0.3,
             "#f1b6da"
            ],
            [
             0.4,
             "#fde0ef"
            ],
            [
             0.5,
             "#f7f7f7"
            ],
            [
             0.6,
             "#e6f5d0"
            ],
            [
             0.7,
             "#b8e186"
            ],
            [
             0.8,
             "#7fbc41"
            ],
            [
             0.9,
             "#4d9221"
            ],
            [
             1,
             "#276419"
            ]
           ],
           "sequential": [
            [
             0,
             "#0d0887"
            ],
            [
             0.1111111111111111,
             "#46039f"
            ],
            [
             0.2222222222222222,
             "#7201a8"
            ],
            [
             0.3333333333333333,
             "#9c179e"
            ],
            [
             0.4444444444444444,
             "#bd3786"
            ],
            [
             0.5555555555555556,
             "#d8576b"
            ],
            [
             0.6666666666666666,
             "#ed7953"
            ],
            [
             0.7777777777777778,
             "#fb9f3a"
            ],
            [
             0.8888888888888888,
             "#fdca26"
            ],
            [
             1,
             "#f0f921"
            ]
           ],
           "sequentialminus": [
            [
             0,
             "#0d0887"
            ],
            [
             0.1111111111111111,
             "#46039f"
            ],
            [
             0.2222222222222222,
             "#7201a8"
            ],
            [
             0.3333333333333333,
             "#9c179e"
            ],
            [
             0.4444444444444444,
             "#bd3786"
            ],
            [
             0.5555555555555556,
             "#d8576b"
            ],
            [
             0.6666666666666666,
             "#ed7953"
            ],
            [
             0.7777777777777778,
             "#fb9f3a"
            ],
            [
             0.8888888888888888,
             "#fdca26"
            ],
            [
             1,
             "#f0f921"
            ]
           ]
          },
          "colorway": [
           "#636efa",
           "#EF553B",
           "#00cc96",
           "#ab63fa",
           "#FFA15A",
           "#19d3f3",
           "#FF6692",
           "#B6E880",
           "#FF97FF",
           "#FECB52"
          ],
          "font": {
           "color": "#f2f5fa"
          },
          "geo": {
           "bgcolor": "rgb(17,17,17)",
           "lakecolor": "rgb(17,17,17)",
           "landcolor": "rgb(17,17,17)",
           "showlakes": true,
           "showland": true,
           "subunitcolor": "#506784"
          },
          "hoverlabel": {
           "align": "left"
          },
          "hovermode": "closest",
          "mapbox": {
           "style": "dark"
          },
          "paper_bgcolor": "rgb(17,17,17)",
          "plot_bgcolor": "rgb(17,17,17)",
          "polar": {
           "angularaxis": {
            "gridcolor": "#506784",
            "linecolor": "#506784",
            "ticks": ""
           },
           "bgcolor": "rgb(17,17,17)",
           "radialaxis": {
            "gridcolor": "#506784",
            "linecolor": "#506784",
            "ticks": ""
           }
          },
          "scene": {
           "xaxis": {
            "backgroundcolor": "rgb(17,17,17)",
            "gridcolor": "#506784",
            "gridwidth": 2,
            "linecolor": "#506784",
            "showbackground": true,
            "ticks": "",
            "zerolinecolor": "#C8D4E3"
           },
           "yaxis": {
            "backgroundcolor": "rgb(17,17,17)",
            "gridcolor": "#506784",
            "gridwidth": 2,
            "linecolor": "#506784",
            "showbackground": true,
            "ticks": "",
            "zerolinecolor": "#C8D4E3"
           },
           "zaxis": {
            "backgroundcolor": "rgb(17,17,17)",
            "gridcolor": "#506784",
            "gridwidth": 2,
            "linecolor": "#506784",
            "showbackground": true,
            "ticks": "",
            "zerolinecolor": "#C8D4E3"
           }
          },
          "shapedefaults": {
           "line": {
            "color": "#f2f5fa"
           }
          },
          "sliderdefaults": {
           "bgcolor": "#C8D4E3",
           "bordercolor": "rgb(17,17,17)",
           "borderwidth": 1,
           "tickwidth": 0
          },
          "ternary": {
           "aaxis": {
            "gridcolor": "#506784",
            "linecolor": "#506784",
            "ticks": ""
           },
           "baxis": {
            "gridcolor": "#506784",
            "linecolor": "#506784",
            "ticks": ""
           },
           "bgcolor": "rgb(17,17,17)",
           "caxis": {
            "gridcolor": "#506784",
            "linecolor": "#506784",
            "ticks": ""
           }
          },
          "title": {
           "x": 0.05
          },
          "updatemenudefaults": {
           "bgcolor": "#506784",
           "borderwidth": 0
          },
          "xaxis": {
           "automargin": true,
           "gridcolor": "#283442",
           "linecolor": "#506784",
           "ticks": "",
           "title": {
            "standoff": 15
           },
           "zerolinecolor": "#283442",
           "zerolinewidth": 2
          },
          "yaxis": {
           "automargin": true,
           "gridcolor": "#283442",
           "linecolor": "#506784",
           "ticks": "",
           "title": {
            "standoff": 15
           },
           "zerolinecolor": "#283442",
           "zerolinewidth": 2
          }
         }
        },
        "title": {
         "text": "Gráfico de Velas y FVG para el día 2024-12-10"
        },
        "width": 1700,
        "xaxis": {
         "anchor": "y",
         "domain": [
          0,
          1
         ],
         "rangeslider": {
          "visible": false
         },
         "title": {
          "text": "Hora"
         }
        },
        "yaxis": {
         "anchor": "x",
         "domain": [
          0,
          1
         ],
         "title": {
          "text": "Precio"
         }
        }
       }
      }
     },
     "metadata": {},
     "output_type": "display_data"
    }
   ],
   "source": [
    "import datetime\n",
    "import os\n",
    "import tempfile\n",
    "import shutil\n",
    "import pandas as pd\n",
    "from fpdf import FPDF\n",
    "\n",
    "def generar_grafico_fvg(df, fecha):\n",
    "    # Convertir la fecha a tipo datetime\n",
    "    fecha_inicio = datetime.datetime.strptime(fecha, '%Y-%m-%d')\n",
    "    fecha_fin = fecha_inicio + datetime.timedelta(days=1)\n",
    "    \n",
    "    # Filtrar los datos del dataframe para la fecha especificada\n",
    "    df_dia = df[(df.index >= fecha_inicio) & (df.index < fecha_fin)]\n",
    "    \n",
    "    if df_dia.empty:\n",
    "        print(f\"No hay datos para la fecha {fecha}.\")\n",
    "        return None  # Si no hay datos para la fecha, retornar None\n",
    "    \n",
    "    # Crear la figura\n",
    "    fig = make_subplots(rows=1, cols=1)\n",
    "    \n",
    "    # Crear el gráfico de velas\n",
    "    fig.add_trace(go.Candlestick(\n",
    "        x=df_dia.index,\n",
    "        open=df_dia['open'],\n",
    "        high=df_dia['high'],\n",
    "        low=df_dia['low'],\n",
    "        close=df_dia['close'],\n",
    "        name='Candlestick',\n",
    "        increasing_line_color='green',\n",
    "        decreasing_line_color='red'\n",
    "    ))\n",
    "    \n",
    "    # Filtrar puntos donde fvg == 1 para el high (verde)\n",
    "    df_fvg_up = df_dia[df_dia['fvg'] == 1]\n",
    "    \n",
    "    # Filtrar puntos donde fvg == -1 para el low (rojo)\n",
    "    df_fvg_down = df_dia[df_dia['fvg'] == -1]\n",
    "    \n",
    "    # Añadir líneas horizontales para FVG Up (verde)\n",
    "    for idx, row in df_fvg_up.iterrows():\n",
    "        start_time = idx\n",
    "        end_time = start_time + datetime.timedelta(minutes=15)\n",
    "        fig.add_shape(\n",
    "            type=\"line\",\n",
    "            x0=start_time,\n",
    "            y0=row['fvg_price'],\n",
    "            x1=end_time,\n",
    "            y1=row['fvg_price'],\n",
    "            line=dict(color='green', width=2),\n",
    "            xref='x',\n",
    "            yref='y'\n",
    "        )\n",
    "    \n",
    "    # Añadir líneas horizontales para FVG Down (rojo)\n",
    "    for idx, row in df_fvg_down.iterrows():\n",
    "        start_time = idx\n",
    "        end_time = start_time + datetime.timedelta(minutes=15)\n",
    "        fig.add_shape(\n",
    "            type=\"line\",\n",
    "            x0=start_time,\n",
    "            y0=row['fvg_price'],\n",
    "            x1=end_time,\n",
    "            y1=row['fvg_price'],\n",
    "            line=dict(color='red', width=2),\n",
    "            xref='x',\n",
    "            yref='y'\n",
    "        )\n",
    "    \n",
    "    # Configurar el layout del gráfico\n",
    "    fig.update_layout(\n",
    "        title=f\"Gráfico de Velas y FVG para el día {fecha}\",\n",
    "        xaxis_title=\"Hora\",\n",
    "        yaxis_title=\"Precio\",\n",
    "        xaxis_rangeslider_visible=False,\n",
    "        legend=dict(\n",
    "            orientation=\"h\",\n",
    "            yanchor=\"bottom\",\n",
    "            y=1.02,\n",
    "            xanchor=\"right\",\n",
    "            x=1\n",
    "        ),\n",
    "        width=1700,  # Ancho del gráfico\n",
    "        height=900,  # Altura del gráfico\n",
    "        template='plotly_dark'  # Cambiar el tema a oscuro\n",
    "    )\n",
    "    \n",
    "    # Mostrar el gráfico\n",
    "    #fig.show()\n",
    "    return fig\n",
    "\n",
    "\n",
    "def generar_grafico_por_dia(df, fecha):\n",
    "    # Convertir la fecha a tipo datetime\n",
    "    fecha_inicio = datetime.datetime.strptime(fecha, '%Y-%m-%d')\n",
    "    fecha_fin = fecha_inicio + datetime.timedelta(days=1)\n",
    "    \n",
    "    # Filtrar los datos del dataframe para la fecha especificada\n",
    "    df_dia = df[(df.index >= fecha_inicio) & (df.index < fecha_fin)]\n",
    "    \n",
    "    if df_dia.empty:\n",
    "        print(f\"No hay datos para la fecha {fecha}.\")\n",
    "        return None  # Si no hay datos para la fecha, retornar None\n",
    "    \n",
    "    # Crear la figura con subplots si deseas agregar más gráficos en el futuro\n",
    "    fig = make_subplots(rows=1, cols=1, shared_xaxes=True)\n",
    "    \n",
    "    # Crear el gráfico de velas\n",
    "    fig.add_trace(go.Candlestick(\n",
    "        x=df_dia.index,\n",
    "        open=df_dia['open'],\n",
    "        high=df_dia['high'],\n",
    "        low=df_dia['low'],\n",
    "        close=df_dia['close'],\n",
    "        name='Candlestick',\n",
    "        increasing_line_color='green',\n",
    "        decreasing_line_color='red',\n",
    "        opacity=0.6\n",
    "    ))\n",
    "    \n",
    "    # ============================\n",
    "    # Agregar Líneas Horizontales para FVG\n",
    "    # ============================\n",
    "    \n",
    "    # Verificar si las columnas 'fvg' y 'fvg_price' existen en el DataFrame\n",
    "    if 'fvg' in df_dia.columns and 'fvg_price' in df_dia.columns:\n",
    "        # Filtrar puntos donde fvg == 1 para el high (verde)\n",
    "        df_fvg_up = df_dia[df_dia['fvg'] == 1]\n",
    "        \n",
    "        # Filtrar puntos donde fvg == -1 para el low (rojo)\n",
    "        df_fvg_down = df_dia[df_dia['fvg'] == -1]\n",
    "        \n",
    "        # Añadir líneas horizontales para FVG Up (verde)\n",
    "        for idx, row in df_fvg_up.iterrows():\n",
    "            start_time = idx\n",
    "            end_time = start_time + datetime.timedelta(minutes=15)\n",
    "            # Asegurarse de que end_time no exceda el rango del gráfico\n",
    "            if end_time > fecha_fin:\n",
    "                end_time = fecha_fin\n",
    "            fig.add_shape(\n",
    "                type=\"line\",\n",
    "                x0=start_time,\n",
    "                y0=row['fvg_price'],\n",
    "                x1=end_time,\n",
    "                y1=row['fvg_price'],\n",
    "                line=dict(color='white', width=2),\n",
    "                xref='x',\n",
    "                yref='y'\n",
    "            )\n",
    "        \n",
    "        # Añadir líneas horizontales para FVG Down (rojo)\n",
    "        for idx, row in df_fvg_down.iterrows():\n",
    "            start_time = idx\n",
    "            end_time = start_time + datetime.timedelta(minutes=15)\n",
    "            # Asegurarse de que end_time no exceda el rango del gráfico\n",
    "            if end_time > fecha_fin:\n",
    "                end_time = fecha_fin\n",
    "            fig.add_shape(\n",
    "                type=\"line\",\n",
    "                x0=start_time,\n",
    "                y0=row['fvg_price'],\n",
    "                x1=end_time,\n",
    "                y1=row['fvg_price'],\n",
    "                line=dict(color='white', width=2),\n",
    "                xref='x',\n",
    "                yref='y'\n",
    "            )\n",
    "        \n",
    "    else:\n",
    "        print(\"Las columnas 'fvg' y/o 'fvg_price' no existen en el DataFrame.\")\n",
    "\n",
    "    # ============================\n",
    "    # Agregar Operaciones\n",
    "    # ============================\n",
    "    \n",
    "    # Verificar si la columna 'OP' existe\n",
    "    if 'OP' in df_dia.columns:\n",
    "        # Filtrar operaciones de compra y venta\n",
    "        operaciones = df_dia[df_dia['OP'].isin([1, -1])]\n",
    "        \n",
    "        if not operaciones.empty:\n",
    "            for idx, operation in operaciones.iterrows():\n",
    "                OP = operation['OP']\n",
    "                Result = operation['Result']\n",
    "                entry_time = idx\n",
    "                entry_price = operation['open_price']\n",
    "                exit_time = operation['time_result']\n",
    "                TP_multiplier = operation['TP_Multiplier']\n",
    "                SL_points = operation['SL']\n",
    "                pips = operation['pips_driven']\n",
    "                \n",
    "                # Calcular TP y SL basados en el tipo de operación\n",
    "                if OP == 1:\n",
    "                    # Operación de Compra\n",
    "                    TP_price = entry_price + (SL_points * TP_multiplier)\n",
    "                    SL_price = entry_price - SL_points\n",
    "                    marker_symbol_entry = 'triangle-up'\n",
    "                elif OP == -1:\n",
    "                    # Operación de Venta\n",
    "                    TP_price = entry_price - (SL_points * TP_multiplier)\n",
    "                    SL_price = entry_price + SL_points\n",
    "                    marker_symbol_entry = 'triangle-down'\n",
    "                \n",
    "                # ============================\n",
    "                # Agregar Rectángulo para Stop Loss (SL)\n",
    "                # ============================\n",
    "                fig.add_shape(\n",
    "                    type=\"rect\",\n",
    "                    x0=entry_time,\n",
    "                    y0=entry_price,  # Ajusta el rango vertical si es necesario\n",
    "                    x1=exit_time,\n",
    "                    y1=SL_price,  # Ajusta el rango vertical si es necesario\n",
    "                    fillcolor='rgba(255, 0, 0, 0.2)',  # Rojo semi-transparente para SL\n",
    "                    line=dict(color='rgba(255, 0, 0, 0.2)'),\n",
    "                    layer=\"below\"\n",
    "                    # No se incluye 'name' para evitar leyendas redundantes\n",
    "                )\n",
    "                \n",
    "                # ============================\n",
    "                # Agregar Rectángulo para Take Profit (TP)\n",
    "                # ============================\n",
    "                fig.add_shape(\n",
    "                    type=\"rect\",\n",
    "                    x0=entry_time,\n",
    "                    y0=entry_price,  # Ajusta el rango vertical si es necesario\n",
    "                    x1=exit_time,\n",
    "                    y1=TP_price,  # Ajusta el rango vertical si es necesario\n",
    "                    fillcolor='rgba(0, 255, 0, 0.2)',  # Verde semi-transparente para TP\n",
    "                    line=dict(color='rgba(0, 255, 0, 0.2)'),\n",
    "                    layer=\"below\"\n",
    "                    # No se incluye 'name' para evitar leyendas redundantes\n",
    "                )\n",
    "                \n",
    "                # ============================\n",
    "                # Añadir marcador para la entrada\n",
    "                # ============================\n",
    "                fig.add_trace(go.Scatter(\n",
    "                    x=[entry_time],\n",
    "                    y=[entry_price],\n",
    "                    mode='markers',\n",
    "                    marker=dict(color='blue', size=10, symbol=marker_symbol_entry),\n",
    "                    name='Entrada Compra' if OP == 1 else 'Entrada Venta',\n",
    "                    showlegend=False\n",
    "                ))\n",
    "                \n",
    "                # ============================\n",
    "                # Determinar el precio de salida basado en el resultado\n",
    "                # ============================\n",
    "                if Result == 1:\n",
    "                    # Operación Ganada: se alcanzó TP\n",
    "                    exit_price = TP_price\n",
    "                    exit_marker_color = 'green'\n",
    "                    exit_marker_symbol = 'circle'\n",
    "                    exit_name = 'Salida TP'\n",
    "                elif Result == -1:\n",
    "                    # Operación Perdida: se alcanzó SL\n",
    "                    exit_price = SL_price\n",
    "                    exit_marker_color = 'red'\n",
    "                    exit_marker_symbol = 'circle'\n",
    "                    exit_name = 'Salida SL'\n",
    "                elif Result == 2:\n",
    "                    # Operación Break Even\n",
    "                    exit_price = entry_price\n",
    "                    exit_marker_color = 'yellow'\n",
    "                    exit_marker_symbol = 'diamond'\n",
    "                    exit_name = 'Salida BE'\n",
    "                else:\n",
    "                    # Operación cerrada por límite de tiempo u otro\n",
    "                    if exit_time in df_dia.index:\n",
    "                        exit_price = df_dia.loc[exit_time]['close']\n",
    "                    else:\n",
    "                        exit_price = entry_price\n",
    "                    exit_marker_color = 'grey'\n",
    "                    exit_marker_symbol = 'x'\n",
    "                    exit_name = 'Salida Time Out'\n",
    "                \n",
    "                # ============================\n",
    "                # Añadir marcador para la salida\n",
    "                # ============================\n",
    "                fig.add_trace(go.Scatter(\n",
    "                    x=[exit_time],\n",
    "                    y=[exit_price],\n",
    "                    mode='markers',\n",
    "                    marker=dict(color=exit_marker_color, size=8, symbol=exit_marker_symbol),\n",
    "                    name=exit_name,\n",
    "                    showlegend=False\n",
    "                ))\n",
    "                \n",
    "                # ============================\n",
    "                # Añadir marcador para Break Even si aplica\n",
    "                # ============================\n",
    "                if Result == 2:\n",
    "                    fig.add_trace(go.Scatter(\n",
    "                        x=[exit_time],\n",
    "                        y=[exit_price],\n",
    "                        mode='markers',\n",
    "                        marker=dict(color='yellow', size=10, symbol='diamond'),\n",
    "                        name='Break Even',\n",
    "                        showlegend=False\n",
    "                    ))\n",
    "        else:\n",
    "            print(\"No hay operaciones de compra o venta para esta fecha.\")\n",
    "    else:\n",
    "        print(\"La columna 'OP' no existe en el DataFrame.\")\n",
    "            \n",
    "    # Configurar el layout del gráfico\n",
    "    fig.update_layout(\n",
    "    title=f\"Operaciones del día {fecha}\",\n",
    "    xaxis_title=\"Hora\",\n",
    "    yaxis_title=\"Precio\",\n",
    "    xaxis_rangeslider_visible=False,\n",
    "    width=1700,  # Ancho del gráfico\n",
    "    height=800,  # Altura del gráfico\n",
    "    template='plotly_dark'  # Cambiar el tema a oscuro\n",
    "    )\n",
    "    \n",
    "    return fig\n",
    "\n",
    "def generar_pdf(df):\n",
    "    # Obtener la lista de fechas únicas en el dataframe\n",
    "    lista_fechas = df.index.normalize().unique()\n",
    "    \n",
    "    # Lista para almacenar los nombres de los archivos de imagen\n",
    "    archivos_imagenes = []\n",
    "    \n",
    "    # Crear un directorio temporal para almacenar las imágenes\n",
    "    temp_dir = tempfile.mkdtemp()\n",
    "    \n",
    "    # Dimensiones de las imágenes\n",
    "    img_width_px = 1600\n",
    "    img_height_px = 800\n",
    "    \n",
    "    # Iterar sobre cada fecha y generar el gráfico correspondiente\n",
    "    for fecha in lista_fechas:\n",
    "        fecha_str = fecha.strftime('%Y-%m-%d')\n",
    "        # Generar el gráfico para la fecha\n",
    "        fig = generar_grafico_fvg(df, fecha_str)\n",
    "        \n",
    "        if fig is None:\n",
    "            continue  # Si no hay datos para la fecha, continuar con la siguiente\n",
    "        \n",
    "        # Guardar el gráfico como imagen\n",
    "        nombre_imagen = os.path.join(temp_dir, f\"{fecha_str}.png\")\n",
    "        fig.write_image(nombre_imagen, format='png', width=img_width_px, height=img_height_px)\n",
    "        archivos_imagenes.append(nombre_imagen)\n",
    "    \n",
    "    if not archivos_imagenes:\n",
    "        print(\"No hay gráficos para generar el PDF.\")\n",
    "        shutil.rmtree(temp_dir)\n",
    "        return None\n",
    "    \n",
    "    # Crear el PDF ajustando el tamaño de la página al tamaño de las imágenes\n",
    "    pdf = FPDF(unit='pt', format=(img_width_px, img_height_px))\n",
    "    \n",
    "    for archivo_imagen in archivos_imagenes:\n",
    "        pdf.add_page()\n",
    "        pdf.image(archivo_imagen, x=0, y=0, w=img_width_px, h=img_height_px)\n",
    "    \n",
    "    # Eliminar el directorio temporal\n",
    "    shutil.rmtree(temp_dir)\n",
    "    \n",
    "    return pdf\n",
    "\n",
    "def guardar_pdf(pdf, nombre_pdf):\n",
    "    # Guardar el PDF en el directorio actual\n",
    "    if pdf is not None:\n",
    "        pdf.output(nombre_pdf, \"F\")\n",
    "        print(f\"Archivo PDF '{nombre_pdf}' guardado con éxito en el directorio actual.\")\n",
    "    else:\n",
    "        print(\"No se generó ningún PDF para guardar.\")\n",
    "\n",
    "# Generar gráfico para la fecha 2021-01-04\n",
    "generar_grafico_fvg(df2, '2024-12-10')"
   ]
  },
  {
   "cell_type": "code",
   "execution_count": 16,
   "metadata": {},
   "outputs": [
    {
     "data": {
      "application/vnd.plotly.v1+json": {
       "config": {
        "plotlyServerURL": "https://plot.ly"
       },
       "data": [
        {
         "close": [
          40133.15,
          40138.25,
          40146.15,
          40151.65,
          40147.65,
          40152.15,
          40286.75,
          40324.65,
          40338.65,
          40372.65,
          40384.65,
          40392.65,
          40420.65,
          40396.65,
          40413.65,
          40397.15,
          40397.65,
          40457.65,
          40536.65,
          40484.65,
          40457.65,
          40439.65,
          40406.75,
          40390.75,
          40338.65,
          40307.15,
          40346.65,
          40366.65,
          40340.15,
          40363.65,
          40382.25,
          40353.75,
          40373.75,
          40381.65,
          40402.65,
          40418.75,
          40445.65,
          40458.35,
          40468.85,
          40479.75,
          40480.35,
          40451.75,
          40456.15,
          40473.35,
          40472.35,
          40490.85,
          40483.85,
          40458.85,
          40472.35,
          40478.45,
          40493.95,
          40507.35,
          40530.85,
          40537.35,
          40540.85,
          40512.75,
          40483.65,
          40480.55,
          40484.25,
          40500.75,
          40487.75,
          40464.85,
          40473.35,
          40481.35,
          40497.85,
          40506.85,
          40518.85,
          40513.35,
          40507.35,
          40511.85,
          40510.85,
          40513.35,
          40525.95,
          40515.45,
          40504.85,
          40521.75,
          40519.95,
          40531.95,
          40530.85,
          40538.85,
          40568.85,
          40557.35,
          40542.65,
          40545.85,
          40532.85,
          40545.85,
          40545.85,
          40560.85,
          40575.35,
          40578.35,
          40582.75,
          40594.85,
          40574.35,
          40554.05,
          40520.55,
          40573.05
         ],
         "decreasing": {
          "line": {
           "color": "red"
          }
         },
         "high": [
          40141.65,
          40142.75,
          40148.65,
          40151.65,
          40157.65,
          40155.15,
          40290.25,
          40327.15,
          40339.15,
          40382.65,
          40407.65,
          40402.65,
          40421.65,
          40430.65,
          40418.15,
          40416.15,
          40402.65,
          40479.65,
          40548.65,
          40542.65,
          40504.65,
          40482.65,
          40444.65,
          40430.75,
          40410.65,
          40340.65,
          40346.65,
          40371.15,
          40375.15,
          40378.65,
          40389.15,
          40395.25,
          40373.75,
          40408.75,
          40408.65,
          40421.15,
          40447.15,
          40459.35,
          40474.35,
          40500.85,
          40489.85,
          40488.35,
          40472.65,
          40478.75,
          40484.85,
          40491.35,
          40499.85,
          40493.35,
          40480.85,
          40483.95,
          40501.45,
          40525.95,
          40539.85,
          40537.35,
          40545.35,
          40541.35,
          40516.25,
          40496.15,
          40496.65,
          40505.25,
          40502.85,
          40492.75,
          40481.35,
          40484.35,
          40502.85,
          40527.85,
          40519.85,
          40523.85,
          40518.35,
          40521.85,
          40520.35,
          40517.85,
          40532.45,
          40528.45,
          40518.45,
          40523.75,
          40526.35,
          40536.95,
          40537.95,
          40540.35,
          40569.35,
          40567.35,
          40557.35,
          40549.25,
          40545.35,
          40549.45,
          40553.45,
          40567.35,
          40580.85,
          40582.35,
          40587.25,
          40598.85,
          40597.35,
          40577.75,
          40559.55,
          40578.05
         ],
         "increasing": {
          "line": {
           "color": "green"
          }
         },
         "low": [
          40129.15,
          40128.65,
          40136.75,
          40141.65,
          40140.65,
          40131.15,
          40177.15,
          40265.25,
          40309.65,
          40330.15,
          40366.65,
          40380.65,
          40379.65,
          40395.65,
          40390.15,
          40385.65,
          40375.65,
          40384.15,
          40454.65,
          40469.65,
          40426.65,
          40408.65,
          40400.65,
          40386.75,
          40334.65,
          40301.15,
          40291.65,
          40332.65,
          40327.15,
          40327.65,
          40360.15,
          40330.75,
          40343.75,
          40365.75,
          40375.65,
          40391.65,
          40408.65,
          40436.25,
          40450.85,
          40468.35,
          40469.75,
          40447.25,
          40442.25,
          40450.65,
          40468.85,
          40458.85,
          40475.35,
          40458.85,
          40447.85,
          40468.35,
          40478.95,
          40494.45,
          40507.35,
          40512.35,
          40517.85,
          40508.25,
          40475.05,
          40455.55,
          40472.55,
          40479.25,
          40472.65,
          40464.85,
          40460.85,
          40466.35,
          40477.35,
          40496.85,
          40506.35,
          40508.85,
          40499.85,
          40501.35,
          40505.85,
          40500.35,
          40506.45,
          40510.45,
          40503.85,
          40500.35,
          40512.85,
          40514.95,
          40523.45,
          40522.85,
          40535.85,
          40553.35,
          40527.25,
          40535.85,
          40515.95,
          40523.85,
          40535.95,
          40541.35,
          40551.85,
          40558.85,
          40567.35,
          40578.35,
          40569.85,
          40544.15,
          40496.55,
          40496.55
         ],
         "name": "Candlestick",
         "opacity": 0.6,
         "open": [
          40138.15,
          40132.15,
          40138.75,
          40145.15,
          40151.65,
          40147.65,
          40189.15,
          40285.75,
          40324.15,
          40337.65,
          40372.65,
          40384.65,
          40394.55,
          40419.65,
          40397.65,
          40413.15,
          40397.65,
          40399.65,
          40454.65,
          40537.65,
          40485.65,
          40457.65,
          40440.65,
          40406.75,
          40391.05,
          40339.65,
          40307.65,
          40346.65,
          40365.65,
          40340.65,
          40363.15,
          40380.75,
          40351.25,
          40372.75,
          40381.65,
          40402.65,
          40418.75,
          40445.15,
          40458.35,
          40469.35,
          40479.75,
          40478.35,
          40451.75,
          40456.65,
          40472.85,
          40472.85,
          40490.35,
          40484.35,
          40458.85,
          40471.85,
          40478.95,
          40494.95,
          40507.85,
          40530.35,
          40536.85,
          40541.35,
          40512.25,
          40483.65,
          40481.05,
          40483.75,
          40502.25,
          40487.25,
          40466.85,
          40472.85,
          40480.85,
          40497.85,
          40506.35,
          40518.35,
          40513.35,
          40507.35,
          40511.35,
          40509.35,
          40513.85,
          40525.95,
          40514.95,
          40504.85,
          40521.25,
          40519.95,
          40530.95,
          40531.85,
          40538.85,
          40567.35,
          40557.35,
          40542.15,
          40545.35,
          40533.35,
          40546.35,
          40545.85,
          40560.35,
          40574.85,
          40577.85,
          40582.75,
          40594.85,
          40573.35,
          40553.05,
          40519.05
         ],
         "type": "candlestick",
         "x": [
          "2024-08-15T08:00:00",
          "2024-08-15T08:05:00",
          "2024-08-15T08:10:00",
          "2024-08-15T08:15:00",
          "2024-08-15T08:20:00",
          "2024-08-15T08:25:00",
          "2024-08-15T08:30:00",
          "2024-08-15T08:35:00",
          "2024-08-15T08:40:00",
          "2024-08-15T08:45:00",
          "2024-08-15T08:50:00",
          "2024-08-15T08:55:00",
          "2024-08-15T09:00:00",
          "2024-08-15T09:05:00",
          "2024-08-15T09:10:00",
          "2024-08-15T09:15:00",
          "2024-08-15T09:20:00",
          "2024-08-15T09:25:00",
          "2024-08-15T09:30:00",
          "2024-08-15T09:35:00",
          "2024-08-15T09:40:00",
          "2024-08-15T09:45:00",
          "2024-08-15T09:50:00",
          "2024-08-15T09:55:00",
          "2024-08-15T10:00:00",
          "2024-08-15T10:05:00",
          "2024-08-15T10:10:00",
          "2024-08-15T10:15:00",
          "2024-08-15T10:20:00",
          "2024-08-15T10:25:00",
          "2024-08-15T10:30:00",
          "2024-08-15T10:35:00",
          "2024-08-15T10:40:00",
          "2024-08-15T10:45:00",
          "2024-08-15T10:50:00",
          "2024-08-15T10:55:00",
          "2024-08-15T11:00:00",
          "2024-08-15T11:05:00",
          "2024-08-15T11:10:00",
          "2024-08-15T11:15:00",
          "2024-08-15T11:20:00",
          "2024-08-15T11:25:00",
          "2024-08-15T11:30:00",
          "2024-08-15T11:35:00",
          "2024-08-15T11:40:00",
          "2024-08-15T11:45:00",
          "2024-08-15T11:50:00",
          "2024-08-15T11:55:00",
          "2024-08-15T12:00:00",
          "2024-08-15T12:05:00",
          "2024-08-15T12:10:00",
          "2024-08-15T12:15:00",
          "2024-08-15T12:20:00",
          "2024-08-15T12:25:00",
          "2024-08-15T12:30:00",
          "2024-08-15T12:35:00",
          "2024-08-15T12:40:00",
          "2024-08-15T12:45:00",
          "2024-08-15T12:50:00",
          "2024-08-15T12:55:00",
          "2024-08-15T13:00:00",
          "2024-08-15T13:05:00",
          "2024-08-15T13:10:00",
          "2024-08-15T13:15:00",
          "2024-08-15T13:20:00",
          "2024-08-15T13:25:00",
          "2024-08-15T13:30:00",
          "2024-08-15T13:35:00",
          "2024-08-15T13:40:00",
          "2024-08-15T13:45:00",
          "2024-08-15T13:50:00",
          "2024-08-15T13:55:00",
          "2024-08-15T14:00:00",
          "2024-08-15T14:05:00",
          "2024-08-15T14:10:00",
          "2024-08-15T14:15:00",
          "2024-08-15T14:20:00",
          "2024-08-15T14:25:00",
          "2024-08-15T14:30:00",
          "2024-08-15T14:35:00",
          "2024-08-15T14:40:00",
          "2024-08-15T14:45:00",
          "2024-08-15T14:50:00",
          "2024-08-15T14:55:00",
          "2024-08-15T15:00:00",
          "2024-08-15T15:05:00",
          "2024-08-15T15:10:00",
          "2024-08-15T15:15:00",
          "2024-08-15T15:20:00",
          "2024-08-15T15:25:00",
          "2024-08-15T15:30:00",
          "2024-08-15T15:35:00",
          "2024-08-15T15:40:00",
          "2024-08-15T15:45:00",
          "2024-08-15T15:50:00",
          "2024-08-15T15:55:00"
         ]
        },
        {
         "marker": {
          "color": "blue",
          "size": 10,
          "symbol": "triangle-down"
         },
         "mode": "markers",
         "name": "Entrada Venta",
         "showlegend": false,
         "type": "scatter",
         "x": [
          "2024-08-15T10:15:00"
         ],
         "y": [
          40363.7
         ]
        },
        {
         "marker": {
          "color": "red",
          "size": 8,
          "symbol": "circle"
         },
         "mode": "markers",
         "name": "Salida SL",
         "showlegend": false,
         "type": "scatter",
         "x": [
          "2024-08-15T10:35:00"
         ],
         "y": [
          40394.7
         ]
        },
        {
         "marker": {
          "color": "blue",
          "size": 10,
          "symbol": "triangle-up"
         },
         "mode": "markers",
         "name": "Entrada Compra",
         "showlegend": false,
         "type": "scatter",
         "x": [
          "2024-08-15T11:25:00"
         ],
         "y": [
          40463.85
         ]
        },
        {
         "marker": {
          "color": "grey",
          "size": 8,
          "symbol": "x"
         },
         "mode": "markers",
         "name": "Salida Time Out",
         "showlegend": false,
         "type": "scatter",
         "x": [
          "2024-08-15T14:25:00"
         ],
         "y": [
          40531.95
         ]
        }
       ],
       "layout": {
        "height": 800,
        "shapes": [
         {
          "line": {
           "color": "white",
           "width": 2
          },
          "type": "line",
          "x0": "2024-08-15T08:30:00",
          "x1": "2024-08-15T08:45:00",
          "xref": "x",
          "y0": 40227.2,
          "y1": 40227.2,
          "yref": "y"
         },
         {
          "line": {
           "color": "white",
           "width": 2
          },
          "type": "line",
          "x0": "2024-08-15T08:35:00",
          "x1": "2024-08-15T08:50:00",
          "xref": "x",
          "y0": 40299.95,
          "y1": 40299.95,
          "yref": "y"
         },
         {
          "line": {
           "color": "white",
           "width": 2
          },
          "type": "line",
          "x0": "2024-08-15T08:45:00",
          "x1": "2024-08-15T09:00:00",
          "xref": "x",
          "y0": 40352.9,
          "y1": 40352.9,
          "yref": "y"
         },
         {
          "line": {
           "color": "white",
           "width": 2
          },
          "type": "line",
          "x0": "2024-08-15T11:00:00",
          "x1": "2024-08-15T11:15:00",
          "xref": "x",
          "y0": 40428.7,
          "y1": 40428.7,
          "yref": "y"
         },
         {
          "line": {
           "color": "white",
           "width": 2
          },
          "type": "line",
          "x0": "2024-08-15T11:10:00",
          "x1": "2024-08-15T11:25:00",
          "xref": "x",
          "y0": 40463.85,
          "y1": 40463.85,
          "yref": "y"
         },
         {
          "line": {
           "color": "white",
           "width": 2
          },
          "type": "line",
          "x0": "2024-08-15T12:10:00",
          "x1": "2024-08-15T12:25:00",
          "xref": "x",
          "y0": 40488.95,
          "y1": 40488.95,
          "yref": "y"
         },
         {
          "line": {
           "color": "white",
           "width": 2
          },
          "type": "line",
          "x0": "2024-08-15T12:15:00",
          "x1": "2024-08-15T12:30:00",
          "xref": "x",
          "y0": 40504.399999999994,
          "y1": 40504.399999999994,
          "yref": "y"
         },
         {
          "line": {
           "color": "white",
           "width": 2
          },
          "type": "line",
          "x0": "2024-08-15T13:20:00",
          "x1": "2024-08-15T13:35:00",
          "xref": "x",
          "y0": 40490.6,
          "y1": 40490.6,
          "yref": "y"
         },
         {
          "line": {
           "color": "white",
           "width": 2
          },
          "type": "line",
          "x0": "2024-08-15T10:00:00",
          "x1": "2024-08-15T10:15:00",
          "xref": "x",
          "y0": 40363.7,
          "y1": 40363.7,
          "yref": "y"
         },
         {
          "line": {
           "color": "white",
           "width": 2
          },
          "type": "line",
          "x0": "2024-08-15T15:45:00",
          "x1": "2024-08-15T16:00:00",
          "xref": "x",
          "y0": 40564.7,
          "y1": 40564.7,
          "yref": "y"
         },
         {
          "fillcolor": "rgba(255, 0, 0, 0.2)",
          "layer": "below",
          "line": {
           "color": "rgba(255, 0, 0, 0.2)"
          },
          "type": "rect",
          "x0": "2024-08-15T10:15:00",
          "x1": "2024-08-15T10:35:00",
          "y0": 40363.7,
          "y1": 40394.7
         },
         {
          "fillcolor": "rgba(0, 255, 0, 0.2)",
          "layer": "below",
          "line": {
           "color": "rgba(0, 255, 0, 0.2)"
          },
          "type": "rect",
          "x0": "2024-08-15T10:15:00",
          "x1": "2024-08-15T10:35:00",
          "y0": 40363.7,
          "y1": 40280
         },
         {
          "fillcolor": "rgba(255, 0, 0, 0.2)",
          "layer": "below",
          "line": {
           "color": "rgba(255, 0, 0, 0.2)"
          },
          "type": "rect",
          "x0": "2024-08-15T11:25:00",
          "x1": "2024-08-15T14:25:00",
          "y0": 40463.85,
          "y1": 40432.85
         },
         {
          "fillcolor": "rgba(0, 255, 0, 0.2)",
          "layer": "below",
          "line": {
           "color": "rgba(0, 255, 0, 0.2)"
          },
          "type": "rect",
          "x0": "2024-08-15T11:25:00",
          "x1": "2024-08-15T14:25:00",
          "y0": 40463.85,
          "y1": 40547.549999999996
         }
        ],
        "template": {
         "data": {
          "bar": [
           {
            "error_x": {
             "color": "#f2f5fa"
            },
            "error_y": {
             "color": "#f2f5fa"
            },
            "marker": {
             "line": {
              "color": "rgb(17,17,17)",
              "width": 0.5
             },
             "pattern": {
              "fillmode": "overlay",
              "size": 10,
              "solidity": 0.2
             }
            },
            "type": "bar"
           }
          ],
          "barpolar": [
           {
            "marker": {
             "line": {
              "color": "rgb(17,17,17)",
              "width": 0.5
             },
             "pattern": {
              "fillmode": "overlay",
              "size": 10,
              "solidity": 0.2
             }
            },
            "type": "barpolar"
           }
          ],
          "carpet": [
           {
            "aaxis": {
             "endlinecolor": "#A2B1C6",
             "gridcolor": "#506784",
             "linecolor": "#506784",
             "minorgridcolor": "#506784",
             "startlinecolor": "#A2B1C6"
            },
            "baxis": {
             "endlinecolor": "#A2B1C6",
             "gridcolor": "#506784",
             "linecolor": "#506784",
             "minorgridcolor": "#506784",
             "startlinecolor": "#A2B1C6"
            },
            "type": "carpet"
           }
          ],
          "choropleth": [
           {
            "colorbar": {
             "outlinewidth": 0,
             "ticks": ""
            },
            "type": "choropleth"
           }
          ],
          "contour": [
           {
            "colorbar": {
             "outlinewidth": 0,
             "ticks": ""
            },
            "colorscale": [
             [
              0,
              "#0d0887"
             ],
             [
              0.1111111111111111,
              "#46039f"
             ],
             [
              0.2222222222222222,
              "#7201a8"
             ],
             [
              0.3333333333333333,
              "#9c179e"
             ],
             [
              0.4444444444444444,
              "#bd3786"
             ],
             [
              0.5555555555555556,
              "#d8576b"
             ],
             [
              0.6666666666666666,
              "#ed7953"
             ],
             [
              0.7777777777777778,
              "#fb9f3a"
             ],
             [
              0.8888888888888888,
              "#fdca26"
             ],
             [
              1,
              "#f0f921"
             ]
            ],
            "type": "contour"
           }
          ],
          "contourcarpet": [
           {
            "colorbar": {
             "outlinewidth": 0,
             "ticks": ""
            },
            "type": "contourcarpet"
           }
          ],
          "heatmap": [
           {
            "colorbar": {
             "outlinewidth": 0,
             "ticks": ""
            },
            "colorscale": [
             [
              0,
              "#0d0887"
             ],
             [
              0.1111111111111111,
              "#46039f"
             ],
             [
              0.2222222222222222,
              "#7201a8"
             ],
             [
              0.3333333333333333,
              "#9c179e"
             ],
             [
              0.4444444444444444,
              "#bd3786"
             ],
             [
              0.5555555555555556,
              "#d8576b"
             ],
             [
              0.6666666666666666,
              "#ed7953"
             ],
             [
              0.7777777777777778,
              "#fb9f3a"
             ],
             [
              0.8888888888888888,
              "#fdca26"
             ],
             [
              1,
              "#f0f921"
             ]
            ],
            "type": "heatmap"
           }
          ],
          "heatmapgl": [
           {
            "colorbar": {
             "outlinewidth": 0,
             "ticks": ""
            },
            "colorscale": [
             [
              0,
              "#0d0887"
             ],
             [
              0.1111111111111111,
              "#46039f"
             ],
             [
              0.2222222222222222,
              "#7201a8"
             ],
             [
              0.3333333333333333,
              "#9c179e"
             ],
             [
              0.4444444444444444,
              "#bd3786"
             ],
             [
              0.5555555555555556,
              "#d8576b"
             ],
             [
              0.6666666666666666,
              "#ed7953"
             ],
             [
              0.7777777777777778,
              "#fb9f3a"
             ],
             [
              0.8888888888888888,
              "#fdca26"
             ],
             [
              1,
              "#f0f921"
             ]
            ],
            "type": "heatmapgl"
           }
          ],
          "histogram": [
           {
            "marker": {
             "pattern": {
              "fillmode": "overlay",
              "size": 10,
              "solidity": 0.2
             }
            },
            "type": "histogram"
           }
          ],
          "histogram2d": [
           {
            "colorbar": {
             "outlinewidth": 0,
             "ticks": ""
            },
            "colorscale": [
             [
              0,
              "#0d0887"
             ],
             [
              0.1111111111111111,
              "#46039f"
             ],
             [
              0.2222222222222222,
              "#7201a8"
             ],
             [
              0.3333333333333333,
              "#9c179e"
             ],
             [
              0.4444444444444444,
              "#bd3786"
             ],
             [
              0.5555555555555556,
              "#d8576b"
             ],
             [
              0.6666666666666666,
              "#ed7953"
             ],
             [
              0.7777777777777778,
              "#fb9f3a"
             ],
             [
              0.8888888888888888,
              "#fdca26"
             ],
             [
              1,
              "#f0f921"
             ]
            ],
            "type": "histogram2d"
           }
          ],
          "histogram2dcontour": [
           {
            "colorbar": {
             "outlinewidth": 0,
             "ticks": ""
            },
            "colorscale": [
             [
              0,
              "#0d0887"
             ],
             [
              0.1111111111111111,
              "#46039f"
             ],
             [
              0.2222222222222222,
              "#7201a8"
             ],
             [
              0.3333333333333333,
              "#9c179e"
             ],
             [
              0.4444444444444444,
              "#bd3786"
             ],
             [
              0.5555555555555556,
              "#d8576b"
             ],
             [
              0.6666666666666666,
              "#ed7953"
             ],
             [
              0.7777777777777778,
              "#fb9f3a"
             ],
             [
              0.8888888888888888,
              "#fdca26"
             ],
             [
              1,
              "#f0f921"
             ]
            ],
            "type": "histogram2dcontour"
           }
          ],
          "mesh3d": [
           {
            "colorbar": {
             "outlinewidth": 0,
             "ticks": ""
            },
            "type": "mesh3d"
           }
          ],
          "parcoords": [
           {
            "line": {
             "colorbar": {
              "outlinewidth": 0,
              "ticks": ""
             }
            },
            "type": "parcoords"
           }
          ],
          "pie": [
           {
            "automargin": true,
            "type": "pie"
           }
          ],
          "scatter": [
           {
            "marker": {
             "line": {
              "color": "#283442"
             }
            },
            "type": "scatter"
           }
          ],
          "scatter3d": [
           {
            "line": {
             "colorbar": {
              "outlinewidth": 0,
              "ticks": ""
             }
            },
            "marker": {
             "colorbar": {
              "outlinewidth": 0,
              "ticks": ""
             }
            },
            "type": "scatter3d"
           }
          ],
          "scattercarpet": [
           {
            "marker": {
             "colorbar": {
              "outlinewidth": 0,
              "ticks": ""
             }
            },
            "type": "scattercarpet"
           }
          ],
          "scattergeo": [
           {
            "marker": {
             "colorbar": {
              "outlinewidth": 0,
              "ticks": ""
             }
            },
            "type": "scattergeo"
           }
          ],
          "scattergl": [
           {
            "marker": {
             "line": {
              "color": "#283442"
             }
            },
            "type": "scattergl"
           }
          ],
          "scattermapbox": [
           {
            "marker": {
             "colorbar": {
              "outlinewidth": 0,
              "ticks": ""
             }
            },
            "type": "scattermapbox"
           }
          ],
          "scatterpolar": [
           {
            "marker": {
             "colorbar": {
              "outlinewidth": 0,
              "ticks": ""
             }
            },
            "type": "scatterpolar"
           }
          ],
          "scatterpolargl": [
           {
            "marker": {
             "colorbar": {
              "outlinewidth": 0,
              "ticks": ""
             }
            },
            "type": "scatterpolargl"
           }
          ],
          "scatterternary": [
           {
            "marker": {
             "colorbar": {
              "outlinewidth": 0,
              "ticks": ""
             }
            },
            "type": "scatterternary"
           }
          ],
          "surface": [
           {
            "colorbar": {
             "outlinewidth": 0,
             "ticks": ""
            },
            "colorscale": [
             [
              0,
              "#0d0887"
             ],
             [
              0.1111111111111111,
              "#46039f"
             ],
             [
              0.2222222222222222,
              "#7201a8"
             ],
             [
              0.3333333333333333,
              "#9c179e"
             ],
             [
              0.4444444444444444,
              "#bd3786"
             ],
             [
              0.5555555555555556,
              "#d8576b"
             ],
             [
              0.6666666666666666,
              "#ed7953"
             ],
             [
              0.7777777777777778,
              "#fb9f3a"
             ],
             [
              0.8888888888888888,
              "#fdca26"
             ],
             [
              1,
              "#f0f921"
             ]
            ],
            "type": "surface"
           }
          ],
          "table": [
           {
            "cells": {
             "fill": {
              "color": "#506784"
             },
             "line": {
              "color": "rgb(17,17,17)"
             }
            },
            "header": {
             "fill": {
              "color": "#2a3f5f"
             },
             "line": {
              "color": "rgb(17,17,17)"
             }
            },
            "type": "table"
           }
          ]
         },
         "layout": {
          "annotationdefaults": {
           "arrowcolor": "#f2f5fa",
           "arrowhead": 0,
           "arrowwidth": 1
          },
          "autotypenumbers": "strict",
          "coloraxis": {
           "colorbar": {
            "outlinewidth": 0,
            "ticks": ""
           }
          },
          "colorscale": {
           "diverging": [
            [
             0,
             "#8e0152"
            ],
            [
             0.1,
             "#c51b7d"
            ],
            [
             0.2,
             "#de77ae"
            ],
            [
             0.3,
             "#f1b6da"
            ],
            [
             0.4,
             "#fde0ef"
            ],
            [
             0.5,
             "#f7f7f7"
            ],
            [
             0.6,
             "#e6f5d0"
            ],
            [
             0.7,
             "#b8e186"
            ],
            [
             0.8,
             "#7fbc41"
            ],
            [
             0.9,
             "#4d9221"
            ],
            [
             1,
             "#276419"
            ]
           ],
           "sequential": [
            [
             0,
             "#0d0887"
            ],
            [
             0.1111111111111111,
             "#46039f"
            ],
            [
             0.2222222222222222,
             "#7201a8"
            ],
            [
             0.3333333333333333,
             "#9c179e"
            ],
            [
             0.4444444444444444,
             "#bd3786"
            ],
            [
             0.5555555555555556,
             "#d8576b"
            ],
            [
             0.6666666666666666,
             "#ed7953"
            ],
            [
             0.7777777777777778,
             "#fb9f3a"
            ],
            [
             0.8888888888888888,
             "#fdca26"
            ],
            [
             1,
             "#f0f921"
            ]
           ],
           "sequentialminus": [
            [
             0,
             "#0d0887"
            ],
            [
             0.1111111111111111,
             "#46039f"
            ],
            [
             0.2222222222222222,
             "#7201a8"
            ],
            [
             0.3333333333333333,
             "#9c179e"
            ],
            [
             0.4444444444444444,
             "#bd3786"
            ],
            [
             0.5555555555555556,
             "#d8576b"
            ],
            [
             0.6666666666666666,
             "#ed7953"
            ],
            [
             0.7777777777777778,
             "#fb9f3a"
            ],
            [
             0.8888888888888888,
             "#fdca26"
            ],
            [
             1,
             "#f0f921"
            ]
           ]
          },
          "colorway": [
           "#636efa",
           "#EF553B",
           "#00cc96",
           "#ab63fa",
           "#FFA15A",
           "#19d3f3",
           "#FF6692",
           "#B6E880",
           "#FF97FF",
           "#FECB52"
          ],
          "font": {
           "color": "#f2f5fa"
          },
          "geo": {
           "bgcolor": "rgb(17,17,17)",
           "lakecolor": "rgb(17,17,17)",
           "landcolor": "rgb(17,17,17)",
           "showlakes": true,
           "showland": true,
           "subunitcolor": "#506784"
          },
          "hoverlabel": {
           "align": "left"
          },
          "hovermode": "closest",
          "mapbox": {
           "style": "dark"
          },
          "paper_bgcolor": "rgb(17,17,17)",
          "plot_bgcolor": "rgb(17,17,17)",
          "polar": {
           "angularaxis": {
            "gridcolor": "#506784",
            "linecolor": "#506784",
            "ticks": ""
           },
           "bgcolor": "rgb(17,17,17)",
           "radialaxis": {
            "gridcolor": "#506784",
            "linecolor": "#506784",
            "ticks": ""
           }
          },
          "scene": {
           "xaxis": {
            "backgroundcolor": "rgb(17,17,17)",
            "gridcolor": "#506784",
            "gridwidth": 2,
            "linecolor": "#506784",
            "showbackground": true,
            "ticks": "",
            "zerolinecolor": "#C8D4E3"
           },
           "yaxis": {
            "backgroundcolor": "rgb(17,17,17)",
            "gridcolor": "#506784",
            "gridwidth": 2,
            "linecolor": "#506784",
            "showbackground": true,
            "ticks": "",
            "zerolinecolor": "#C8D4E3"
           },
           "zaxis": {
            "backgroundcolor": "rgb(17,17,17)",
            "gridcolor": "#506784",
            "gridwidth": 2,
            "linecolor": "#506784",
            "showbackground": true,
            "ticks": "",
            "zerolinecolor": "#C8D4E3"
           }
          },
          "shapedefaults": {
           "line": {
            "color": "#f2f5fa"
           }
          },
          "sliderdefaults": {
           "bgcolor": "#C8D4E3",
           "bordercolor": "rgb(17,17,17)",
           "borderwidth": 1,
           "tickwidth": 0
          },
          "ternary": {
           "aaxis": {
            "gridcolor": "#506784",
            "linecolor": "#506784",
            "ticks": ""
           },
           "baxis": {
            "gridcolor": "#506784",
            "linecolor": "#506784",
            "ticks": ""
           },
           "bgcolor": "rgb(17,17,17)",
           "caxis": {
            "gridcolor": "#506784",
            "linecolor": "#506784",
            "ticks": ""
           }
          },
          "title": {
           "x": 0.05
          },
          "updatemenudefaults": {
           "bgcolor": "#506784",
           "borderwidth": 0
          },
          "xaxis": {
           "automargin": true,
           "gridcolor": "#283442",
           "linecolor": "#506784",
           "ticks": "",
           "title": {
            "standoff": 15
           },
           "zerolinecolor": "#283442",
           "zerolinewidth": 2
          },
          "yaxis": {
           "automargin": true,
           "gridcolor": "#283442",
           "linecolor": "#506784",
           "ticks": "",
           "title": {
            "standoff": 15
           },
           "zerolinecolor": "#283442",
           "zerolinewidth": 2
          }
         }
        },
        "title": {
         "text": "Operaciones del día 2024-08-15"
        },
        "width": 1700,
        "xaxis": {
         "anchor": "y",
         "domain": [
          0,
          1
         ],
         "rangeslider": {
          "visible": false
         },
         "title": {
          "text": "Hora"
         }
        },
        "yaxis": {
         "anchor": "x",
         "domain": [
          0,
          1
         ],
         "title": {
          "text": "Precio"
         }
        }
       }
      }
     },
     "metadata": {},
     "output_type": "display_data"
    }
   ],
   "source": [
    "try:\n",
    "    Fecha=None#'2024-12-09'\n",
    "    fechas=strategy.OPs[strategy.OPs['Result']==-2].index.strftime('%Y-%m-%d').unique().tolist()[-1]\n",
    "    grafico=generar_grafico_por_dia(strategy.OPs,Fecha) if Fecha is not None else generar_grafico_por_dia(strategy.OPs,fechas)\n",
    "    grafico.show()\n",
    "except:\n",
    "    print('Fuera de rango')"
   ]
  },
  {
   "cell_type": "code",
   "execution_count": 18,
   "metadata": {},
   "outputs": [],
   "source": [
    "pdf = generar_pdf(df2)"
   ]
  },
  {
   "cell_type": "code",
   "execution_count": 19,
   "metadata": {},
   "outputs": [
    {
     "name": "stdout",
     "output_type": "stream",
     "text": [
      "Archivo PDF 'graficos_diarios.pdf' guardado con éxito en el directorio actual.\n"
     ]
    }
   ],
   "source": [
    "guardar_pdf(pdf, 'graficos_diarios.pdf')"
   ]
  }
 ],
 "metadata": {
  "kernelspec": {
   "display_name": "Python 3",
   "language": "python",
   "name": "python3"
  },
  "language_info": {
   "codemirror_mode": {
    "name": "ipython",
    "version": 3
   },
   "file_extension": ".py",
   "mimetype": "text/x-python",
   "name": "python",
   "nbconvert_exporter": "python",
   "pygments_lexer": "ipython3",
   "version": "3.12.6"
  }
 },
 "nbformat": 4,
 "nbformat_minor": 2
}
