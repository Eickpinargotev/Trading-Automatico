{
 "cells": [
  {
   "cell_type": "markdown",
   "metadata": {},
   "source": [
    "# EJECUTOR\n",
    "En este notebook construiremos la logica del script que ejecutará las ordenes de mercado que el modelo tome como operaciones de alta probabilidad\n",
    "Aquí no se profundizará en los detalles, porque esta es la aplicación del proyecto que hemos venido construyendo.\n",
    "El objetivo es usar el modelo construido para predecir ordenes en el mercado."
   ]
  },
  {
   "cell_type": "markdown",
   "metadata": {},
   "source": [
    "IMPORTAMOS LIBRERÍAS NECESARIAS"
   ]
  },
  {
   "cell_type": "code",
   "execution_count": 1,
   "metadata": {},
   "outputs": [],
   "source": [
    "import MetaTrader5 as mt5\n",
    "import pandas as pd\n",
    "import numpy as np\n",
    "import matplotlib.pyplot as plt\n",
    "import plotly.express as px\n",
    "from datetime import datetime\n",
    "from sklearn.preprocessing import MinMaxScaler\n",
    "from tensorflow.keras.models import load_model\n"
   ]
  },
  {
   "cell_type": "markdown",
   "metadata": {},
   "source": [
    "INICIALIZAMOS LA PLATAFORMA"
   ]
  },
  {
   "cell_type": "code",
   "execution_count": 3,
   "metadata": {},
   "outputs": [
    {
     "data": {
      "text/plain": [
       "True"
      ]
     },
     "execution_count": 3,
     "metadata": {},
     "output_type": "execute_result"
    }
   ],
   "source": [
    "\n",
    "# start the platform with initialize()\n",
    "mt5.initialize()"
   ]
  },
  {
   "cell_type": "markdown",
   "metadata": {},
   "source": [
    "HACEMOS LOGIN EN LA CUENTA DE TRADING"
   ]
  },
  {
   "cell_type": "code",
   "execution_count": 4,
   "metadata": {},
   "outputs": [
    {
     "data": {
      "text/plain": [
       "True"
      ]
     },
     "execution_count": 4,
     "metadata": {},
     "output_type": "execute_result"
    }
   ],
   "source": [
    "#Esta es una cuenta demo de MT5\n",
    "login = 1520445584\n",
    "password = 'SB?p?A7tE3'\n",
    "server = 'FTMO-Demo2'\n",
    "\n",
    "columns_order=['open', 'high', 'low', 'close', 'tick_volume', 'Hour','maximo', 'minimo', 'ATR14', 'RSI14']\n",
    "\n",
    "mt5.login(login, password, server)"
   ]
  },
  {
   "cell_type": "markdown",
   "metadata": {},
   "source": [
    "CARGAMOS LOS MODELOS YA ENTRENADOS"
   ]
  },
  {
   "cell_type": "code",
   "execution_count": 6,
   "metadata": {},
   "outputs": [],
   "source": [
    "Buys_model = load_model('Aplicación/models/Buys_model.keras')\n",
    "Sells_model = load_model('Aplicación/models/Sells_model.keras')"
   ]
  },
  {
   "cell_type": "markdown",
   "metadata": {},
   "source": [
    "CARGAMOS LAS LAS FUNCIONES QUE USAREMOS PARA ACTUALIZAR LOS DATOS DESCARGADOS EN TIEMPO REAL DE LOS SERVIDORES DE LA CUENTA DE TRADING DEMO"
   ]
  },
  {
   "cell_type": "code",
   "execution_count": 9,
   "metadata": {},
   "outputs": [],
   "source": [
    "def get_last_candles(symbol, timeframe, num_candles):\n",
    "    \"\"\"Obtiene las últimas 'num_candles' velas para el símbolo y timeframe especificados.\"\"\"\n",
    "    rates = mt5.copy_rates_from_pos(symbol, timeframe, 0, num_candles+13)#13 velas extras para el ATR y RSI\n",
    "    if rates is None:\n",
    "        print(f\"No se pudieron obtener las velas para {symbol}.\")\n",
    "        return None\n",
    "    df = pd.DataFrame(rates)\n",
    "    df['time'] = pd.to_datetime(df['time'], unit='s')\n",
    "    df.index=df['time']\n",
    "    df.index = pd.to_datetime(df.index)  # Convertir a datetime\n",
    "    df=df.drop('time',axis=1)\n",
    "    df.index=df.index.tz_localize('Etc/GMT-3')\n",
    "    df.index=df.index.tz_convert('Etc/GMT+5').tz_localize(None)\n",
    "    df['DayOfYear'] = df.index.dayofyear\n",
    "    df['Hour'] = df.index.hour\n",
    "    df=agregar_max_min(df,4)#agregar maximos y minimos\n",
    "    df=agregar_atr_rsi(df, 14, 14)#agregar ATR y RSI\n",
    "    df = df[columns_order]\n",
    "    return df[13:-1]\n",
    "def agregar_atr_rsi(df, periodo_atr, periodo_rsi):\n",
    "    \"\"\"\n",
    "    Agrega columnas ATR y RSI al DataFrame, calculadas por día del año.\n",
    "\n",
    "    Parámetros:\n",
    "    - df: pandas DataFrame con columnas ['open', 'high', 'low', 'close', 'tick_volume', \n",
    "                                         'DayOfYear', 'Hour', 'Minute', 'Tres']\n",
    "    - periodo_atr: int, el período para calcular el ATR\n",
    "    - periodo_rsi: int, el período para calcular el RSI\n",
    "\n",
    "    Retorna:\n",
    "    - pandas DataFrame con nuevas columnas 'ATR{periodo_atr}' y 'RSI{periodo_rsi}'\n",
    "    \"\"\"\n",
    "    # Asegurar que el DataFrame está ordenado correctamente\n",
    "    #df = df.sort_values(['DayOfYear', 'Hour', 'Minute', 'Tres']).reset_index(drop=True)\n",
    "\n",
    "    ### Cálculo del ATR ###\n",
    "\n",
    "    # Calcular el Close anterior por día\n",
    "    df['prev_close'] = df.groupby('DayOfYear')['close'].shift(1)\n",
    "\n",
    "    # Calcular el True Range (TR)\n",
    "    df['TR'] = df.apply(\n",
    "        lambda row: max(\n",
    "            row['high'] - row['low'],\n",
    "            abs(row['high'] - row['prev_close']) if not pd.isna(row['prev_close']) else row['high'] - row['low'],\n",
    "            abs(row['low'] - row['prev_close']) if not pd.isna(row['prev_close']) else row['high'] - row['low']\n",
    "        ),\n",
    "        axis=1\n",
    "    )\n",
    "\n",
    "    # Definir el nombre de la nueva columna ATR\n",
    "    atr_column = f'ATR{periodo_atr}'\n",
    "\n",
    "    # Calcular el ATR como media móvil simple del TR por grupo (día)\n",
    "    df[atr_column] = df.groupby('DayOfYear')['TR'].transform(\n",
    "        lambda x: x.rolling(window=periodo_atr, min_periods=periodo_atr).mean()\n",
    "    )\n",
    "\n",
    "    # Reemplazar los valores NaN (primeras observaciones) por 0\n",
    "    df[atr_column] = df[atr_column].fillna(0)\n",
    "\n",
    "    # Redondear el ATR para mayor claridad\n",
    "    df[atr_column] = df[atr_column].round(4)\n",
    "\n",
    "    ### Cálculo del RSI ###\n",
    "\n",
    "    # Definir el nombre de la nueva columna RSI\n",
    "    rsi_column = f'RSI{periodo_rsi}'\n",
    "\n",
    "    # Definir la función calculate_rsi dentro del ámbito para acceder a 'periodo_rsi'\n",
    "    def calculate_rsi(close_series):\n",
    "        delta = close_series.diff()\n",
    "        gain = delta.where(delta > 0, 0)\n",
    "        loss = -delta.where(delta < 0, 0)\n",
    "\n",
    "        # Usar EMA para promedio de ganancias y pérdidas\n",
    "        avg_gain = gain.ewm(alpha=1/periodo_rsi, min_periods=periodo_rsi, adjust=False).mean()\n",
    "        avg_loss = loss.ewm(alpha=1/periodo_rsi, min_periods=periodo_rsi, adjust=False).mean()\n",
    "\n",
    "        rs = avg_gain / avg_loss\n",
    "        rsi = 100 - (100 / (1 + rs))\n",
    "\n",
    "        # Reemplazar NaN iniciales por 0\n",
    "        rsi = rsi.fillna(0)\n",
    "\n",
    "        return rsi\n",
    "\n",
    "    # Calcular el RSI por grupo (día), seleccionando sólo la columna 'close'\n",
    "    df[rsi_column] = df.groupby('DayOfYear', group_keys=False)['close'].apply(calculate_rsi)\n",
    "\n",
    "    # Redondear el RSI para mayor claridad\n",
    "    df[rsi_column] = df[rsi_column].round(2)\n",
    "\n",
    "    # Eliminar columnas auxiliares\n",
    "    df = df.drop(columns=['prev_close', 'TR'])\n",
    "\n",
    "    return df\n",
    "def agregar_max_min(df, n):\n",
    "    \"\"\"\n",
    "    Agrega las columnas 'maximo' y 'minimo' al DataFrame.\n",
    "    \n",
    "    Parámetros:\n",
    "    - df (pd.DataFrame): DataFrame que contiene las columnas ['open', 'high', 'low', 'close'].\n",
    "    - n (int): Número de observaciones anteriores y posteriores a considerar.\n",
    "    \n",
    "    Retorna:\n",
    "    - pd.DataFrame: DataFrame original con las columnas 'maximo' y 'minimo' agregadas.\n",
    "    \"\"\"\n",
    "    # Asegurarse de que el DataFrame está ordenado correctamente (opcional)\n",
    "    # df = df.sort_index()\n",
    "\n",
    "    # Calcular el máximo en una ventana de 2n+1 centrada en cada observación\n",
    "    rolling_max = df['high'].rolling(window=2*n+1, center=True).max()\n",
    "    # Asignar 1 si el 'high' actual es igual al máximo de la ventana, de lo contrario 0\n",
    "    df['maximo'] = (df['high'] == rolling_max).astype(int)\n",
    "    \n",
    "    # Calcular el mínimo en una ventana de 2n+1 centrada en cada observación\n",
    "    rolling_min = df['low'].rolling(window=2*n+1, center=True).min()\n",
    "    # Asignar 1 si el 'low' actual es igual al mínimo de la ventana, de lo contrario 0\n",
    "    df['minimo'] = (df['low'] == rolling_min).astype(int)\n",
    "    \n",
    "    # Opcional: Reemplazar NaN en las primeras y últimas n filas con 0\n",
    "    df['maximo'] = df['maximo'].fillna(0).astype(int)\n",
    "    df['minimo'] = df['minimo'].fillna(0).astype(int)\n",
    "    \n",
    "    return df\n",
    "def predict_operations(data):\n",
    "    \"\"\"Realiza las predicciones de compra y venta.\"\"\"\n",
    "    y_pred_prob_Buys=Buys_model.predict(data)[0]\n",
    "    y_pred_prob_Sells=Sells_model.predict(data)[0]\n",
    "    buy_pred = (y_pred_prob_Buys >= 0.7).astype(int).reshape(-1)\n",
    "    sell_pred = (y_pred_prob_Sells >= 0.7).astype(int).reshape(-1)\n",
    "    return y_pred_prob_Buys,y_pred_prob_Sells,buy_pred, sell_pred\n",
    "def prepare_data(df,scaler_trained=None,columns_=None):\n",
    "    try:\n",
    "        df[columns_] = scaler_trained.transform(df[columns_])\n",
    "    except:\n",
    "        print('hubo un error al cargar el scaler o cargar las columnas')\n",
    "    return np.expand_dims(df.values, axis=0)"
   ]
  },
  {
   "cell_type": "markdown",
   "metadata": {},
   "source": [
    "EXTRAEMOS LAS ULTIMAS 300 VELAS DEL MERCADO"
   ]
  },
  {
   "cell_type": "code",
   "execution_count": 12,
   "metadata": {},
   "outputs": [
    {
     "data": {
      "text/html": [
       "<div>\n",
       "<style scoped>\n",
       "    .dataframe tbody tr th:only-of-type {\n",
       "        vertical-align: middle;\n",
       "    }\n",
       "\n",
       "    .dataframe tbody tr th {\n",
       "        vertical-align: top;\n",
       "    }\n",
       "\n",
       "    .dataframe thead th {\n",
       "        text-align: right;\n",
       "    }\n",
       "</style>\n",
       "<table border=\"1\" class=\"dataframe\">\n",
       "  <thead>\n",
       "    <tr style=\"text-align: right;\">\n",
       "      <th></th>\n",
       "      <th>open</th>\n",
       "      <th>high</th>\n",
       "      <th>low</th>\n",
       "      <th>close</th>\n",
       "      <th>tick_volume</th>\n",
       "      <th>Hour</th>\n",
       "      <th>maximo</th>\n",
       "      <th>minimo</th>\n",
       "      <th>ATR14</th>\n",
       "      <th>RSI14</th>\n",
       "    </tr>\n",
       "    <tr>\n",
       "      <th>time</th>\n",
       "      <th></th>\n",
       "      <th></th>\n",
       "      <th></th>\n",
       "      <th></th>\n",
       "      <th></th>\n",
       "      <th></th>\n",
       "      <th></th>\n",
       "      <th></th>\n",
       "      <th></th>\n",
       "      <th></th>\n",
       "    </tr>\n",
       "  </thead>\n",
       "  <tbody>\n",
       "    <tr>\n",
       "      <th>2024-10-09 09:36:00</th>\n",
       "      <td>42150.15</td>\n",
       "      <td>42182.65</td>\n",
       "      <td>42147.65</td>\n",
       "      <td>42181.65</td>\n",
       "      <td>199</td>\n",
       "      <td>9</td>\n",
       "      <td>0</td>\n",
       "      <td>0</td>\n",
       "      <td>17.8571</td>\n",
       "      <td>49.74</td>\n",
       "    </tr>\n",
       "    <tr>\n",
       "      <th>2024-10-09 09:37:00</th>\n",
       "      <td>42182.65</td>\n",
       "      <td>42194.15</td>\n",
       "      <td>42180.15</td>\n",
       "      <td>42193.15</td>\n",
       "      <td>173</td>\n",
       "      <td>9</td>\n",
       "      <td>0</td>\n",
       "      <td>0</td>\n",
       "      <td>17.2071</td>\n",
       "      <td>53.77</td>\n",
       "    </tr>\n",
       "    <tr>\n",
       "      <th>2024-10-09 09:38:00</th>\n",
       "      <td>42192.65</td>\n",
       "      <td>42194.15</td>\n",
       "      <td>42181.65</td>\n",
       "      <td>42189.65</td>\n",
       "      <td>174</td>\n",
       "      <td>9</td>\n",
       "      <td>0</td>\n",
       "      <td>0</td>\n",
       "      <td>17.2071</td>\n",
       "      <td>52.39</td>\n",
       "    </tr>\n",
       "    <tr>\n",
       "      <th>2024-10-09 09:39:00</th>\n",
       "      <td>42190.65</td>\n",
       "      <td>42205.15</td>\n",
       "      <td>42189.65</td>\n",
       "      <td>42198.65</td>\n",
       "      <td>140</td>\n",
       "      <td>9</td>\n",
       "      <td>0</td>\n",
       "      <td>0</td>\n",
       "      <td>16.8143</td>\n",
       "      <td>55.54</td>\n",
       "    </tr>\n",
       "    <tr>\n",
       "      <th>2024-10-09 09:40:00</th>\n",
       "      <td>42199.15</td>\n",
       "      <td>42204.65</td>\n",
       "      <td>42189.65</td>\n",
       "      <td>42193.65</td>\n",
       "      <td>172</td>\n",
       "      <td>9</td>\n",
       "      <td>0</td>\n",
       "      <td>0</td>\n",
       "      <td>16.7429</td>\n",
       "      <td>53.42</td>\n",
       "    </tr>\n",
       "  </tbody>\n",
       "</table>\n",
       "</div>"
      ],
      "text/plain": [
       "                         open      high       low     close  tick_volume  \\\n",
       "time                                                                       \n",
       "2024-10-09 09:36:00  42150.15  42182.65  42147.65  42181.65          199   \n",
       "2024-10-09 09:37:00  42182.65  42194.15  42180.15  42193.15          173   \n",
       "2024-10-09 09:38:00  42192.65  42194.15  42181.65  42189.65          174   \n",
       "2024-10-09 09:39:00  42190.65  42205.15  42189.65  42198.65          140   \n",
       "2024-10-09 09:40:00  42199.15  42204.65  42189.65  42193.65          172   \n",
       "\n",
       "                     Hour  maximo  minimo    ATR14  RSI14  \n",
       "time                                                       \n",
       "2024-10-09 09:36:00     9       0       0  17.8571  49.74  \n",
       "2024-10-09 09:37:00     9       0       0  17.2071  53.77  \n",
       "2024-10-09 09:38:00     9       0       0  17.2071  52.39  \n",
       "2024-10-09 09:39:00     9       0       0  16.8143  55.54  \n",
       "2024-10-09 09:40:00     9       0       0  16.7429  53.42  "
      ]
     },
     "execution_count": 12,
     "metadata": {},
     "output_type": "execute_result"
    }
   ],
   "source": [
    "data=get_last_candles('US30.cash', mt5.TIMEFRAME_M1, 300)\n",
    "data.tail()"
   ]
  },
  {
   "cell_type": "markdown",
   "metadata": {},
   "source": [
    "CARGAMOS EL DATAFRAME QUE USAREMOS PARA ENTRENAR EL ESCALADOR DE CARACTERISTICAS"
   ]
  },
  {
   "cell_type": "code",
   "execution_count": 18,
   "metadata": {},
   "outputs": [],
   "source": [
    "Buys_sample= pd.read_csv('Buys.csv')"
   ]
  },
  {
   "cell_type": "markdown",
   "metadata": {},
   "source": [
    "ENTRENAMOS EL ESCALADOR"
   ]
  },
  {
   "cell_type": "code",
   "execution_count": 19,
   "metadata": {},
   "outputs": [],
   "source": [
    "\n",
    "\n",
    "columnas_a_normalizar = ['open', 'high', 'low', 'close', 'tick_volume', 'Hour', 'ATR14', 'RSI14']\n",
    "# Crear un objeto de MinMaxScaler\n",
    "scaler = MinMaxScaler()\n",
    "scaler.fit(Buys_sample[data.columns][columnas_a_normalizar])  # Ajusta el escalador con los datos de Buys\n",
    "\n",
    "df_normalized=prepare_data(data,scaler_trained=scaler,columns_=columnas_a_normalizar)\n"
   ]
  },
  {
   "cell_type": "markdown",
   "metadata": {},
   "source": [
    "PREDECIMOS UN LA PROBABILIDAD\n",
    "- Esta es en pocas lineas de codigo la logica que sigue la aplicación para ejecutar las ordenes de mercado\n",
    "- hasta ahora hemos predicho una secuencia, pero en la aplicación este proceso se repite hasta encontrar un punto de alta probabilidad y ejecutará la orden de mercado"
   ]
  },
  {
   "cell_type": "code",
   "execution_count": 31,
   "metadata": {},
   "outputs": [
    {
     "name": "stdout",
     "output_type": "stream",
     "text": [
      "\u001b[1m1/1\u001b[0m \u001b[32m━━━━━━━━━━━━━━━━━━━━\u001b[0m\u001b[37m\u001b[0m \u001b[1m0s\u001b[0m 26ms/step\n",
      "\u001b[1m1/1\u001b[0m \u001b[32m━━━━━━━━━━━━━━━━━━━━\u001b[0m\u001b[37m\u001b[0m \u001b[1m0s\u001b[0m 25ms/step\n",
      "predicción insuficiente  venta: [0.00144813] compra: [0.00014596]\n"
     ]
    }
   ],
   "source": [
    "b_r,s_r,buy_pred, sell_pred = predict_operations(df_normalized)\n",
    "if buy_pred == 0 and sell_pred == 0 :\n",
    "    print(\"predicción insuficiente  venta: {} compra: {}\".format(s_r,b_r))\n",
    "if buy_pred == 1 and sell_pred == 0 :\n",
    "    print(\"Predicción de Compra detectada. Abriendo orden de compra.\")\n",
    "    #open_order(SYMBOL, mt5.ORDER_TYPE_BUY, STOP_LOSS_PIPS, STOP_LOSS_PIPS * TAKE_PROFIT_MULTIPLIER)\n",
    "if sell_pred == 1 and buy_pred == 0:\n",
    "    print(\"Predicción de Venta detectada. Abriendo orden de venta.\")\n",
    "    #open_order(SYMBOL, mt5.ORDER_TYPE_SELL, STOP_LOSS_PIPS, STOP_LOSS_PIPS * TAKE_PROFIT_MULTIPLIER)"
   ]
  }
 ],
 "metadata": {
  "kernelspec": {
   "display_name": "Python 3",
   "language": "python",
   "name": "python3"
  },
  "language_info": {
   "codemirror_mode": {
    "name": "ipython",
    "version": 3
   },
   "file_extension": ".py",
   "mimetype": "text/x-python",
   "name": "python",
   "nbconvert_exporter": "python",
   "pygments_lexer": "ipython3",
   "version": "3.12.6"
  }
 },
 "nbformat": 4,
 "nbformat_minor": 2
}
