{
 "cells": [
  {
   "cell_type": "markdown",
   "metadata": {},
   "source": [
    "# V02 - Proyecto Parte 2\n",
    "### **Muestreo y equilibrio de datos**\n",
    "\n",
    "- Se crearán las secuencias para el entrenamiento y se revisará el desbalance de clases.\n",
    "    - Se tomará la cuarta parte del datset de entrenamiento para verificar que el modelo este aprendiendo.\n",
    "    - Se balancerán las clases usando undersampling\n",
    "- Se dividirán las secuencias en conjunto de entrenamiento y validación.\n",
    "- Entrenar el modelo con una nueva arquitectura\n",
    "- Medir metricas en base al dataset completo, para ver si el modelo esta aprendiendo o esta prediciendo de forma aleatoria\n",
    "- Escribimos las conclusiones"
   ]
  },
  {
   "cell_type": "markdown",
   "metadata": {},
   "source": [
    "**iIMPORTAMOS LIBRERÍAS**"
   ]
  },
  {
   "cell_type": "code",
   "execution_count": 2,
   "metadata": {},
   "outputs": [],
   "source": [
    "import pandas as pd\n",
    "import numpy as np\n",
    "\n",
    "from tensorflow.keras.models import Sequential,load_model\n",
    "from tensorflow.keras.layers import Input,LSTM, Dense, Dropout, BatchNormalization\n",
    "from tensorflow.keras.callbacks import EarlyStopping\n",
    "from tensorflow.keras.metrics import Precision\n",
    "from tensorflow.keras.optimizers import Adam\n",
    "\n",
    "\n",
    "from sklearn.preprocessing import MinMaxScaler\n",
    "from sklearn.preprocessing import StandardScaler\n",
    "from sklearn.utils.class_weight import compute_class_weight\n",
    "\n",
    "from sklearn.model_selection import train_test_split\n",
    "\n",
    "\n",
    "from matplotlib import pyplot as plt\n",
    "\n"
   ]
  },
  {
   "cell_type": "markdown",
   "metadata": {},
   "source": [
    "### Muestreo y equilibrio de datos"
   ]
  },
  {
   "cell_type": "markdown",
   "metadata": {},
   "source": [
    "Cargamos datset"
   ]
  },
  {
   "cell_type": "code",
   "execution_count": 3,
   "metadata": {},
   "outputs": [
    {
     "data": {
      "text/plain": [
       "Index(['open', 'high', 'low', 'close', 'tick_volume', 'DayOfYear', 'Hour',\n",
       "       'Minute', 'Tres', 'ATR14', 'RSI14', 'maximo', 'minimo'],\n",
       "      dtype='object')"
      ]
     },
     "execution_count": 3,
     "metadata": {},
     "output_type": "execute_result"
    }
   ],
   "source": [
    "Buys= pd.read_csv('Buys_t.csv') #Cargamos los dato y en el futuro Sells\n",
    "Sells= pd.read_csv('Sells_t.csv') #Cargamos los dato y en el futuro Sells\n",
    "Buys.columns"
   ]
  },
  {
   "cell_type": "markdown",
   "metadata": {},
   "source": [
    "Escalamos los datos"
   ]
  },
  {
   "cell_type": "code",
   "execution_count": 4,
   "metadata": {},
   "outputs": [],
   "source": [
    "#----------------------------------------PASO 2:--------------------------------------------\n",
    "columnas_a_normalizar = ['open', 'high', 'low', 'close', 'tick_volume', 'Hour', 'ATR14', 'RSI14']\n",
    "\n",
    "# Crear un objeto de MinMaxScaler\n",
    "scaler = MinMaxScaler()\n",
    "\n",
    "# Normaliza solo las columnas seleccionadas\n",
    "Scaled_Buys = Buys.copy()  # Mantén una copia del dataframe original para preservar las columnas intactas\n",
    "Scaled_Buys[columnas_a_normalizar] = scaler.fit_transform(Buys[columnas_a_normalizar])\n",
    "\n",
    "# Hacer lo mismo para el dataframe de Sells\n",
    "Scaled_Sells = Sells.copy()  # Mantén una copia del dataframe original para preservar las columnas intactas\n",
    "Scaled_Sells[columnas_a_normalizar] = scaler.fit_transform(Sells[columnas_a_normalizar])"
   ]
  },
  {
   "cell_type": "markdown",
   "metadata": {},
   "source": [
    "Creamos secuencias para el entrenamiento"
   ]
  },
  {
   "cell_type": "code",
   "execution_count": 5,
   "metadata": {},
   "outputs": [],
   "source": [
    "def crear_secuencias(df, Y, objetivo,variables):\n",
    "    \"\"\"\n",
    "    Crea conjuntos de secuencias y sus respectivos targets a partir de un DataFrame.\n",
    "\n",
    "    Parámetros:\n",
    "    df (pd.DataFrame): DataFrame que contiene las columnas ['open', 'high', 'low', 'close', \n",
    "                       'tick_volume', 'spread', 'real_volume', 'DayOfYear', 'Hour', \n",
    "                       'Minute', 'Tres'] ya estandarizadas.\n",
    "    Y (int): Número de observaciones en cada secuencia.\n",
    "\n",
    "    Retorna:\n",
    "    X (np.ndarray): Arreglo de secuencias con forma (a, Y, b), donde:\n",
    "                    a = número de secuencias,\n",
    "                    Y = longitud de cada secuencia,\n",
    "                    b = número de características (sin incluir 'DayOfYear' y 'Tres').\n",
    "    y (np.ndarray): Arreglo de targets con forma (a, 1).\n",
    "    \"\"\"\n",
    "    # Definir las columnas de características excluyendo 'DayOfYear' y 'Tres'\n",
    "    caracteristicas = variables\n",
    "    \n",
    "    # Inicializar listas para almacenar secuencias y targets\n",
    "    secuencias = []\n",
    "    targets = []\n",
    "    \n",
    "    # Agrupar el DataFrame por 'DayOfYear'\n",
    "    grupos_dia = df.groupby('DayOfYear')\n",
    "    \n",
    "    for dia, grupo in grupos_dia:\n",
    "        # Asegurarse de que los datos estén ordenados por 'Hour' y 'Minute'\n",
    "        grupo_ordenado = grupo#grupo.sort_values(['Hour', 'Minute']).reset_index(drop=True) #El dataset ya esta ordenado\n",
    "        \n",
    "        # Extraer los valores de las características y del target\n",
    "        datos_caracteristicas = grupo_ordenado[caracteristicas].values\n",
    "        datos_target = grupo_ordenado[objetivo].values\n",
    "        \n",
    "        # Crear secuencias con ventana deslizante\n",
    "        for i in range(len(grupo_ordenado) - Y + 1):\n",
    "            secuencia = datos_caracteristicas[i:i+Y]\n",
    "            target = datos_target[i+Y-1]\n",
    "            \n",
    "            secuencias.append(secuencia)\n",
    "            targets.append(target)\n",
    "    \n",
    "    # Convertir las listas a arreglos de NumPy\n",
    "    X = np.array(secuencias)\n",
    "    y = np.array(targets).reshape(-1, 1)\n",
    "    \n",
    "    return X, y\n",
    "\n",
    "columnas_a_incluir=['open', 'high', 'low', 'close', 'tick_volume', 'Hour', 'ATR14', 'RSI14', 'maximo', 'minimo']#No se incluyen los minutos\n",
    "Xb_t, yb_t = crear_secuencias(Scaled_Buys, 300,'Tres',columnas_a_incluir)\n",
    "#Xs_t, ys_t= crear_secuencias(Scaled_Sells, 300,'Tres',columnas_a_incluir)"
   ]
  },
  {
   "cell_type": "markdown",
   "metadata": {},
   "source": [
    "Vamos a seleccionar de forma aleatoria y equilibrada la cuarta parte de la clase 1 y 0 de estas secuencias"
   ]
  },
  {
   "cell_type": "code",
   "execution_count": 6,
   "metadata": {},
   "outputs": [],
   "source": [
    "def seleccionar_cuarta_parte(X, y, fraction=0.25, random_state=None):\n",
    "    \"\"\"\n",
    "    Selecciona una fracción específica de cada clase (0 y 1) de los arreglos X y y de forma aleatoria y equitativa.\n",
    "\n",
    "    Parámetros:\n",
    "    - X (np.ndarray): Arreglo de características, forma (n_samples, n_features).\n",
    "    - y (np.ndarray): Arreglo de etiquetas binarios, forma (n_samples,).\n",
    "    - fraction (float, opcional): Fracción a seleccionar de cada clase. Por defecto es 0.25.\n",
    "    - random_state (int, opcional): Semilla para la generación de números aleatorios para reproducibilidad.\n",
    "\n",
    "    Retorna:\n",
    "    - X_subset (np.ndarray): Subconjunto seleccionado de X.\n",
    "    - y_subset (np.ndarray): Subconjunto seleccionado de y.\n",
    "    \"\"\"\n",
    "    \n",
    "    if not isinstance(X, np.ndarray) or not isinstance(y, np.ndarray):\n",
    "        raise ValueError(\"X e y deben ser arreglos de tipo numpy.ndarray.\")\n",
    "    \n",
    "    if X.shape[0] != y.shape[0]:\n",
    "        raise ValueError(\"X e y deben tener el mismo número de muestras.\")\n",
    "    \n",
    "    # Establecer la semilla para reproducibilidad si se proporciona\n",
    "    if random_state is not None:\n",
    "        np.random.seed(random_state)\n",
    "    \n",
    "    # Separar los índices de cada clase\n",
    "    indices_clase_1 = np.where(y == 1)[0]\n",
    "    indices_clase_0 = np.where(y == 0)[0]\n",
    "    \n",
    "    # Calcular el número de muestras a seleccionar de cada clase\n",
    "    num_clase_1 = int(np.floor(len(indices_clase_1) * fraction))\n",
    "    num_clase_0 = int(np.floor(len(indices_clase_0) * fraction))\n",
    "    \n",
    "    # Manejar casos donde la clase tiene muy pocas muestras\n",
    "    if num_clase_1 == 0 and len(indices_clase_1) > 0:\n",
    "        num_clase_1 = 1\n",
    "    if num_clase_0 == 0 and len(indices_clase_0) > 0:\n",
    "        num_clase_0 = 1\n",
    "    \n",
    "    # Seleccionar aleatoriamente los índices\n",
    "    seleccion_clase_1 = np.random.choice(indices_clase_1, size=min(num_clase_1, len(indices_clase_1)), replace=False)\n",
    "    seleccion_clase_0 = np.random.choice(indices_clase_0, size=min(num_clase_0, len(indices_clase_0)), replace=False)\n",
    "    \n",
    "    # Combinar los índices seleccionados\n",
    "    indices_seleccionados = np.concatenate((seleccion_clase_1, seleccion_clase_0))\n",
    "    \n",
    "    # Mezclar los índices seleccionados para mantener el orden aleatorio\n",
    "    np.random.shuffle(indices_seleccionados)\n",
    "    \n",
    "    # Crear los subconjuntos\n",
    "    X_subset = X[indices_seleccionados]\n",
    "    y_subset = y[indices_seleccionados]\n",
    "    \n",
    "    return X_subset, y_subset\n",
    "\n",
    "Xb_t_subset, yb_t_subset = seleccionar_cuarta_parte(Xb_t, yb_t, fraction=0.25, random_state=42)"
   ]
  },
  {
   "cell_type": "markdown",
   "metadata": {},
   "source": [
    "Realizamos el balanceo de clases"
   ]
  },
  {
   "cell_type": "code",
   "execution_count": 7,
   "metadata": {},
   "outputs": [
    {
     "name": "stdout",
     "output_type": "stream",
     "text": [
      "Distribución original de clases: {0.0: 12660, 1.0: 2244}\n",
      "Aplicando oversampling. Se agregarán 10416 muestras a la clase 1.0.\n",
      "Distribución de clases después del balanceo: {0.0: 12660, 1.0: 12660}\n"
     ]
    }
   ],
   "source": [
    "def balancear_clases(X, y, metodo='over', random_state=None):\n",
    "    \"\"\"\n",
    "    Equilibra las clases de un conjunto de datos mediante oversampling o undersampling.\n",
    "    \n",
    "    Parámetros:\n",
    "    - X (np.ndarray): Arreglo de características con forma (num_muestras, longitud_secuencia, num_caracteristicas).\n",
    "    - y (np.ndarray): Arreglo de etiquetas con forma (num_muestras, 1) o (num_muestras,).\n",
    "    - metodo (str): Método de balanceo a utilizar. Puede ser 'over' para oversampling o 'under' para undersampling.\n",
    "    - random_state (int, opcional): Semilla para reproducibilidad.\n",
    "    \n",
    "    Retorna:\n",
    "    - X_balanceado (np.ndarray): Arreglo de características balanceado.\n",
    "    - y_balanceado (np.ndarray): Arreglo de etiquetas balanceado.\n",
    "    \"\"\"\n",
    "    if metodo not in ['over', 'under']:\n",
    "        raise ValueError(\"El parámetro 'metodo' debe ser 'over' o 'under'.\")\n",
    "    \n",
    "    # Asegurar que y sea 1D\n",
    "    y = y.flatten()\n",
    "    \n",
    "    # Obtener los índices de cada clase\n",
    "    clases, conteos = np.unique(y, return_counts=True)\n",
    "    \n",
    "    if len(clases) != 2:\n",
    "        raise ValueError(\"Esta función solo soporta problemas de clasificación binaria.\")\n",
    "    \n",
    "    clase_majoritaria = clases[np.argmax(conteos)]\n",
    "    clase_minoritaria = clases[np.argmin(conteos)]\n",
    "    conteo_majoritaria = np.max(conteos)\n",
    "    conteo_minoritaria = np.min(conteos)\n",
    "    \n",
    "    print(f\"Distribución original de clases: {dict(zip(clases, conteos))}\")\n",
    "    \n",
    "    if conteo_majoritaria == conteo_minoritaria:\n",
    "        print(\"Las clases ya están balanceadas. No se requiere balanceo.\")\n",
    "        return X, y.reshape(-1, 1)\n",
    "    \n",
    "    if metodo == 'over':\n",
    "        # Cálculo de cuántas muestras se necesitan agregar\n",
    "        cantidad_a_agregar = conteo_majoritaria - conteo_minoritaria\n",
    "        print(f\"Aplicando oversampling. Se agregarán {cantidad_a_agregar} muestras a la clase {clase_minoritaria}.\")\n",
    "        \n",
    "        # Obtener los índices de la clase minoritaria\n",
    "        indices_minoritaria = np.where(y == clase_minoritaria)[0]\n",
    "        \n",
    "        # Establecer la semilla para reproducibilidad\n",
    "        if random_state is not None:\n",
    "            np.random.seed(random_state)\n",
    "        \n",
    "        # Elegir aleatoriamente con reemplazo\n",
    "        indices_agregar = np.random.choice(indices_minoritaria, size=cantidad_a_agregar, replace=True)\n",
    "        \n",
    "        # Crear las nuevas muestras\n",
    "        X_agregar = X[indices_agregar]\n",
    "        y_agregar = y[indices_agregar]\n",
    "        \n",
    "        # Concatenar las muestras nuevas con las originales\n",
    "        X_balanceado = np.concatenate([X, X_agregar], axis=0)\n",
    "        y_balanceado = np.concatenate([y, y_agregar], axis=0)\n",
    "    \n",
    "    elif metodo == 'under':\n",
    "        # Cálculo de cuántas muestras se deben eliminar\n",
    "        cantidad_a_eliminar = conteo_majoritaria - conteo_minoritaria\n",
    "        print(f\"Aplicando undersampling. Se eliminarán {cantidad_a_eliminar} muestras de la clase {clase_majoritaria}.\")\n",
    "        \n",
    "        # Obtener los índices de la clase majoritaria\n",
    "        indices_majoritaria = np.where(y == clase_majoritaria)[0]\n",
    "        \n",
    "        # Establecer la semilla para reproducibilidad\n",
    "        if random_state is not None:\n",
    "            np.random.seed(random_state)\n",
    "        \n",
    "        # Elegir aleatoriamente sin reemplazo\n",
    "        indices_eliminar = np.random.choice(indices_majoritaria, size=cantidad_a_eliminar, replace=False)\n",
    "        \n",
    "        # Crear una máscara para mantener las muestras no eliminadas\n",
    "        mascara = np.ones(len(y), dtype=bool)\n",
    "        mascara[indices_eliminar] = False\n",
    "        \n",
    "        # Aplicar la máscara\n",
    "        X_balanceado = X[mascara]\n",
    "        y_balanceado = y[mascara]\n",
    "    \n",
    "    # Mezclar las muestras balanceadas para evitar cualquier sesgo de orden\n",
    "    if metodo == 'over':\n",
    "        # Solo en oversampling se agregan nuevas muestras, por lo que es útil mezclar\n",
    "        indices_mezclar = np.arange(len(y_balanceado))\n",
    "        np.random.shuffle(indices_mezclar)\n",
    "        X_balanceado = X_balanceado[indices_mezclar]\n",
    "        y_balanceado = y_balanceado[indices_mezclar]\n",
    "    \n",
    "    print(f\"Distribución de clases después del balanceo: {dict(zip(*np.unique(y_balanceado, return_counts=True)))}\")\n",
    "    \n",
    "    return X_balanceado, y_balanceado.reshape(-1, 1)\n",
    "\n",
    "Xb_t_balanced,yb_t_balanced=balancear_clases(Xb_t_subset, yb_t_subset, metodo='over', random_state=42)"
   ]
  },
  {
   "cell_type": "markdown",
   "metadata": {},
   "source": [
    "Se dividirán las secuencias en conjunto de entrenamiento y validación."
   ]
  },
  {
   "cell_type": "code",
   "execution_count": 8,
   "metadata": {},
   "outputs": [],
   "source": [
    "#----------------------------------------MODELO RATIO 1/3--------------------------------------------\n",
    "Xbt_train, Xbt_val, ybt_train, ybt_val = train_test_split(Xb_t_balanced, yb_t_balanced, test_size=0.25, random_state=42, shuffle=False)"
   ]
  },
  {
   "cell_type": "markdown",
   "metadata": {},
   "source": [
    "Entrenamos el modelo"
   ]
  },
  {
   "cell_type": "code",
   "execution_count": 9,
   "metadata": {},
   "outputs": [
    {
     "name": "stderr",
     "output_type": "stream",
     "text": [
      "c:\\Users\\User\\AppData\\Local\\Programs\\Python\\Python312\\Lib\\site-packages\\keras\\src\\layers\\rnn\\rnn.py:204: UserWarning: Do not pass an `input_shape`/`input_dim` argument to a layer. When using Sequential models, prefer using an `Input(shape)` object as the first layer in the model instead.\n",
      "  super().__init__(**kwargs)\n"
     ]
    },
    {
     "name": "stdout",
     "output_type": "stream",
     "text": [
      "Epoch 1/20\n",
      "\u001b[1m594/594\u001b[0m \u001b[32m━━━━━━━━━━━━━━━━━━━━\u001b[0m\u001b[37m\u001b[0m \u001b[1m49s\u001b[0m 80ms/step - accuracy: 0.6224 - loss: 0.9242 - val_accuracy: 0.5109 - val_loss: 0.7925\n",
      "Epoch 2/20\n",
      "\u001b[1m594/594\u001b[0m \u001b[32m━━━━━━━━━━━━━━━━━━━━\u001b[0m\u001b[37m\u001b[0m \u001b[1m47s\u001b[0m 79ms/step - accuracy: 0.6471 - loss: 0.6586 - val_accuracy: 0.4912 - val_loss: 2.3984\n",
      "Epoch 3/20\n",
      "\u001b[1m594/594\u001b[0m \u001b[32m━━━━━━━━━━━━━━━━━━━━\u001b[0m\u001b[37m\u001b[0m \u001b[1m47s\u001b[0m 80ms/step - accuracy: 0.6652 - loss: 0.6254 - val_accuracy: 0.5024 - val_loss: 1.4015\n",
      "Epoch 4/20\n",
      "\u001b[1m594/594\u001b[0m \u001b[32m━━━━━━━━━━━━━━━━━━━━\u001b[0m\u001b[37m\u001b[0m \u001b[1m48s\u001b[0m 80ms/step - accuracy: 0.6703 - loss: 0.6174 - val_accuracy: 0.6393 - val_loss: 0.6551\n",
      "Epoch 5/20\n",
      "\u001b[1m594/594\u001b[0m \u001b[32m━━━━━━━━━━━━━━━━━━━━\u001b[0m\u001b[37m\u001b[0m \u001b[1m47s\u001b[0m 79ms/step - accuracy: 0.6655 - loss: 0.6202 - val_accuracy: 0.6311 - val_loss: 0.6527\n",
      "Epoch 6/20\n",
      "\u001b[1m594/594\u001b[0m \u001b[32m━━━━━━━━━━━━━━━━━━━━\u001b[0m\u001b[37m\u001b[0m \u001b[1m47s\u001b[0m 80ms/step - accuracy: 0.6791 - loss: 0.6060 - val_accuracy: 0.6447 - val_loss: 0.6356\n",
      "Epoch 7/20\n",
      "\u001b[1m594/594\u001b[0m \u001b[32m━━━━━━━━━━━━━━━━━━━━\u001b[0m\u001b[37m\u001b[0m \u001b[1m48s\u001b[0m 80ms/step - accuracy: 0.6802 - loss: 0.6031 - val_accuracy: 0.5362 - val_loss: 1.6958\n",
      "Epoch 8/20\n",
      "\u001b[1m594/594\u001b[0m \u001b[32m━━━━━━━━━━━━━━━━━━━━\u001b[0m\u001b[37m\u001b[0m \u001b[1m47s\u001b[0m 78ms/step - accuracy: 0.6875 - loss: 0.5950 - val_accuracy: 0.6210 - val_loss: 0.6491\n",
      "Epoch 9/20\n",
      "\u001b[1m594/594\u001b[0m \u001b[32m━━━━━━━━━━━━━━━━━━━━\u001b[0m\u001b[37m\u001b[0m \u001b[1m48s\u001b[0m 80ms/step - accuracy: 0.6950 - loss: 0.5859 - val_accuracy: 0.7041 - val_loss: 0.5661\n",
      "Epoch 10/20\n",
      "\u001b[1m594/594\u001b[0m \u001b[32m━━━━━━━━━━━━━━━━━━━━\u001b[0m\u001b[37m\u001b[0m \u001b[1m47s\u001b[0m 78ms/step - accuracy: 0.6930 - loss: 0.5834 - val_accuracy: 0.6499 - val_loss: 0.6156\n",
      "Epoch 11/20\n",
      "\u001b[1m594/594\u001b[0m \u001b[32m━━━━━━━━━━━━━━━━━━━━\u001b[0m\u001b[37m\u001b[0m \u001b[1m47s\u001b[0m 79ms/step - accuracy: 0.7022 - loss: 0.5742 - val_accuracy: 0.6679 - val_loss: 0.6619\n",
      "Epoch 12/20\n",
      "\u001b[1m594/594\u001b[0m \u001b[32m━━━━━━━━━━━━━━━━━━━━\u001b[0m\u001b[37m\u001b[0m \u001b[1m46s\u001b[0m 78ms/step - accuracy: 0.7049 - loss: 0.5718 - val_accuracy: 0.7060 - val_loss: 0.5661\n",
      "Epoch 13/20\n",
      "\u001b[1m594/594\u001b[0m \u001b[32m━━━━━━━━━━━━━━━━━━━━\u001b[0m\u001b[37m\u001b[0m \u001b[1m46s\u001b[0m 77ms/step - accuracy: 0.7063 - loss: 0.5681 - val_accuracy: 0.6812 - val_loss: 0.5964\n",
      "Epoch 14/20\n",
      "\u001b[1m594/594\u001b[0m \u001b[32m━━━━━━━━━━━━━━━━━━━━\u001b[0m\u001b[37m\u001b[0m \u001b[1m47s\u001b[0m 79ms/step - accuracy: 0.7177 - loss: 0.5595 - val_accuracy: 0.6970 - val_loss: 0.5640\n",
      "Epoch 15/20\n",
      "\u001b[1m594/594\u001b[0m \u001b[32m━━━━━━━━━━━━━━━━━━━━\u001b[0m\u001b[37m\u001b[0m \u001b[1m47s\u001b[0m 78ms/step - accuracy: 0.7156 - loss: 0.5522 - val_accuracy: 0.7039 - val_loss: 0.5749\n",
      "Epoch 16/20\n",
      "\u001b[1m594/594\u001b[0m \u001b[32m━━━━━━━━━━━━━━━━━━━━\u001b[0m\u001b[37m\u001b[0m \u001b[1m47s\u001b[0m 78ms/step - accuracy: 0.7183 - loss: 0.5482 - val_accuracy: 0.6916 - val_loss: 0.6949\n",
      "Epoch 17/20\n",
      "\u001b[1m594/594\u001b[0m \u001b[32m━━━━━━━━━━━━━━━━━━━━\u001b[0m\u001b[37m\u001b[0m \u001b[1m46s\u001b[0m 78ms/step - accuracy: 0.7157 - loss: 0.5546 - val_accuracy: 0.7011 - val_loss: 0.5659\n",
      "Epoch 18/20\n",
      "\u001b[1m594/594\u001b[0m \u001b[32m━━━━━━━━━━━━━━━━━━━━\u001b[0m\u001b[37m\u001b[0m \u001b[1m46s\u001b[0m 77ms/step - accuracy: 0.7360 - loss: 0.5335 - val_accuracy: 0.7256 - val_loss: 0.5456\n",
      "Epoch 19/20\n",
      "\u001b[1m594/594\u001b[0m \u001b[32m━━━━━━━━━━━━━━━━━━━━\u001b[0m\u001b[37m\u001b[0m \u001b[1m46s\u001b[0m 78ms/step - accuracy: 0.7379 - loss: 0.5302 - val_accuracy: 0.7510 - val_loss: 0.5147\n",
      "Epoch 20/20\n",
      "\u001b[1m594/594\u001b[0m \u001b[32m━━━━━━━━━━━━━━━━━━━━\u001b[0m\u001b[37m\u001b[0m \u001b[1m47s\u001b[0m 79ms/step - accuracy: 0.7425 - loss: 0.5220 - val_accuracy: 0.7408 - val_loss: 0.5152\n"
     ]
    }
   ],
   "source": [
    "# Definir el modelo\n",
    "model = Sequential()\n",
    "model.add(LSTM(90, input_shape=(Xbt_train.shape[1], Xbt_train.shape[2])))\n",
    "model.add(BatchNormalization())\n",
    "model.add(Dropout(0.1))\n",
    "model.add(Dense(32, activation='relu', kernel_regularizer='l2'))\n",
    "model.add(Dropout(0.1))\n",
    "model.add(Dense(1, activation='sigmoid'))\n",
    "\n",
    "# Compilar el modelo con una tasa de aprendizaje más baja\n",
    "optimizer = Adam(learning_rate=0.001)\n",
    "model.compile(optimizer=optimizer, loss='binary_crossentropy', metrics=['accuracy'])\n",
    "\n",
    "# Definir EarlyStopping\n",
    "early_stopping = EarlyStopping(monitor='val_loss', patience=5, restore_best_weights=True)\n",
    "\n",
    "# Calcular pesos de clase\n",
    "\n",
    "classes = np.unique(ybt_train)\n",
    "class_weights = compute_class_weight(class_weight='balanced', classes=classes, y=ybt_train.flatten())\n",
    "class_weights = dict(zip(classes, class_weights))\n",
    "\n",
    "# Entrenar el modelo\n",
    "history = model.fit(\n",
    "    Xbt_train, ybt_train,\n",
    "    epochs=20,\n",
    "    batch_size=32,\n",
    "    validation_data=(Xbt_val, ybt_val),\n",
    "    class_weight=class_weights,\n",
    "    callbacks=[early_stopping]\n",
    ")"
   ]
  },
  {
   "cell_type": "code",
   "execution_count": 11,
   "metadata": {},
   "outputs": [],
   "source": [
    "import seaborn as sns\n",
    "from tensorflow.keras.models import load_model  # Si estás cargando un modelo guardado\n",
    "from sklearn.metrics import (\n",
    "    accuracy_score,\n",
    "    precision_score,\n",
    "    recall_score,\n",
    "    f1_score,\n",
    "    roc_auc_score,\n",
    "    confusion_matrix,\n",
    "    roc_curve,\n",
    "    classification_report\n",
    ")"
   ]
  },
  {
   "cell_type": "code",
   "execution_count": 16,
   "metadata": {},
   "outputs": [
    {
     "name": "stdout",
     "output_type": "stream",
     "text": [
      "\u001b[1m1864/1864\u001b[0m \u001b[32m━━━━━━━━━━━━━━━━━━━━\u001b[0m\u001b[37m\u001b[0m \u001b[1m46s\u001b[0m 25ms/step\n",
      "### Reporte de Métricas ###\n",
      "\n",
      "                 Métrica     Valor\n",
      "0   Exactitud (Accuracy)  0.739709\n",
      "1  Precisión (Precision)  0.331565\n",
      "2  Sensibilidad (Recall)  0.717166\n",
      "3               F1-Score  0.453476\n",
      "4                AUC-ROC  0.811323\n",
      "\n",
      "### Reporte de Clasificación ###\n",
      "\n",
      "              precision    recall  f1-score   support\n",
      "\n",
      "         0.0     0.9368    0.7437    0.8292     50641\n",
      "         1.0     0.3316    0.7172    0.4535      8977\n",
      "\n",
      "    accuracy                         0.7397     59618\n",
      "   macro avg     0.6342    0.7304    0.6413     59618\n",
      "weighted avg     0.8457    0.7397    0.7726     59618\n",
      "\n"
     ]
    }
   ],
   "source": [
    "# -----------------------------------------------------\n",
    "# 1. Realizar Predicciones\n",
    "# -----------------------------------------------------\n",
    "Xs=[Xb_t,#Dataset completo\n",
    "    Xb_t_balanced,#Balanceado\n",
    "    Xbt_train,#Entrenamiento\n",
    "    Xbt_val]#Validación\n",
    "ys=[yb_t,yb_t_balanced,ybt_train,ybt_val]\n",
    "\n",
    "# Seleccionar el conjunto de datos a evaluar\n",
    "select_set=0#Lo probamos con el datset completo\n",
    "X_metrics=Xs[select_set]\n",
    "y_metrics=ys[select_set]\n",
    "# Obtener las predicciones de probabilidad\n",
    "y_pred_prob = model.predict(X_metrics)\n",
    "\n",
    "# Convertir las predicciones de probabilidad a clases binarias (0 o 1) usando un umbral de 0.5\n",
    "y_pred = (y_pred_prob >= 0.6).astype(int).reshape(-1)\n",
    "\n",
    "# Asegurarse de que ybt_val también esté en formato 1D\n",
    "y_true = y_metrics.reshape(-1)\n",
    "\n",
    "# -----------------------------------------------------\n",
    "# 2. Calcular las Métricas\n",
    "# -----------------------------------------------------\n",
    "\n",
    "accuracy = accuracy_score(y_true, y_pred)\n",
    "precision = precision_score(y_true, y_pred, zero_division=0)\n",
    "recall = recall_score(y_true, y_pred, zero_division=0)\n",
    "f1 = f1_score(y_true, y_pred, zero_division=0)\n",
    "auc_roc = roc_auc_score(y_true, y_pred_prob)\n",
    "\n",
    "# Obtener la matriz de confusión\n",
    "conf_matrix = confusion_matrix(y_true, y_pred)\n",
    "\n",
    "# Generar el reporte de clasificación\n",
    "class_report = classification_report(y_true, y_pred, digits=4)\n",
    "\n",
    "# -----------------------------------------------------\n",
    "# 3. Presentar las Métricas\n",
    "# -----------------------------------------------------\n",
    "# Crear un DataFrame para las métricas\n",
    "metrics_df = pd.DataFrame({\n",
    "    'Métrica': ['Exactitud (Accuracy)', 'Precisión (Precision)', \n",
    "                'Sensibilidad (Recall)', 'F1-Score', 'AUC-ROC'],\n",
    "    'Valor': [accuracy, precision, recall, f1, auc_roc]\n",
    "    })\n",
    "print(\"### Reporte de Métricas ###\\n\")\n",
    "print(metrics_df)\n",
    "print(\"\\n### Reporte de Clasificación ###\\n\")\n",
    "print(class_report)"
   ]
  },
  {
   "cell_type": "code",
   "execution_count": 18,
   "metadata": {},
   "outputs": [
    {
     "data": {
      "image/png": "[encoded data removed]",
      "text/plain": [
       "<Figure size 700x500 with 1 Axes>"
      ]
     },
     "metadata": {},
     "output_type": "display_data"
    },
    {
     "data": {
      "image/png": "[encoded data removed]",
      "text/plain": [
       "<Figure size 600x500 with 2 Axes>"
      ]
     },
     "metadata": {},
     "output_type": "display_data"
    }
   ],
   "source": [
    "# -----------------------------------------------------\n",
    "# 4. Generar los Gráficos\n",
    "# -----------------------------------------------------\n",
    "# Configuración general de los gráficos\n",
    "sns.set(style='whitegrid', palette='muted', font_scale=1.2)\n",
    "\n",
    "# a) Curva ROC\n",
    "fpr, tpr, thresholds = roc_curve(y_true, y_pred_prob)\n",
    "\n",
    "plt.figure(figsize=(7, 5))\n",
    "plt.plot(fpr, tpr, color='blue', label=f'AUC = {auc_roc:.4f}')\n",
    "plt.plot([0, 1], [0, 1], color='red', linestyle='--')\n",
    "plt.title('Curva ROC')\n",
    "plt.xlabel('Tasa de Falsos Positivos (FPR)')\n",
    "plt.ylabel('Tasa de Verdaderos Positivos (TPR)')\n",
    "plt.legend(loc='lower right')\n",
    "plt.tight_layout()\n",
    "plt.show()\n",
    "\n",
    "# b) Matriz de Confusión\n",
    "plt.figure(figsize=(6, 5))\n",
    "sns.heatmap(conf_matrix, annot=True, fmt='d', cmap='Blues', \n",
    "            xticklabels=['Predicción 0', 'Predicción 1'],\n",
    "            yticklabels=['Real 0', 'Real 1'])\n",
    "plt.title('Matriz de Confusión')\n",
    "plt.ylabel('Clase Real')\n",
    "plt.xlabel('Clase Predicha')\n",
    "plt.tight_layout()\n",
    "plt.show()"
   ]
  },
  {
   "cell_type": "markdown",
   "metadata": {},
   "source": [
    "## **CONCLUSIONES**\n",
    "El modelo ha mostrado una mejora considerable en los resultados. Esto se refleja claramente en la matriz de confusión, donde se observa que el modelo predice correctamente aproximadamente el 33% de las operaciones positivas. Es importante destacar que, aunque el modelo solo ha sido entrenado con una cuarta parte de los datos, ha demostrado la capacidad de realizar predicciones precisas sobre el dataset completo. En la arquitectura del modelo, nos hemos enfocado en prevenir el sobreajuste.\n",
    "\n",
    "Hasta el momento, hemos logrado un modelo con las siguientes características:\n",
    "\n",
    "| Métrica                     | Puntuación | Explicación |\n",
    "|-----------------------------|------------|-------------|\n",
    "| **Precisión (Precision)**   | 0.331565   | Esto significa que el 33.16% de las predicciones etiquetadas como positivas realmente corresponden a operaciones positivas. |\n",
    "\n",
    "La precisión es una de las métricas más importantes en este contexto, ya que indica que el modelo tiene una tasa de acierto del 33%. Dada la complejidad del mercado, esta tasa de acierto es un buen punto de partida para seguir optimizando el modelo.\n",
    "\n",
    "### Conceptos clave en el desarrollo del modelo\n",
    "\n",
    "A continuación, se describen algunos de los conceptos y técnicas utilizados en el desarrollo del modelo de machine learning:\n",
    "\n",
    "- **Balance de clases**: Se implementó para asegurar que el modelo no estuviera sesgado hacia ninguna de las clases, dado que trabajamos con datos desbalanceados.\n",
    "    - Submuestreo (Undersampling)\n",
    "    - Sobremuestreo (Oversampling)\n",
    "- **Dropout**: Técnica utilizada para prevenir el sobreajuste (overfitting), haciendo que el modelo sea más robusto.\n",
    "- **Batch Normalization**: Ayuda a mejorar la eficiencia del entrenamiento normalizando las entradas de cada capa, permitiendo que el modelo se entrene más rápido y de manera más estable.\n",
    "- **Compute_class_weight**: Esta función se utilizó para calcular el peso de las clases, lo que contribuye a lidiar con el desbalance de clases, ajustando el impacto de cada clase en la función de pérdida.\n",
    "- **Redes neuronales recurrentes (RNN)**: Estas redes fueron implementadas para aprovechar la secuencialidad de los datos.\n",
    "- **Redes neuronales densas (DNN) o Fully Connected Networks (FCN)**: Redes neuronales donde cada neurona de una capa está completamente conectada a todas las neuronas de la siguiente capa, lo que mejora la capacidad de representación del modelo.\n",
    "- **Métricas de evaluación**: Se utilizaron diversas métricas de evaluación para monitorear y optimizar el rendimiento del modelo.\n",
    "\n",
    "Con estos elementos, hemos establecido una base sólida para seguir mejorando el rendimiento del modelo en futuras iteraciones.\n",
    "\n",
    "\n"
   ]
  }
 ],
 "metadata": {
  "kernelspec": {
   "display_name": "Python 3",
   "language": "python",
   "name": "python3"
  },
  "language_info": {
   "codemirror_mode": {
    "name": "ipython",
    "version": 3
   },
   "file_extension": ".py",
   "mimetype": "text/x-python",
   "name": "python",
   "nbconvert_exporter": "python",
   "pygments_lexer": "ipython3",
   "version": "3.12.6"
  }
 },
 "nbformat": 4,
 "nbformat_minor": 2
}
