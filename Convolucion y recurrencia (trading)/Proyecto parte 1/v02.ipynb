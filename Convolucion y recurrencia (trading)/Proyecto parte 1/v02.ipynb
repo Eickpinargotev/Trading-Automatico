{
 "cells": [
  {
   "cell_type": "markdown",
   "metadata": {},
   "source": [
    "# V02 - Proyecto Parte 1\n",
    "\n",
    "En esta parte del proyecto, vamos a preparar los datos para el entrenamiento y a crear y entrenar nuestro modelo de machine learning basado en redes neuronales recurrentes profundas.<br>\n",
    "Como parte del procesamiento de datos, analizaremos el desbalance de clases o equilibrio de datos.<br>\n",
    "Los pasos que seguiremos son:<br>\n",
    "- Carga de datos: Buys.csv y Sells.csv\n",
    "- Análisis de desbalance de clases\n",
    "- Escalado de datos\n",
    "- Crear función para generar las secuencias que usaremos para entrenar nuestro modelo\n",
    "- Crear la función para balancear nuestro conjunto de datos de entrenamiento (secuencias generadas previamente) usando el método de submuestreo y sobremuestreo\n",
    "- Entrenamiento del modelo\n",
    "- Evaluar las métricas del modelo\n",
    "- Obtener una conclusión\n",
    "\n",
    "## MÉTRICAS\n",
    "1. **Accuracy (Exactitud)**\n",
    "2. **Precision (Precisión)**\n",
    "3. **Recall (Sensibilidad o Exhaustividad)**\n",
    "4. **F1-Score**\n",
    "5. **AUC-ROC (Área bajo la Curva ROC)**\n",
    "6. **Matriz de Confusión**\n",
    "\n"
   ]
  },
  {
   "cell_type": "markdown",
   "metadata": {},
   "source": [
    "**IMPORTAMOS LIBRERIAS**"
   ]
  },
  {
   "cell_type": "code",
   "execution_count": 1,
   "metadata": {},
   "outputs": [],
   "source": [
    "import pandas as pd\n",
    "import numpy as np\n",
    "\n",
    "from tensorflow.keras.models import Sequential,load_model\n",
    "from tensorflow.keras.layers import Input,LSTM, Dense, Dropout\n",
    "\n",
    "from sklearn.preprocessing import MinMaxScaler\n",
    "from sklearn.preprocessing import StandardScaler\n",
    "\n",
    "from sklearn.model_selection import train_test_split\n",
    "\n",
    "\n",
    "from matplotlib import pyplot as plt"
   ]
  },
  {
   "cell_type": "markdown",
   "metadata": {},
   "source": [
    "**CARGAMOS LOS DATOS**"
   ]
  },
  {
   "cell_type": "code",
   "execution_count": 2,
   "metadata": {},
   "outputs": [],
   "source": [
    "Buys= pd.read_csv('Buys.csv')\n",
    "Buys['time'] = pd.to_datetime(Buys['time'])\n",
    "Sells= pd.read_csv('Sells.csv')\n",
    "Sells['time'] = pd.to_datetime(Sells['time'])\n",
    "#Eliminamos las columnas que no necesitamos\n",
    "Buys = Buys.drop(['Buy'], axis=1).drop(['time'], axis=1)\n",
    "Sells = Sells.drop(['Buy'], axis=1).drop(['time'], axis=1)"
   ]
  },
  {
   "cell_type": "code",
   "execution_count": 3,
   "metadata": {},
   "outputs": [
    {
     "data": {
      "text/html": [
       "<div>\n",
       "<style scoped>\n",
       "    .dataframe tbody tr th:only-of-type {\n",
       "        vertical-align: middle;\n",
       "    }\n",
       "\n",
       "    .dataframe tbody tr th {\n",
       "        vertical-align: top;\n",
       "    }\n",
       "\n",
       "    .dataframe thead th {\n",
       "        text-align: right;\n",
       "    }\n",
       "</style>\n",
       "<table border=\"1\" class=\"dataframe\">\n",
       "  <thead>\n",
       "    <tr style=\"text-align: right;\">\n",
       "      <th></th>\n",
       "      <th>open</th>\n",
       "      <th>high</th>\n",
       "      <th>low</th>\n",
       "      <th>close</th>\n",
       "      <th>tick_volume</th>\n",
       "      <th>spread</th>\n",
       "      <th>real_volume</th>\n",
       "      <th>DayOfYear</th>\n",
       "      <th>Hour</th>\n",
       "      <th>Minute</th>\n",
       "      <th>Tres</th>\n",
       "      <th>Dos</th>\n",
       "      <th>PuntoCinco</th>\n",
       "    </tr>\n",
       "  </thead>\n",
       "  <tbody>\n",
       "    <tr>\n",
       "      <th>0</th>\n",
       "      <td>39965.25</td>\n",
       "      <td>39965.25</td>\n",
       "      <td>39959.55</td>\n",
       "      <td>39960.55</td>\n",
       "      <td>28.0</td>\n",
       "      <td>210</td>\n",
       "      <td>0.0</td>\n",
       "      <td>137</td>\n",
       "      <td>0</td>\n",
       "      <td>0</td>\n",
       "      <td>0.0</td>\n",
       "      <td>0.0</td>\n",
       "      <td>0.0</td>\n",
       "    </tr>\n",
       "    <tr>\n",
       "      <th>1</th>\n",
       "      <td>39961.05</td>\n",
       "      <td>39961.05</td>\n",
       "      <td>39955.45</td>\n",
       "      <td>39957.45</td>\n",
       "      <td>15.0</td>\n",
       "      <td>230</td>\n",
       "      <td>0.0</td>\n",
       "      <td>137</td>\n",
       "      <td>0</td>\n",
       "      <td>1</td>\n",
       "      <td>0.0</td>\n",
       "      <td>0.0</td>\n",
       "      <td>0.0</td>\n",
       "    </tr>\n",
       "  </tbody>\n",
       "</table>\n",
       "</div>"
      ],
      "text/plain": [
       "       open      high       low     close  tick_volume  spread  real_volume  \\\n",
       "0  39965.25  39965.25  39959.55  39960.55         28.0     210          0.0   \n",
       "1  39961.05  39961.05  39955.45  39957.45         15.0     230          0.0   \n",
       "\n",
       "   DayOfYear  Hour  Minute  Tres  Dos  PuntoCinco  \n",
       "0        137     0       0   0.0  0.0         0.0  \n",
       "1        137     0       1   0.0  0.0         0.0  "
      ]
     },
     "execution_count": 3,
     "metadata": {},
     "output_type": "execute_result"
    }
   ],
   "source": [
    "Buys.head(2)"
   ]
  },
  {
   "cell_type": "markdown",
   "metadata": {},
   "source": [
    "Usaremos un modelo de machine learning basado en redes neuronales recurrentes profundas.<br>\n",
    "Para preparar los datos de entrenamiento de este modelo, es necesario seguir los siguientes pasos:\n",
    "\n",
    "- **Paso 1:** Análisis de desbalance de clases\n",
    "- **Paso 2:** Elección de características y escalado de los datos\n",
    "- **Paso 3:** Crear función para calcular secuencias y usarla\n",
    "- **Paso 4:** Crear función para balancear las clases y usarla\n",
    "- **Paso 5:** Dividir los datos en entrenamiento y validación\n",
    "\n"
   ]
  },
  {
   "cell_type": "markdown",
   "metadata": {},
   "source": [
    "**PASO 1:** "
   ]
  },
  {
   "cell_type": "markdown",
   "metadata": {},
   "source": [
    "Como podemos notar abajo, definitivamente hay un desbalance de clases.<br>\n",
    "- Tenemos más de 10 veces más clases negativas (0) que clases positivas (1)."
   ]
  },
  {
   "cell_type": "code",
   "execution_count": 4,
   "metadata": {},
   "outputs": [
    {
     "data": {
      "text/plain": [
       "Tres\n",
       "0.0    121128\n",
       "1.0      9544\n",
       "Name: count, dtype: int64"
      ]
     },
     "metadata": {},
     "output_type": "display_data"
    },
    {
     "data": {
      "text/plain": [
       "Tres\n",
       "0.0    120426\n",
       "1.0     10246\n",
       "Name: count, dtype: int64"
      ]
     },
     "metadata": {},
     "output_type": "display_data"
    }
   ],
   "source": [
    "display(Buys['Tres'].value_counts())\n",
    "display(Sells['Tres'].value_counts())"
   ]
  },
  {
   "cell_type": "markdown",
   "metadata": {},
   "source": [
    "Vamos a entrenar 3 modelos diferentes, lo que dará un total de 6 modelos. Esto nos permitirá manejar el desbalance de clases de forma más eficiente, ya que, al ser datos secuenciales, el problema ya es complicado de gestionar.\n",
    "\n",
    "- Entrenar diferentes modelos nos permitirá visualizar la matriz de confusión y evaluar mejor el rendimiento."
   ]
  },
  {
   "cell_type": "markdown",
   "metadata": {},
   "source": [
    "Analicemos un poco los datos para decidir qué hacer."
   ]
  },
  {
   "cell_type": "code",
   "execution_count": 5,
   "metadata": {},
   "outputs": [
    {
     "data": {
      "image/png": "[encoded data removed]",
      "text/plain": [
       "<Figure size 1000x500 with 6 Axes>"
      ]
     },
     "metadata": {},
     "output_type": "display_data"
    }
   ],
   "source": [
    "Buys.iloc[:,-1].value_counts()\n",
    "#----------------------------------Vemamos en que orarios se dan las compras--------------------------------\n",
    "fig, ax = plt.subplots(2, 3, figsize=(10, 5))\n",
    "# Primera fila de gráficos\n",
    "Buys[Buys['Tres'] == 1].groupby('Hour')['Tres'].count().plot(kind='bar', ax=ax[0, 0])\n",
    "ax[0, 0].set_title('1/3')\n",
    "Buys[Buys['Dos'] == 1].groupby('Hour')['Dos'].count().plot(kind='bar', ax=ax[0, 1])\n",
    "ax[0, 1].set_title('1/2')\n",
    "Buys[Buys['PuntoCinco'] == 1].groupby('Hour')['PuntoCinco'].count().plot(kind='bar', ax=ax[0, 2])\n",
    "ax[0, 2].set_title('1/1.5')\n",
    "\n",
    "# Segunda fila de gráficos\n",
    "Sells[Sells['Tres'] == 1].groupby('Hour')['Tres'].count().plot(kind='bar', ax=ax[1, 0])\n",
    "ax[1, 0].set_title('1/3')\n",
    "Sells[Sells['Dos'] == 1].groupby('Hour')['Dos'].count().plot(kind='bar', ax=ax[1, 1])\n",
    "ax[1, 1].set_title('1/2')\n",
    "Sells[Sells['PuntoCinco'] == 1].groupby('Hour')['PuntoCinco'].count().plot(kind='bar', ax=ax[1, 2])\n",
    "ax[1, 2].set_title('1/1.5')\n",
    "plt.tight_layout()\n",
    "plt.show()\n",
    "\n"
   ]
  },
  {
   "cell_type": "markdown",
   "metadata": {},
   "source": [
    "Después de las **14 horas**, en prácticamente todos los tipos de operaciones, se reduce drásticamente el número de operaciones.<br>\n",
    "Acciones a tomar:\n",
    "- Eliminar los registros desde las 15 horas en adelante (esto reducirá el desbalance de clases).<br>\n",
    "\n",
    "Para continuar equilibrando las clases cero con las clases uno, primero crearemos las secuencias y luego usaremos el método de sobremuestreo (oversampling) y submuestreo (undersampling)."
   ]
  },
  {
   "cell_type": "code",
   "execution_count": 6,
   "metadata": {},
   "outputs": [],
   "source": [
    "#Eliminamos los datos de las 15hs en adelante\n",
    "Buys=Buys[~Buys['Hour'].isin(list(range(15,24)))].copy()\n",
    "Sells=Sells[~Sells['Hour'].isin(list(range(15,24)))].copy()"
   ]
  },
  {
   "cell_type": "code",
   "execution_count": 7,
   "metadata": {},
   "outputs": [
    {
     "data": {
      "image/png": "[encoded data removed]",
      "text/plain": [
       "<Figure size 600x400 with 1 Axes>"
      ]
     },
     "metadata": {},
     "output_type": "display_data"
    }
   ],
   "source": [
    "# Contamos el balance de cada clase (0 and 1) para cada columna\n",
    "class_balance = Buys[['Tres', 'Dos', 'PuntoCinco']].apply(pd.Series.value_counts)\n",
    "# Grafiucamos el balance de clases para las columnas 'Tres', 'Dos', y 'PuntoCinco'\n",
    "class_balance.plot(kind='bar', figsize=(6, 4))\n",
    "plt.title(\"Balance de clases para 'Tres', 'Dos', and 'PuntoCinco'\")\n",
    "plt.xlabel(\"Class\")\n",
    "plt.ylabel(\"Frequency\")\n",
    "plt.xticks(rotation=0)\n",
    "plt.legend(title=\"Columns\")\n",
    "plt.tight_layout()\n",
    "# mostramos la grafica\n",
    "plt.show()\n"
   ]
  },
  {
   "cell_type": "markdown",
   "metadata": {},
   "source": [
    "- Podemos notar que el desbalance persiste; no podemos hacer nada más aquí, ya que se trata de series temporales. Por esta razón, primero crearemos las secuencias y luego nos encargaremos de balancear las clases."
   ]
  },
  {
   "cell_type": "markdown",
   "metadata": {},
   "source": [
    "**PASO 2:**"
   ]
  },
  {
   "cell_type": "code",
   "execution_count": 8,
   "metadata": {},
   "outputs": [],
   "source": [
    "#----------------------------------------PASO 2:--------------------------------------------\n",
    "columnas_a_normalizar = ['open', 'high', 'low', 'close', 'tick_volume', 'spread','real_volume','Hour', 'Minute']\n",
    "\n",
    "# Crear un objeto de MinMaxScaler\n",
    "scaler = MinMaxScaler()\n",
    "\n",
    "# Normaliza solo las columnas seleccionadas\n",
    "Scaled_Buys = Buys.copy()  # Mantén una copia del dataframe original para preservar las columnas intactas\n",
    "Scaled_Buys[columnas_a_normalizar] = scaler.fit_transform(Buys[columnas_a_normalizar])\n",
    "\n",
    "# Hacer lo mismo para el dataframe de Sells\n",
    "Scaled_Sells = Sells.copy()  # Mantén una copia del dataframe original para preservar las columnas intactas\n",
    "Scaled_Sells[columnas_a_normalizar] = scaler.fit_transform(Sells[columnas_a_normalizar])"
   ]
  },
  {
   "cell_type": "code",
   "execution_count": 9,
   "metadata": {},
   "outputs": [
    {
     "name": "stdout",
     "output_type": "stream",
     "text": [
      "Sin escalar\n"
     ]
    },
    {
     "data": {
      "text/html": [
       "<div>\n",
       "<style scoped>\n",
       "    .dataframe tbody tr th:only-of-type {\n",
       "        vertical-align: middle;\n",
       "    }\n",
       "\n",
       "    .dataframe tbody tr th {\n",
       "        vertical-align: top;\n",
       "    }\n",
       "\n",
       "    .dataframe thead th {\n",
       "        text-align: right;\n",
       "    }\n",
       "</style>\n",
       "<table border=\"1\" class=\"dataframe\">\n",
       "  <thead>\n",
       "    <tr style=\"text-align: right;\">\n",
       "      <th></th>\n",
       "      <th>high</th>\n",
       "      <th>low</th>\n",
       "      <th>close</th>\n",
       "      <th>tick_volume</th>\n",
       "      <th>spread</th>\n",
       "      <th>real_volume</th>\n",
       "      <th>DayOfYear</th>\n",
       "      <th>Hour</th>\n",
       "      <th>Minute</th>\n",
       "      <th>Tres</th>\n",
       "      <th>Dos</th>\n",
       "      <th>PuntoCinco</th>\n",
       "    </tr>\n",
       "  </thead>\n",
       "  <tbody>\n",
       "    <tr>\n",
       "      <th>493</th>\n",
       "      <td>39878.85</td>\n",
       "      <td>39874.35</td>\n",
       "      <td>39878.35</td>\n",
       "      <td>44.0</td>\n",
       "      <td>180</td>\n",
       "      <td>0.0</td>\n",
       "      <td>137</td>\n",
       "      <td>8</td>\n",
       "      <td>13</td>\n",
       "      <td>1.0</td>\n",
       "      <td>1.0</td>\n",
       "      <td>1.0</td>\n",
       "    </tr>\n",
       "    <tr>\n",
       "      <th>494</th>\n",
       "      <td>39882.85</td>\n",
       "      <td>39877.35</td>\n",
       "      <td>39878.85</td>\n",
       "      <td>51.0</td>\n",
       "      <td>180</td>\n",
       "      <td>0.0</td>\n",
       "      <td>137</td>\n",
       "      <td>8</td>\n",
       "      <td>14</td>\n",
       "      <td>1.0</td>\n",
       "      <td>1.0</td>\n",
       "      <td>1.0</td>\n",
       "    </tr>\n",
       "  </tbody>\n",
       "</table>\n",
       "</div>"
      ],
      "text/plain": [
       "         high       low     close  tick_volume  spread  real_volume  \\\n",
       "493  39878.85  39874.35  39878.35         44.0     180          0.0   \n",
       "494  39882.85  39877.35  39878.85         51.0     180          0.0   \n",
       "\n",
       "     DayOfYear  Hour  Minute  Tres  Dos  PuntoCinco  \n",
       "493        137     8      13   1.0  1.0         1.0  \n",
       "494        137     8      14   1.0  1.0         1.0  "
      ]
     },
     "metadata": {},
     "output_type": "display_data"
    },
    {
     "name": "stdout",
     "output_type": "stream",
     "text": [
      "Escalado\n"
     ]
    },
    {
     "data": {
      "text/html": [
       "<div>\n",
       "<style scoped>\n",
       "    .dataframe tbody tr th:only-of-type {\n",
       "        vertical-align: middle;\n",
       "    }\n",
       "\n",
       "    .dataframe tbody tr th {\n",
       "        vertical-align: top;\n",
       "    }\n",
       "\n",
       "    .dataframe thead th {\n",
       "        text-align: right;\n",
       "    }\n",
       "</style>\n",
       "<table border=\"1\" class=\"dataframe\">\n",
       "  <thead>\n",
       "    <tr style=\"text-align: right;\">\n",
       "      <th></th>\n",
       "      <th>open</th>\n",
       "      <th>high</th>\n",
       "      <th>low</th>\n",
       "      <th>close</th>\n",
       "      <th>tick_volume</th>\n",
       "      <th>spread</th>\n",
       "      <th>real_volume</th>\n",
       "      <th>DayOfYear</th>\n",
       "      <th>Hour</th>\n",
       "      <th>Minute</th>\n",
       "      <th>Tres</th>\n",
       "      <th>Dos</th>\n",
       "      <th>PuntoCinco</th>\n",
       "    </tr>\n",
       "  </thead>\n",
       "  <tbody>\n",
       "    <tr>\n",
       "      <th>493</th>\n",
       "      <td>0.402616</td>\n",
       "      <td>0.402379</td>\n",
       "      <td>0.404311</td>\n",
       "      <td>0.402832</td>\n",
       "      <td>0.080979</td>\n",
       "      <td>0.532544</td>\n",
       "      <td>0.0</td>\n",
       "      <td>137</td>\n",
       "      <td>0.571429</td>\n",
       "      <td>0.220339</td>\n",
       "      <td>1.0</td>\n",
       "      <td>1.0</td>\n",
       "      <td>1.0</td>\n",
       "    </tr>\n",
       "    <tr>\n",
       "      <th>494</th>\n",
       "      <td>0.402940</td>\n",
       "      <td>0.403246</td>\n",
       "      <td>0.404962</td>\n",
       "      <td>0.402940</td>\n",
       "      <td>0.094162</td>\n",
       "      <td>0.532544</td>\n",
       "      <td>0.0</td>\n",
       "      <td>137</td>\n",
       "      <td>0.571429</td>\n",
       "      <td>0.237288</td>\n",
       "      <td>1.0</td>\n",
       "      <td>1.0</td>\n",
       "      <td>1.0</td>\n",
       "    </tr>\n",
       "  </tbody>\n",
       "</table>\n",
       "</div>"
      ],
      "text/plain": [
       "         open      high       low     close  tick_volume    spread  \\\n",
       "493  0.402616  0.402379  0.404311  0.402832     0.080979  0.532544   \n",
       "494  0.402940  0.403246  0.404962  0.402940     0.094162  0.532544   \n",
       "\n",
       "     real_volume  DayOfYear      Hour    Minute  Tres  Dos  PuntoCinco  \n",
       "493          0.0        137  0.571429  0.220339   1.0  1.0         1.0  \n",
       "494          0.0        137  0.571429  0.237288   1.0  1.0         1.0  "
      ]
     },
     "metadata": {},
     "output_type": "display_data"
    }
   ],
   "source": [
    "print('Sin escalar')\n",
    "display(Buys.iloc[:,1:][Buys['Tres']==1].head(2))\n",
    "print('Escalado')\n",
    "display(Scaled_Buys[Scaled_Buys['Tres']==1].head(2))\n",
    "# Como podemos notar abajo, el inidice se mantiene igual, por lo que la concatenación se hizo correctamente"
   ]
  },
  {
   "cell_type": "markdown",
   "metadata": {},
   "source": [
    "Podemos notar que el escalado se realizó correctamente al coincidir los índices.<br>\n",
    "Para crear las secuencias, seguiremos los siguientes pasos:<br>\n",
    "- Vamos a agrupar el dataframe por **'DayOfYear'** para tener los días separados.\n",
    "- Crearemos las secuencias para cada uno de estos días."
   ]
  },
  {
   "cell_type": "markdown",
   "metadata": {},
   "source": [
    "**PASO 3:**"
   ]
  },
  {
   "cell_type": "code",
   "execution_count": 10,
   "metadata": {},
   "outputs": [],
   "source": [
    "def crear_secuencias(df, Y, objetivo):\n",
    "    \"\"\"\n",
    "    Crea conjuntos de secuencias y sus respectivos targets a partir de un DataFrame.\n",
    "\n",
    "    Parámetros:\n",
    "    df (pd.DataFrame): DataFrame que contiene las columnas ['open', 'high', 'low', 'close', \n",
    "                       'tick_volume', 'spread', 'real_volume', 'DayOfYear', 'Hour', \n",
    "                       'Minute', 'Tres'] ya estandarizadas.\n",
    "    Y (int): Número de observaciones en cada secuencia.\n",
    "\n",
    "    Retorna:\n",
    "    X (np.ndarray): Arreglo de secuencias con forma (a, Y, b), donde:\n",
    "                    a = número de secuencias,\n",
    "                    Y = longitud de cada secuencia,\n",
    "                    b = número de características (sin incluir 'DayOfYear' y 'Tres').\n",
    "    y (np.ndarray): Arreglo de targets con forma (a, 1).\n",
    "    \"\"\"\n",
    "    # Definir las columnas de características excluyendo 'DayOfYear' y 'Tres'\n",
    "    caracteristicas = ['open', 'high', 'low', 'close', \n",
    "                       'tick_volume', 'spread', 'real_volume', \n",
    "                       'Hour', 'Minute']\n",
    "    \n",
    "    # Inicializar listas para almacenar secuencias y targets\n",
    "    secuencias = []\n",
    "    targets = []\n",
    "    \n",
    "    # Agrupar el DataFrame por 'DayOfYear'\n",
    "    grupos_dia = df.groupby('DayOfYear')\n",
    "    \n",
    "    for dia, grupo in grupos_dia:\n",
    "        # Asegurarse de que los datos estén ordenados por 'Hour' y 'Minute'\n",
    "        grupo_ordenado = grupo.sort_values(['Hour', 'Minute']).reset_index(drop=True)\n",
    "        \n",
    "        # Extraer los valores de las características y del target\n",
    "        datos_caracteristicas = grupo_ordenado[caracteristicas].values\n",
    "        datos_target = grupo_ordenado[objetivo].values\n",
    "        \n",
    "        # Crear secuencias con ventana deslizante\n",
    "        for i in range(len(grupo_ordenado) - Y + 1):\n",
    "            secuencia = datos_caracteristicas[i:i+Y]\n",
    "            target = datos_target[i+Y-1]\n",
    "            \n",
    "            secuencias.append(secuencia)\n",
    "            targets.append(target)\n",
    "    \n",
    "    # Convertir las listas a arreglos de NumPy\n",
    "    X = np.array(secuencias)\n",
    "    y = np.array(targets).reshape(-1, 1)\n",
    "    \n",
    "    return X, y\n",
    "\n",
    "# Ejemplo de uso:\n",
    "# Supongamos que tienes un DataFrame `df_estandarizado` y deseas crear secuencias de longitud 2\n",
    "# Y = 2\n",
    "# X, y = crear_secuencias(df_estandarizado, Y=2)\n",
    "# Ahora, `X` tendrá la forma (número_de_secuencias, 2, 9) y `y` tendrá la forma (número_de_secuencias, 1)"
   ]
  },
  {
   "cell_type": "code",
   "execution_count": 11,
   "metadata": {},
   "outputs": [],
   "source": [
    "#----------------------------------------MODELO RATIO 1/3--------------------------------------------\n",
    "Xb_t, yb_t = crear_secuencias(Scaled_Buys, 300,'Tres')\n",
    "Xs_t, ys_t= crear_secuencias(Scaled_Sells, 300,'Tres')\n",
    "#----------------------------------------MODELO RATIO 1/2--------------------------------------------\n",
    "#Xb_d, yb_d = crear_secuencias(Scaled_Buys, 300,'Dos')\n",
    "#Xs_d, ys_d= crear_secuencias(Scaled_Sells, 300,'Dos')\n",
    "#----------------------------------------MODELO RATIO 1/1.5--------------------------------------------\n",
    "#Xb_p, yb_p = crear_secuencias(Scaled_Buys, 300,'PuntoCinco')\n",
    "#Xs_p, ys_p= crear_secuencias(Scaled_Sells, 300,'PuntoCinco')\n"
   ]
  },
  {
   "cell_type": "markdown",
   "metadata": {},
   "source": [
    "**PASO 4:**"
   ]
  },
  {
   "cell_type": "code",
   "execution_count": 12,
   "metadata": {},
   "outputs": [],
   "source": [
    "def balancear_clases(X, y, metodo='over', random_state=None):\n",
    "    \"\"\"\n",
    "    Equilibra las clases de un conjunto de datos mediante oversampling o undersampling.\n",
    "    \n",
    "    Parámetros:\n",
    "    - X (np.ndarray): Arreglo de características con forma (num_muestras, longitud_secuencia, num_caracteristicas).\n",
    "    - y (np.ndarray): Arreglo de etiquetas con forma (num_muestras, 1) o (num_muestras,).\n",
    "    - metodo (str): Método de balanceo a utilizar. Puede ser 'over' para oversampling o 'under' para undersampling.\n",
    "    - random_state (int, opcional): Semilla para reproducibilidad.\n",
    "    \n",
    "    Retorna:\n",
    "    - X_balanceado (np.ndarray): Arreglo de características balanceado.\n",
    "    - y_balanceado (np.ndarray): Arreglo de etiquetas balanceado.\n",
    "    \"\"\"\n",
    "    if metodo not in ['over', 'under']:\n",
    "        raise ValueError(\"El parámetro 'metodo' debe ser 'over' o 'under'.\")\n",
    "    \n",
    "    # Asegurar que y sea 1D\n",
    "    y = y.flatten()\n",
    "    \n",
    "    # Obtener los índices de cada clase\n",
    "    clases, conteos = np.unique(y, return_counts=True)\n",
    "    \n",
    "    if len(clases) != 2:\n",
    "        raise ValueError(\"Esta función solo soporta problemas de clasificación binaria.\")\n",
    "    \n",
    "    clase_majoritaria = clases[np.argmax(conteos)]\n",
    "    clase_minoritaria = clases[np.argmin(conteos)]\n",
    "    conteo_majoritaria = np.max(conteos)\n",
    "    conteo_minoritaria = np.min(conteos)\n",
    "    \n",
    "    print(f\"Distribución original de clases: {dict(zip(clases, conteos))}\")\n",
    "    \n",
    "    if conteo_majoritaria == conteo_minoritaria:\n",
    "        print(\"Las clases ya están balanceadas. No se requiere balanceo.\")\n",
    "        return X, y.reshape(-1, 1)\n",
    "    \n",
    "    if metodo == 'over':\n",
    "        # Cálculo de cuántas muestras se necesitan agregar\n",
    "        cantidad_a_agregar = conteo_majoritaria - conteo_minoritaria\n",
    "        print(f\"Aplicando oversampling. Se agregarán {cantidad_a_agregar} muestras a la clase {clase_minoritaria}.\")\n",
    "        \n",
    "        # Obtener los índices de la clase minoritaria\n",
    "        indices_minoritaria = np.where(y == clase_minoritaria)[0]\n",
    "        \n",
    "        # Establecer la semilla para reproducibilidad\n",
    "        if random_state is not None:\n",
    "            np.random.seed(random_state)\n",
    "        \n",
    "        # Elegir aleatoriamente con reemplazo\n",
    "        indices_agregar = np.random.choice(indices_minoritaria, size=cantidad_a_agregar, replace=True)\n",
    "        \n",
    "        # Crear las nuevas muestras\n",
    "        X_agregar = X[indices_agregar]\n",
    "        y_agregar = y[indices_agregar]\n",
    "        \n",
    "        # Concatenar las muestras nuevas con las originales\n",
    "        X_balanceado = np.concatenate([X, X_agregar], axis=0)\n",
    "        y_balanceado = np.concatenate([y, y_agregar], axis=0)\n",
    "    \n",
    "    elif metodo == 'under':\n",
    "        # Cálculo de cuántas muestras se deben eliminar\n",
    "        cantidad_a_eliminar = conteo_majoritaria - conteo_minoritaria\n",
    "        print(f\"Aplicando undersampling. Se eliminarán {cantidad_a_eliminar} muestras de la clase {clase_majoritaria}.\")\n",
    "        \n",
    "        # Obtener los índices de la clase majoritaria\n",
    "        indices_majoritaria = np.where(y == clase_majoritaria)[0]\n",
    "        \n",
    "        # Establecer la semilla para reproducibilidad\n",
    "        if random_state is not None:\n",
    "            np.random.seed(random_state)\n",
    "        \n",
    "        # Elegir aleatoriamente sin reemplazo\n",
    "        indices_eliminar = np.random.choice(indices_majoritaria, size=cantidad_a_eliminar, replace=False)\n",
    "        \n",
    "        # Crear una máscara para mantener las muestras no eliminadas\n",
    "        mascara = np.ones(len(y), dtype=bool)\n",
    "        mascara[indices_eliminar] = False\n",
    "        \n",
    "        # Aplicar la máscara\n",
    "        X_balanceado = X[mascara]\n",
    "        y_balanceado = y[mascara]\n",
    "    \n",
    "    # Mezclar las muestras balanceadas para evitar cualquier sesgo de orden\n",
    "    if metodo == 'over':\n",
    "        # Solo en oversampling se agregan nuevas muestras, por lo que es útil mezclar\n",
    "        indices_mezclar = np.arange(len(y_balanceado))\n",
    "        np.random.shuffle(indices_mezclar)\n",
    "        X_balanceado = X_balanceado[indices_mezclar]\n",
    "        y_balanceado = y_balanceado[indices_mezclar]\n",
    "    \n",
    "    print(f\"Distribución de clases después del balanceo: {dict(zip(*np.unique(y_balanceado, return_counts=True)))}\")\n",
    "    \n",
    "    return X_balanceado, y_balanceado.reshape(-1, 1)"
   ]
  },
  {
   "cell_type": "markdown",
   "metadata": {},
   "source": [
    "Apliquemos **Undersampling**"
   ]
  },
  {
   "cell_type": "code",
   "execution_count": 15,
   "metadata": {},
   "outputs": [
    {
     "name": "stdout",
     "output_type": "stream",
     "text": [
      "Distribución original de clases: {0.0: 48677, 1.0: 8537}\n",
      "Aplicando undersampling. Se eliminarán 40140 muestras de la clase 0.0.\n",
      "Distribución de clases después del balanceo: {0.0: 8537, 1.0: 8537}\n",
      "\n",
      "Distribución original de clases: {0.0: 48875, 1.0: 8339}\n",
      "Aplicando undersampling. Se eliminarán 40536 muestras de la clase 0.0.\n",
      "Distribución de clases después del balanceo: {0.0: 8339, 1.0: 8339}\n"
     ]
    }
   ],
   "source": [
    "Xb_t_under,yb_t_under = balancear_clases(Xb_t, yb_t, metodo='under', random_state=None)\n",
    "print()\n",
    "Xs_t_under,ys_t_under = balancear_clases(Xs_t, ys_t, metodo='under', random_state=None)"
   ]
  },
  {
   "cell_type": "markdown",
   "metadata": {},
   "source": [
    "**PASO 5:**"
   ]
  },
  {
   "cell_type": "code",
   "execution_count": 16,
   "metadata": {},
   "outputs": [],
   "source": [
    "#----------------------------------------PASO 5:--------------------------------------------\n",
    "#----------------------------------------MODELO RATIO 1/3--------------------------------------------\n",
    "Xbt_train, Xbt_val, ybt_train, ybt_val = train_test_split(Xb_t_under, yb_t_under, test_size=0.25, random_state=42, shuffle=False)\n",
    "Xst_train, Xst_val, yst_train, yst_val = train_test_split(Xs_t_under, ys_t_under, test_size=0.25, random_state=42, shuffle=False)\n",
    "#----------------------------------------MODELO RATIO 1/2--------------------------------------------\n",
    "#Xbd_train, Xbd_val, ybd_train, ybd_val = train_test_split(Xb_d, yb_d, test_size=0.25, random_state=42, shuffle=False)\n",
    "#Xsd_train, Xsd_val, ysd_train, ysd_val = train_test_split(Xs_d, ys_d, test_size=0.25, random_state=42, shuffle=False)\n",
    "#----------------------------------------MODELO RATIO 1/1.5--------------------------------------------\n",
    "#Xbp_train, Xbp_val, ybp_train, ybp_val = train_test_split(Xb_p, yb_p, test_size=0.25, random_state=42, shuffle=False)\n",
    "#Xsp_train, Xsp_val, ysp_train, ysp_val = train_test_split(Xs_p, ys_p, test_size=0.25, random_state=42, shuffle=False)"
   ]
  },
  {
   "cell_type": "code",
   "execution_count": 17,
   "metadata": {},
   "outputs": [
    {
     "data": {
      "text/plain": [
       "array([0.4129225 , 0.41215221, 0.41485048, 0.41248944, 0.00753296,\n",
       "       0.47337278, 0.        , 0.28571429, 1.        ])"
      ]
     },
     "metadata": {},
     "output_type": "display_data"
    },
    {
     "data": {
      "text/plain": [
       "array([0.])"
      ]
     },
     "metadata": {},
     "output_type": "display_data"
    },
    {
     "name": "stdout",
     "output_type": "stream",
     "text": [
      "Xt_buys shape: (12805, 1)\n"
     ]
    }
   ],
   "source": [
    "display(Xbt_train[0][-1])\n",
    "display(ybt_train[0])\n",
    "print('Xt_buys shape:', ybt_train.shape)"
   ]
  },
  {
   "cell_type": "markdown",
   "metadata": {},
   "source": [
    "**ENTRENAMIENTO DEL MODELO**"
   ]
  },
  {
   "cell_type": "code",
   "execution_count": 20,
   "metadata": {},
   "outputs": [
    {
     "name": "stderr",
     "output_type": "stream",
     "text": [
      "c:\\Users\\User\\AppData\\Local\\Programs\\Python\\Python312\\Lib\\site-packages\\keras\\src\\layers\\rnn\\rnn.py:204: UserWarning: Do not pass an `input_shape`/`input_dim` argument to a layer. When using Sequential models, prefer using an `Input(shape)` object as the first layer in the model instead.\n",
      "  super().__init__(**kwargs)\n"
     ]
    },
    {
     "name": "stdout",
     "output_type": "stream",
     "text": [
      "Epoch 1/5\n",
      "\u001b[1m401/401\u001b[0m \u001b[32m━━━━━━━━━━━━━━━━━━━━\u001b[0m\u001b[37m\u001b[0m \u001b[1m84s\u001b[0m 202ms/step - accuracy: 0.5608 - loss: 0.6821 - val_accuracy: 0.5053 - val_loss: 0.6899\n",
      "Epoch 2/5\n",
      "\u001b[1m401/401\u001b[0m \u001b[32m━━━━━━━━━━━━━━━━━━━━\u001b[0m\u001b[37m\u001b[0m \u001b[1m79s\u001b[0m 196ms/step - accuracy: 0.5717 - loss: 0.6784 - val_accuracy: 0.6046 - val_loss: 0.6624\n",
      "Epoch 3/5\n",
      "\u001b[1m401/401\u001b[0m \u001b[32m━━━━━━━━━━━━━━━━━━━━\u001b[0m\u001b[37m\u001b[0m \u001b[1m78s\u001b[0m 196ms/step - accuracy: 0.6257 - loss: 0.6539 - val_accuracy: 0.6315 - val_loss: 0.6834\n",
      "Epoch 4/5\n",
      "\u001b[1m401/401\u001b[0m \u001b[32m━━━━━━━━━━━━━━━━━━━━\u001b[0m\u001b[37m\u001b[0m \u001b[1m80s\u001b[0m 199ms/step - accuracy: 0.6144 - loss: 0.6449 - val_accuracy: 0.6102 - val_loss: 0.6495\n",
      "Epoch 5/5\n",
      "\u001b[1m401/401\u001b[0m \u001b[32m━━━━━━━━━━━━━━━━━━━━\u001b[0m\u001b[37m\u001b[0m \u001b[1m81s\u001b[0m 201ms/step - accuracy: 0.6325 - loss: 0.6272 - val_accuracy: 0.6446 - val_loss: 0.6343\n"
     ]
    }
   ],
   "source": [
    "# Definir el modelo\n",
    "model = Sequential()\n",
    "model.add(LSTM(64, input_shape=(Xbt_train.shape[1], Xbt_train.shape[2]), return_sequences=True))\n",
    "model.add(Dropout(0.2))\n",
    "model.add(LSTM(64, return_sequences=True))\n",
    "model.add(Dropout(0.2))\n",
    "model.add(LSTM(64))\n",
    "model.add(Dropout(0.2))\n",
    "model.add(Dense(1, activation='sigmoid'))  # Dado que 'Tres' es binario\n",
    "\n",
    "# Compilar el modelo\n",
    "model.compile(optimizer='adam', loss='binary_crossentropy', metrics=['accuracy'])\n",
    "\n",
    "# Entrenar el modelo\n",
    "history = model.fit(Xbt_train, ybt_train, epochs=5, batch_size=32, validation_data=(Xbt_val, ybt_val))\n"
   ]
  },
  {
   "cell_type": "markdown",
   "metadata": {},
   "source": [
    "## MÉTRICAS"
   ]
  },
  {
   "cell_type": "markdown",
   "metadata": {},
   "source": [
    "**LIBRERIAS**"
   ]
  },
  {
   "cell_type": "code",
   "execution_count": 21,
   "metadata": {},
   "outputs": [],
   "source": [
    "import seaborn as sns\n",
    "from tensorflow.keras.models import load_model  # Si estás cargando un modelo guardado\n",
    "from sklearn.metrics import (\n",
    "    accuracy_score,\n",
    "    precision_score,\n",
    "    recall_score,\n",
    "    f1_score,\n",
    "    roc_auc_score,\n",
    "    confusion_matrix,\n",
    "    roc_curve,\n",
    "    classification_report\n",
    ")"
   ]
  },
  {
   "cell_type": "markdown",
   "metadata": {},
   "source": [
    "**CARGA DEL MODELO**"
   ]
  },
  {
   "cell_type": "code",
   "execution_count": 22,
   "metadata": {},
   "outputs": [],
   "source": [
    "#model=load_model('modelos/BuyTres.keras', compile=False)"
   ]
  },
  {
   "cell_type": "markdown",
   "metadata": {},
   "source": [
    "Realizar Predicciones\n",
    "- Las predicciones se realizarán con el dataset desbalanceado con el objetivo de probar si el modelo no está prediciendo aleatoriamente."
   ]
  },
  {
   "cell_type": "code",
   "execution_count": 36,
   "metadata": {},
   "outputs": [
    {
     "name": "stdout",
     "output_type": "stream",
     "text": [
      "\u001b[1m1788/1788\u001b[0m \u001b[32m━━━━━━━━━━━━━━━━━━━━\u001b[0m\u001b[37m\u001b[0m \u001b[1m103s\u001b[0m 58ms/step\n"
     ]
    }
   ],
   "source": [
    "# -----------------------------------------------------\n",
    "# 1. Realizar Predicciones\n",
    "# -----------------------------------------------------\n",
    "\n",
    "# Obtener las predicciones de probabilidad\n",
    "y_pred_prob = BuyTres.predict(Xb_t)\n",
    "\n",
    "# Convertir las predicciones de probabilidad a clases binarias (0 o 1) usando un umbral de 0.5\n",
    "y_pred = (y_pred_prob >= 0.5).astype(int).reshape(-1)\n",
    "\n",
    "# Asegurarse de que ybt_val también esté en formato 1D\n",
    "y_true = yb_t.reshape(-1)"
   ]
  },
  {
   "cell_type": "markdown",
   "metadata": {},
   "source": [
    "Calcular las Métricas"
   ]
  },
  {
   "cell_type": "code",
   "execution_count": 37,
   "metadata": {},
   "outputs": [],
   "source": [
    "# -----------------------------------------------------\n",
    "# 2. Calcular las Métricas\n",
    "# -----------------------------------------------------\n",
    "\n",
    "accuracy = accuracy_score(y_true, y_pred)\n",
    "precision = precision_score(y_true, y_pred, zero_division=0)\n",
    "recall = recall_score(y_true, y_pred, zero_division=0)\n",
    "f1 = f1_score(y_true, y_pred, zero_division=0)\n",
    "auc_roc = roc_auc_score(y_true, y_pred_prob)\n",
    "\n",
    "# Obtener la matriz de confusión\n",
    "conf_matrix = confusion_matrix(y_true, y_pred)\n",
    "\n",
    "# Generar el reporte de clasificación\n",
    "class_report = classification_report(y_true, y_pred, digits=4)"
   ]
  },
  {
   "cell_type": "markdown",
   "metadata": {},
   "source": [
    "Presentar las Métricas"
   ]
  },
  {
   "cell_type": "code",
   "execution_count": 38,
   "metadata": {},
   "outputs": [
    {
     "name": "stdout",
     "output_type": "stream",
     "text": [
      "### Reporte de Métricas ###\n",
      "\n",
      "                 Métrica     Valor\n",
      "0   Exactitud (Accuracy)  0.534030\n",
      "1  Precisión (Precision)  0.213507\n",
      "2  Sensibilidad (Recall)  0.791027\n",
      "3               F1-Score  0.336255\n",
      "4                AUC-ROC  0.690789\n",
      "\n",
      "### Reporte de Clasificación ###\n",
      "\n",
      "              precision    recall  f1-score   support\n",
      "\n",
      "         0.0     0.9303    0.4890    0.6410     48677\n",
      "         1.0     0.2135    0.7910    0.3363      8537\n",
      "\n",
      "    accuracy                         0.5340     57214\n",
      "   macro avg     0.5719    0.6400    0.4886     57214\n",
      "weighted avg     0.8233    0.5340    0.5955     57214\n",
      "\n"
     ]
    }
   ],
   "source": [
    "# -----------------------------------------------------\n",
    "# 3. Presentar las Métricas\n",
    "# -----------------------------------------------------\n",
    "# Crear un DataFrame para las métricas\n",
    "metrics_df = pd.DataFrame({\n",
    "    'Métrica': ['Exactitud (Accuracy)', 'Precisión (Precision)', \n",
    "                'Sensibilidad (Recall)', 'F1-Score', 'AUC-ROC'],\n",
    "    'Valor': [accuracy, precision, recall, f1, auc_roc]\n",
    "    })\n",
    "print(\"### Reporte de Métricas ###\\n\")\n",
    "print(metrics_df)\n",
    "print(\"\\n### Reporte de Clasificación ###\\n\")\n",
    "print(class_report)"
   ]
  },
  {
   "cell_type": "markdown",
   "metadata": {},
   "source": [
    "Generar los Gráficos"
   ]
  },
  {
   "cell_type": "code",
   "execution_count": 39,
   "metadata": {},
   "outputs": [
    {
     "data": {
      "image/png": "[encoded data removed]",
      "text/plain": [
       "<Figure size 700x500 with 1 Axes>"
      ]
     },
     "metadata": {},
     "output_type": "display_data"
    },
    {
     "data": {
      "image/png": "[encoded data removed]",
      "text/plain": [
       "<Figure size 600x500 with 2 Axes>"
      ]
     },
     "metadata": {},
     "output_type": "display_data"
    }
   ],
   "source": [
    "# -----------------------------------------------------\n",
    "# 4. Generar los Gráficos\n",
    "# -----------------------------------------------------\n",
    "# Configuración general de los gráficos\n",
    "sns.set(style='whitegrid', palette='muted', font_scale=1.2)\n",
    "\n",
    "# a) Curva ROC\n",
    "fpr, tpr, thresholds = roc_curve(y_true, y_pred_prob)\n",
    "\n",
    "plt.figure(figsize=(7, 5))\n",
    "plt.plot(fpr, tpr, color='blue', label=f'AUC = {auc_roc:.4f}')\n",
    "plt.plot([0, 1], [0, 1], color='red', linestyle='--')\n",
    "plt.title('Curva ROC')\n",
    "plt.xlabel('Tasa de Falsos Positivos (FPR)')\n",
    "plt.ylabel('Tasa de Verdaderos Positivos (TPR)')\n",
    "plt.legend(loc='lower right')\n",
    "plt.tight_layout()\n",
    "plt.show()\n",
    "\n",
    "# b) Matriz de Confusión\n",
    "plt.figure(figsize=(6, 5))\n",
    "sns.heatmap(conf_matrix, annot=True, fmt='d', cmap='Blues', \n",
    "            xticklabels=['Predicción 0', 'Predicción 1'],\n",
    "            yticklabels=['Real 0', 'Real 1'])\n",
    "plt.title('Matriz de Confusión')\n",
    "plt.ylabel('Clase Real')\n",
    "plt.xlabel('Clase Predicha')\n",
    "plt.tight_layout()\n",
    "plt.show()\n"
   ]
  },
  {
   "cell_type": "markdown",
   "metadata": {},
   "source": [
    "### **INFROME FINAL 'PORYECTO PARTE 1':**  \n",
    "Este proyecto buscó llevar la **US30.Cash_strategy** (estrategia privada) a una estrategia automatizada. Para esto:\n",
    "\n",
    "Se siguieron los siguientes procesos:\n",
    "\n",
    "### **Recolección de datos:** \n",
    "\n",
    "Los datos fueron extraídos de una plataforma confiable por medio de MetaTrader 5.\n",
    "\n",
    "### **Limpieza de datos:**\n",
    "\n",
    "Los datos estaban en perfecto estado, ya que su fuente es finamente programada para evitar duplicados, valores nulos, etc. Los datos estaban limpios.\n",
    "\n",
    "### **Transformación de datos:**\n",
    "\n",
    "Se realizó **ingeniería de características** transformando la columna de tiempo a la zona horaria de mi país.  \n",
    "Se eliminaron observaciones con registro en horas desde las 15H hasta las 24H.  \n",
    "Durante la transformación de estos datos, fue necesario hacer un análisis y visualización previa, donde se notaron algunos puntos en la naturaleza de los datos:\n",
    "- **Cierres programados:** No todos los días el mercado está abierto.\n",
    "- **Descontinuación en el tiempo y en el precio:** No todos los días se cuentan las mismas velas (causa: cierres no programados del mercado).\n",
    "\n",
    "**Acciones tomadas:**\n",
    "- Descarte del primer y último día (razón: evitar complicar la descarga de datos).\n",
    "- Se agregaron 4 columnas: \n",
    "  - (Buy: 0-venta, 1-compra)\n",
    "  - (Tres: 0-pérdida, 1-ganada)\n",
    "  - (Dos: 0-pérdida, 1-ganada)\n",
    "  - (PuntoCinco: 0-pérdida, 1-ganada)\n",
    "- Obtenemos 2 dataframes (Buys=1) y (Buys=0).\n",
    "- Se normalizaron los datos en ambos DataFrames.\n",
    "- Se crearon secuencias de los datos con 300 observaciones cada una.\n",
    "\n",
    "### **Muestreo o equilibrio de datos:**\n",
    "- Se notó un desbalance de clases en los datos donde la clase 0 predominaba con más de 12 veces la clase 1.\n",
    "- Se realizó oversampling y undersampling.\n",
    "\n",
    "### **División del conjunto de datos:**\n",
    "Se dividieron los datos en conjunto de entrenamiento y validación en una proporción 75/25.\n",
    "\n",
    "### **Selección de modelo y ajuste:**\n",
    "Se creó un modelo basado en redes neuronales recurrentes profundas con tres capas de 64 neuronas cada una,  \n",
    "una capa intermedia de Dropout (0.2), y una última capa densa de 1 neurona para generar la predicción con  \n",
    "función de activación 'sigmoid'.  \n",
    "Se compiló el modelo usando la función de pérdida `loss='binary_crossentropy'`.  \n",
    "Se entrenó el modelo usando 5 épocas y un `batch_size=32`.  \n",
    "El dataset de entrenamiento con undersampling contenía 16,678 secuencias de 300 observaciones cada una.  \n",
    "El dataset de entrenamiento con oversampling contenía 97,354 secuencias de 300 observaciones.  \n",
    "Cada secuencia tenía su respectivo target.\n",
    "\n",
    "\n",
    "### **Métricas del modelo:**\n",
    "El entrenamiento devolvió un modelo con:<br>\n",
    "accuracy: 0.6325 - loss: 0.6272 - val_accuracy: 0.6446 - val_loss: 0.6343<br>\n",
    "Sin embargo, con la muestra desbalanceada se obtuvo:\n",
    "\n",
    "| N°  | Métrica              | Valor    |\n",
    "|-----|----------------------|----------|\n",
    "| 0   | Exactitud (Accuracy)  | 0.534030 |\n",
    "| 1   | Precisión (Precision) | 0.213507 |\n",
    "| 2   | Sensibilidad (Recall) | 0.791027 |\n",
    "| 3   | F1-Score              | 0.336255 |\n",
    "| 4   | AUC-ROC               | 0.690789 |\n",
    "\n",
    "En la matriz de confusión se obtuvo:\n",
    "\n",
    "|        | Predicción 0 | Predicción 1 |\n",
    "|--------|--------------|--------------|\n",
    "| Real 0 | 23,801       | 24,876       | \n",
    "| Real 1 | 1,784        | 6,753        |\n",
    "\n",
    "### **Conclusión**\n",
    "Este proyecto ha seguido un proceso largo en busca de preaparar los datos para crear un modelo funcional que genere predicciones de calidad en base a los objetivos propuestos, sin embargo esto no se ha logrado en esta parte del proyecto, durante las proximas versiones se actualizará el metodo en el que se aborda el problema partiendo desde lo analazado y conseguido en este.\n",
    "\n",
    "### **Notas:**\n",
    "- El entrenamiento del modelo con el dataset completo es computacionalmente muy costoso (40 minutos de entrenamiento). Es recomendable reducir la cantidad de observaciones por secuencia, buscando una forma de incluir información del resto de observaciones de forma implícita en el nuevo número reducido de observaciones en nuevas columnas características. Estas pueden contener algún indicador técnico.  \n",
    "Para reducir el tiempo de entrenamiento también se pueden eliminar columnas características menos trascendentes.\n",
    "\n",
    "\n"
   ]
  }
 ],
 "metadata": {
  "kernelspec": {
   "display_name": "Python 3",
   "language": "python",
   "name": "python3"
  },
  "language_info": {
   "codemirror_mode": {
    "name": "ipython",
    "version": 3
   },
   "file_extension": ".py",
   "mimetype": "text/x-python",
   "name": "python",
   "nbconvert_exporter": "python",
   "pygments_lexer": "ipython3",
   "version": "3.12.6"
  }
 },
 "nbformat": 4,
 "nbformat_minor": 2
}
